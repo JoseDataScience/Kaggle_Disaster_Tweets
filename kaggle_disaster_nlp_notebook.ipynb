{
 "cells": [
  {
   "cell_type": "markdown",
   "id": "d7afd8df-64ad-478a-87e2-13d497cfecc7",
   "metadata": {},
   "source": [
    "# A notebook for the Kaggle NLP competition\n",
    "Competition Page: https://www.kaggle.com/competitions/nlp-getting-started/data?select=test.csv\n",
    "\n",
    "Mostly following the tutorial: https://www.kaggle.com/code/philculliton/nlp-getting-started-tutorial/notebook"
   ]
  },
  {
   "cell_type": "markdown",
   "id": "6df0cea4-b30f-44b4-b89d-dc5e22d389f7",
   "metadata": {},
   "source": [
    "## Importing things"
   ]
  },
  {
   "cell_type": "markdown",
   "id": "07353d90-ce11-45d1-b13b-7e5eae6af6ab",
   "metadata": {
    "tags": []
   },
   "source": [
    "### Importing libraries"
   ]
  },
  {
   "cell_type": "code",
   "execution_count": 1,
   "id": "08d2e4f2-e501-49cd-aee7-df091eef6d89",
   "metadata": {
    "tags": []
   },
   "outputs": [],
   "source": [
    "import numpy as np # linear algebra\n",
    "import pandas as pd # data processing, CSV file I/O (e.g. pd.read_csv)\n",
    "from sklearn import feature_extraction, linear_model, model_selection, preprocessing, metrics\n",
    "from sklearn.model_selection import train_test_split\n",
    "\n",
    "import torch\n",
    "import torch.nn as nn"
   ]
  },
  {
   "cell_type": "markdown",
   "id": "92d5689d-f529-4953-a269-0b50b3860156",
   "metadata": {},
   "source": [
    "### Importing the training set and saving it as train_df"
   ]
  },
  {
   "cell_type": "code",
   "execution_count": 2,
   "id": "09a0308b-d63d-4647-ba1b-5828136d7a24",
   "metadata": {},
   "outputs": [
    {
     "data": {
      "text/html": [
       "<div>\n",
       "<style scoped>\n",
       "    .dataframe tbody tr th:only-of-type {\n",
       "        vertical-align: middle;\n",
       "    }\n",
       "\n",
       "    .dataframe tbody tr th {\n",
       "        vertical-align: top;\n",
       "    }\n",
       "\n",
       "    .dataframe thead th {\n",
       "        text-align: right;\n",
       "    }\n",
       "</style>\n",
       "<table border=\"1\" class=\"dataframe\">\n",
       "  <thead>\n",
       "    <tr style=\"text-align: right;\">\n",
       "      <th></th>\n",
       "      <th>location</th>\n",
       "      <th>text</th>\n",
       "      <th>target</th>\n",
       "    </tr>\n",
       "    <tr>\n",
       "      <th>id</th>\n",
       "      <th></th>\n",
       "      <th></th>\n",
       "      <th></th>\n",
       "    </tr>\n",
       "  </thead>\n",
       "  <tbody>\n",
       "    <tr>\n",
       "      <th>1</th>\n",
       "      <td>NaN</td>\n",
       "      <td>Our Deeds are the Reason of this #earthquake M...</td>\n",
       "      <td>1</td>\n",
       "    </tr>\n",
       "    <tr>\n",
       "      <th>4</th>\n",
       "      <td>NaN</td>\n",
       "      <td>Forest fire near La Ronge Sask. Canada</td>\n",
       "      <td>1</td>\n",
       "    </tr>\n",
       "    <tr>\n",
       "      <th>5</th>\n",
       "      <td>NaN</td>\n",
       "      <td>All residents asked to 'shelter in place' are ...</td>\n",
       "      <td>1</td>\n",
       "    </tr>\n",
       "    <tr>\n",
       "      <th>6</th>\n",
       "      <td>NaN</td>\n",
       "      <td>13,000 people receive #wildfires evacuation or...</td>\n",
       "      <td>1</td>\n",
       "    </tr>\n",
       "    <tr>\n",
       "      <th>7</th>\n",
       "      <td>NaN</td>\n",
       "      <td>Just got sent this photo from Ruby #Alaska as ...</td>\n",
       "      <td>1</td>\n",
       "    </tr>\n",
       "    <tr>\n",
       "      <th>...</th>\n",
       "      <td>...</td>\n",
       "      <td>...</td>\n",
       "      <td>...</td>\n",
       "    </tr>\n",
       "    <tr>\n",
       "      <th>10869</th>\n",
       "      <td>NaN</td>\n",
       "      <td>Two giant cranes holding a bridge collapse int...</td>\n",
       "      <td>1</td>\n",
       "    </tr>\n",
       "    <tr>\n",
       "      <th>10870</th>\n",
       "      <td>NaN</td>\n",
       "      <td>@aria_ahrary @TheTawniest The out of control w...</td>\n",
       "      <td>1</td>\n",
       "    </tr>\n",
       "    <tr>\n",
       "      <th>10871</th>\n",
       "      <td>NaN</td>\n",
       "      <td>M1.94 [01:04 UTC]?5km S of Volcano Hawaii. htt...</td>\n",
       "      <td>1</td>\n",
       "    </tr>\n",
       "    <tr>\n",
       "      <th>10872</th>\n",
       "      <td>NaN</td>\n",
       "      <td>Police investigating after an e-bike collided ...</td>\n",
       "      <td>1</td>\n",
       "    </tr>\n",
       "    <tr>\n",
       "      <th>10873</th>\n",
       "      <td>NaN</td>\n",
       "      <td>The Latest: More Homes Razed by Northern Calif...</td>\n",
       "      <td>1</td>\n",
       "    </tr>\n",
       "  </tbody>\n",
       "</table>\n",
       "<p>7613 rows × 3 columns</p>\n",
       "</div>"
      ],
      "text/plain": [
       "      location                                               text  target\n",
       "id                                                                       \n",
       "1          NaN  Our Deeds are the Reason of this #earthquake M...       1\n",
       "4          NaN             Forest fire near La Ronge Sask. Canada       1\n",
       "5          NaN  All residents asked to 'shelter in place' are ...       1\n",
       "6          NaN  13,000 people receive #wildfires evacuation or...       1\n",
       "7          NaN  Just got sent this photo from Ruby #Alaska as ...       1\n",
       "...        ...                                                ...     ...\n",
       "10869      NaN  Two giant cranes holding a bridge collapse int...       1\n",
       "10870      NaN  @aria_ahrary @TheTawniest The out of control w...       1\n",
       "10871      NaN  M1.94 [01:04 UTC]?5km S of Volcano Hawaii. htt...       1\n",
       "10872      NaN  Police investigating after an e-bike collided ...       1\n",
       "10873      NaN  The Latest: More Homes Razed by Northern Calif...       1\n",
       "\n",
       "[7613 rows x 3 columns]"
      ]
     },
     "execution_count": 2,
     "metadata": {},
     "output_type": "execute_result"
    }
   ],
   "source": [
    "train_df = pd.read_csv('train.csv', index_col= 0)\n",
    "train_df.drop(\"keyword\", axis= 1, inplace = True) #Dropping keyword because I want to the model to pick up on keywords\n",
    "train_df"
   ]
  },
  {
   "cell_type": "markdown",
   "id": "5797c75c-06f2-4431-b4db-732159732cb7",
   "metadata": {},
   "source": [
    "### Importing test set just like the training set"
   ]
  },
  {
   "cell_type": "code",
   "execution_count": 3,
   "id": "fd7d061b-069c-468c-a1b4-6c6eeb35f661",
   "metadata": {
    "tags": []
   },
   "outputs": [
    {
     "data": {
      "text/html": [
       "<div>\n",
       "<style scoped>\n",
       "    .dataframe tbody tr th:only-of-type {\n",
       "        vertical-align: middle;\n",
       "    }\n",
       "\n",
       "    .dataframe tbody tr th {\n",
       "        vertical-align: top;\n",
       "    }\n",
       "\n",
       "    .dataframe thead th {\n",
       "        text-align: right;\n",
       "    }\n",
       "</style>\n",
       "<table border=\"1\" class=\"dataframe\">\n",
       "  <thead>\n",
       "    <tr style=\"text-align: right;\">\n",
       "      <th></th>\n",
       "      <th>location</th>\n",
       "      <th>text</th>\n",
       "    </tr>\n",
       "    <tr>\n",
       "      <th>id</th>\n",
       "      <th></th>\n",
       "      <th></th>\n",
       "    </tr>\n",
       "  </thead>\n",
       "  <tbody>\n",
       "    <tr>\n",
       "      <th>0</th>\n",
       "      <td>NaN</td>\n",
       "      <td>Just happened a terrible car crash</td>\n",
       "    </tr>\n",
       "    <tr>\n",
       "      <th>2</th>\n",
       "      <td>NaN</td>\n",
       "      <td>Heard about #earthquake is different cities, s...</td>\n",
       "    </tr>\n",
       "    <tr>\n",
       "      <th>3</th>\n",
       "      <td>NaN</td>\n",
       "      <td>there is a forest fire at spot pond, geese are...</td>\n",
       "    </tr>\n",
       "    <tr>\n",
       "      <th>9</th>\n",
       "      <td>NaN</td>\n",
       "      <td>Apocalypse lighting. #Spokane #wildfires</td>\n",
       "    </tr>\n",
       "    <tr>\n",
       "      <th>11</th>\n",
       "      <td>NaN</td>\n",
       "      <td>Typhoon Soudelor kills 28 in China and Taiwan</td>\n",
       "    </tr>\n",
       "    <tr>\n",
       "      <th>...</th>\n",
       "      <td>...</td>\n",
       "      <td>...</td>\n",
       "    </tr>\n",
       "    <tr>\n",
       "      <th>10861</th>\n",
       "      <td>NaN</td>\n",
       "      <td>EARTHQUAKE SAFETY LOS ANGELES ÛÒ SAFETY FASTE...</td>\n",
       "    </tr>\n",
       "    <tr>\n",
       "      <th>10865</th>\n",
       "      <td>NaN</td>\n",
       "      <td>Storm in RI worse than last hurricane. My city...</td>\n",
       "    </tr>\n",
       "    <tr>\n",
       "      <th>10868</th>\n",
       "      <td>NaN</td>\n",
       "      <td>Green Line derailment in Chicago http://t.co/U...</td>\n",
       "    </tr>\n",
       "    <tr>\n",
       "      <th>10874</th>\n",
       "      <td>NaN</td>\n",
       "      <td>MEG issues Hazardous Weather Outlook (HWO) htt...</td>\n",
       "    </tr>\n",
       "    <tr>\n",
       "      <th>10875</th>\n",
       "      <td>NaN</td>\n",
       "      <td>#CityofCalgary has activated its Municipal Eme...</td>\n",
       "    </tr>\n",
       "  </tbody>\n",
       "</table>\n",
       "<p>3263 rows × 2 columns</p>\n",
       "</div>"
      ],
      "text/plain": [
       "      location                                               text\n",
       "id                                                               \n",
       "0          NaN                 Just happened a terrible car crash\n",
       "2          NaN  Heard about #earthquake is different cities, s...\n",
       "3          NaN  there is a forest fire at spot pond, geese are...\n",
       "9          NaN           Apocalypse lighting. #Spokane #wildfires\n",
       "11         NaN      Typhoon Soudelor kills 28 in China and Taiwan\n",
       "...        ...                                                ...\n",
       "10861      NaN  EARTHQUAKE SAFETY LOS ANGELES ÛÒ SAFETY FASTE...\n",
       "10865      NaN  Storm in RI worse than last hurricane. My city...\n",
       "10868      NaN  Green Line derailment in Chicago http://t.co/U...\n",
       "10874      NaN  MEG issues Hazardous Weather Outlook (HWO) htt...\n",
       "10875      NaN  #CityofCalgary has activated its Municipal Eme...\n",
       "\n",
       "[3263 rows x 2 columns]"
      ]
     },
     "execution_count": 3,
     "metadata": {},
     "output_type": "execute_result"
    }
   ],
   "source": [
    "test_df = pd.read_csv('test.csv', index_col= 0)\n",
    "test_df.drop(\"keyword\", axis= 1, inplace = True) #Dropping keyword because I want to the model to pick up on keywords\n",
    "test_df"
   ]
  },
  {
   "cell_type": "markdown",
   "id": "d7f97fb0-2361-49fa-b32e-252da9e32c1e",
   "metadata": {},
   "source": [
    "## Done with importing and now doing pre-processing for training"
   ]
  },
  {
   "cell_type": "markdown",
   "id": "f5048e90-73b5-4f56-9f21-c5d4931193e9",
   "metadata": {},
   "source": [
    "### Now we need to tokenize the text so that it can be processed by machine learning algorithms\n",
    "We are doing this from scratch by using CountVectorizer from sklearn.\n",
    "It works by being given a list of texts in fit_transform(). It then associates each unique word to a number and then keeps track of which words (tokens) appeared in a string and how many times. Different settings are available but just using the default ones."
   ]
  },
  {
   "cell_type": "code",
   "execution_count": 4,
   "id": "2bac41d0-7506-4854-b7a7-ac39e6f368de",
   "metadata": {},
   "outputs": [
    {
     "data": {
      "text/plain": [
       "<7613x21637 sparse matrix of type '<class 'numpy.int64'>'\n",
       "\twith 111497 stored elements in Compressed Sparse Row format>"
      ]
     },
     "execution_count": 4,
     "metadata": {},
     "output_type": "execute_result"
    }
   ],
   "source": [
    "count_vectorizer = feature_extraction.text.CountVectorizer()\n",
    "\n",
    "# Using fit transform to \"train\" the tokenizer on our training set\n",
    "train_vectors = count_vectorizer.fit_transform(train_df[\"text\"])\n",
    "\n",
    "# Using just \"transform\" because we don't want to add new tokens not present in the original tokenization. This will give us a list of the strings\n",
    "# as their tokenized versions (essentially as vectors marking whether or not a given token is present in the text)\n",
    "test_vectors = count_vectorizer.transform(test_df[\"text\"])\n",
    "\n",
    "train_vectors"
   ]
  },
  {
   "cell_type": "markdown",
   "id": "56cb19f1-ccfc-499d-bd6b-8348ee625cf8",
   "metadata": {},
   "source": [
    "### We are using Ridge Regression.\n",
    "Because \"Our vectors are really big, so we want to push our model's weightstoward 0 without completely discounting different words\"\n",
    "This is because there are 20,000+ tokens (their presence, i.e. 0 or 1, is the variables) but less than 8,000 samples (each tweet) to train on.\n",
    "So we need certain weights to drop to 0 and ridge regression is a way to do that in a linear model."
   ]
  },
  {
   "cell_type": "code",
   "execution_count": 5,
   "id": "da718d53-559e-440d-ab6d-2c2b314c0f0c",
   "metadata": {
    "tags": []
   },
   "outputs": [],
   "source": [
    "clf = linear_model.RidgeClassifier()"
   ]
  },
  {
   "cell_type": "markdown",
   "id": "9e36e209-dd3e-45d1-b929-48c0e8772e01",
   "metadata": {},
   "source": [
    "### We are using CV (cross validation) to train and test how well the model fits.\n",
    "cross_val_score is doing the training using clf (the Ridge Classifier), with train_vectors as the inputs, and train_df as the outputs.\n",
    "We can change the number of CVs being done by changing \"cv\", and scoring is the metric being used to score the overall results per CV.\n",
    "\n",
    "The F1 metric is a good metric when the number of positives and negatives are balanced, and in this case there's 57% positives and 43% negatives so it's an acceptable metric. \n",
    "\n",
    "The F1 metric is the harmonic mean between the Precision and Recall. \n",
    "\n",
    "Precision is the number of TRUE positives predicted divided by the total number of predicted positives. In other words, how precise was it when it guessed something was positive.\n",
    "\n",
    "Recall is the number of TRUE positives divided by the total number of positives. In other words, how good was it at \"recalling\" the actual positives.\n",
    "\n",
    "I believe it uses the harmonic mean because it essentially works to penalize preferring one over the other. You get a lower score the farther apart the two scores are. Consider these examples: F1(0.5,0.5) = 0.5 but F1(0.25, 0.75) =  0.375 and F1(0.1, 0.9) = 0.18 despite all having the same arithmetic mean. It encourages learning a good fit that works for recall and precision. \n",
    "\n",
    "Note that an imbalance like having 5 positives to 95 negatives would make the F1 score less reliable F1 scores are mostly a metric determining how good a model is at determining positives. A high F1 might not necessarily mean it's a good model at determining negatives and a low F1 might be good at determining negatives. This is less drastic when there's an equal balance."
   ]
  },
  {
   "cell_type": "code",
   "execution_count": 6,
   "id": "0288c51e-ec0b-424b-be3a-1dd03ea420c5",
   "metadata": {
    "tags": []
   },
   "outputs": [
    {
     "data": {
      "text/plain": [
       "array([0.6025641 , 0.50168919, 0.56985004, 0.50781969, 0.67275495])"
      ]
     },
     "execution_count": 6,
     "metadata": {},
     "output_type": "execute_result"
    }
   ],
   "source": [
    "scores = model_selection.cross_val_score(clf, train_vectors, train_df[\"target\"], cv=5, scoring=\"f1\")\n",
    "scores"
   ]
  },
  {
   "cell_type": "code",
   "execution_count": 7,
   "id": "0f44906a-b62a-486c-9905-bc89b9c981e7",
   "metadata": {
    "tags": []
   },
   "outputs": [
    {
     "data": {
      "text/plain": [
       "0.5703402075397347"
      ]
     },
     "execution_count": 7,
     "metadata": {},
     "output_type": "execute_result"
    }
   ],
   "source": [
    "len(train_df[train_df[\"target\"] == 0])/len(train_df) \n",
    "#Looking at the proportion of disaster to non-disaster tweets. 57% are NOT about disasters and 43% are."
   ]
  },
  {
   "cell_type": "code",
   "execution_count": 8,
   "id": "cf0f686e-737a-4826-906c-1fd65639bb8d",
   "metadata": {
    "tags": []
   },
   "outputs": [
    {
     "name": "stdout",
     "output_type": "stream",
     "text": [
      "Average baseline F1 (randomly guessing) is: 0.4611921954241734\n",
      "Average F1 using our simple model is: 0.5709355930313303\n"
     ]
    }
   ],
   "source": [
    "from random import random\n",
    "def rand_pred(data):\n",
    "    ans = [0] * len(data)\n",
    "    for i in range(len(data)):\n",
    "        r = random()\n",
    "        if r > 0.5:\n",
    "            ans[i] = 0\n",
    "        else:\n",
    "            ans[i] = 1\n",
    "    return ans\n",
    "\n",
    "temp = 0\n",
    "for i in range(100):\n",
    "    temp += metrics.f1_score(train_df[\"target\"], rand_pred(train_df[\"target\"]))\n",
    "print(\"Average baseline F1 (randomly guessing) is:\", temp/100)\n",
    "\n",
    "print(\"Average F1 using our simple model is:\", scores.mean())"
   ]
  },
  {
   "cell_type": "markdown",
   "id": "3ebfbaf0-f7e4-4900-aeef-40227b55a005",
   "metadata": {},
   "source": [
    "#### The mean F1 for our simple model is 0.57 which is quite poor when our mean baseline is 0.46 with random guessing. Meaning there's room for improvement."
   ]
  },
  {
   "cell_type": "markdown",
   "id": "4fb6ab3a-43d5-4184-9df2-648236e62d15",
   "metadata": {},
   "source": [
    "# Doing my own independent analysis"
   ]
  },
  {
   "cell_type": "markdown",
   "id": "2d90f306-9a00-46d9-898b-14cc7b8d5626",
   "metadata": {},
   "source": [
    "### Creating another matrix for the words instead of CountVectorizer"
   ]
  },
  {
   "cell_type": "code",
   "execution_count": 9,
   "id": "ad14dfe4-8744-4853-8900-655f28a1d552",
   "metadata": {
    "tags": []
   },
   "outputs": [
    {
     "data": {
      "text/plain": [
       "<7613x6594 sparse matrix of type '<class 'numpy.float64'>'\n",
       "\twith 96454 stored elements in Compressed Sparse Row format>"
      ]
     },
     "execution_count": 9,
     "metadata": {},
     "output_type": "execute_result"
    }
   ],
   "source": [
    "from sklearn.feature_extraction.text import TfidfVectorizer\n",
    "\n",
    "#Previously we were using countvectorizer which weights all words the same. Instead we'll use TF-IDF to determine how relevant certain terms are. \n",
    "#This should make common words like \"a\" and \"the\" less important and improve our model. We'll also use min_df = 2.\n",
    "#This is so we only consider words that show up more than once. This should help reduce the \"noise\"\n",
    "\n",
    "tfidf_vectorizer = TfidfVectorizer(min_df = 2)\n",
    "\n",
    "# Using fit_transform to \"train\" the tokenizer on our training set\n",
    "train_vectors = tfidf_vectorizer.fit_transform(train_df[\"text\"])\n",
    "\n",
    "# Same as before\n",
    "test_vectors = tfidf_vectorizer.transform(test_df[\"text\"])\n",
    "\n",
    "\n",
    "#We go from over 20,000 tokens being considered down to only 6,500.\n",
    "#There's still 7613 rows of data (each row corresponds to a tweet)\n",
    "train_vectors"
   ]
  },
  {
   "cell_type": "markdown",
   "id": "c4f6ef30-05e7-4458-9e58-6140a5f6ffd4",
   "metadata": {},
   "source": [
    "### Applying LSA to our new matrix\n",
    "Now that we have a matrix with fewer words we'll apply a second trick: LSA (Latent Semantic Analysis)\n",
    "Essentially we're applying SVD (Singular Value Decomposition) to extract the most important information in the form of uncorrelated vectors.\n",
    "\n",
    "We do this because the dimensionality is still high and we might get better results by essentially ignoring noisy components of the word-matrix."
   ]
  },
  {
   "cell_type": "code",
   "execution_count": 10,
   "id": "2bbbf199-4b3c-451f-8d8c-6355e961a68c",
   "metadata": {
    "tags": []
   },
   "outputs": [],
   "source": [
    "def Cumulative(lists):\n",
    "    cu_list = []\n",
    "    length = len(lists)\n",
    "    cu_list = [sum(lists[0:x:1]) for x in range(0, length+1)]\n",
    "    return cu_list[1:]"
   ]
  },
  {
   "cell_type": "code",
   "execution_count": 11,
   "id": "91f24588-e3cd-430d-b83a-bf2d2b50c1c7",
   "metadata": {
    "tags": []
   },
   "outputs": [
    {
     "data": {
      "text/plain": [
       "[<matplotlib.lines.Line2D at 0x1a83368d0d0>]"
      ]
     },
     "execution_count": 11,
     "metadata": {},
     "output_type": "execute_result"
    },
    {
     "data": {
      "image/png": "[encoded data removed]",
      "text/plain": [
       "<Figure size 640x480 with 1 Axes>"
      ]
     },
     "metadata": {},
     "output_type": "display_data"
    }
   ],
   "source": [
    "from sklearn.decomposition import TruncatedSVD\n",
    "\n",
    "comp_used = 1500 #With just 1500 out of 6500+ possible components used we can explain 78% of the variance.\n",
    "#With 1000 components we can explain 68% of the variance\n",
    "\n",
    "svd = TruncatedSVD(n_components = comp_used, random_state = 1) #Initializing the SVD settings. We intend to keep comp_used components\n",
    "\n",
    "svd.fit(train_vectors) #Using the SVD settings from before to fit our matrix into the SVD model. We can then use transform to \"apply\" it to other matrices\n",
    "#Not 100% sure how it works but I believe when using transform it calculates the new U times singular value matrix BUT uses the same V. \n",
    "\n",
    "import matplotlib.pyplot as plt\n",
    "%matplotlib inline\n",
    "\n",
    "c = Cumulative(svd.explained_variance_)\n",
    "plt.plot(range(len(svd.explained_variance_)), c, '.') #A plot of variance explained vs number of components used\n"
   ]
  },
  {
   "cell_type": "code",
   "execution_count": 12,
   "id": "4222e8b8-2f20-4d9d-8211-2afcc0488c69",
   "metadata": {
    "tags": []
   },
   "outputs": [],
   "source": [
    "lsa = svd.transform(train_vectors)\n",
    "new_df = pd.DataFrame(lsa, columns = [\"Vibe \" + str(x) for x in range(comp_used)])"
   ]
  },
  {
   "cell_type": "code",
   "execution_count": 13,
   "id": "d726e8b6-62cc-4f59-9f3a-c521f9f113ab",
   "metadata": {
    "tags": []
   },
   "outputs": [
    {
     "data": {
      "text/html": [
       "<div>\n",
       "<style scoped>\n",
       "    .dataframe tbody tr th:only-of-type {\n",
       "        vertical-align: middle;\n",
       "    }\n",
       "\n",
       "    .dataframe tbody tr th {\n",
       "        vertical-align: top;\n",
       "    }\n",
       "\n",
       "    .dataframe thead th {\n",
       "        text-align: right;\n",
       "    }\n",
       "</style>\n",
       "<table border=\"1\" class=\"dataframe\">\n",
       "  <thead>\n",
       "    <tr style=\"text-align: right;\">\n",
       "      <th></th>\n",
       "      <th>Vibe 0</th>\n",
       "      <th>Vibe 1</th>\n",
       "      <th>Vibe 2</th>\n",
       "      <th>Vibe 3</th>\n",
       "      <th>Vibe 4</th>\n",
       "      <th>Vibe 5</th>\n",
       "      <th>Vibe 6</th>\n",
       "      <th>Vibe 7</th>\n",
       "      <th>Vibe 8</th>\n",
       "      <th>Vibe 9</th>\n",
       "      <th>...</th>\n",
       "      <th>Vibe 1490</th>\n",
       "      <th>Vibe 1491</th>\n",
       "      <th>Vibe 1492</th>\n",
       "      <th>Vibe 1493</th>\n",
       "      <th>Vibe 1494</th>\n",
       "      <th>Vibe 1495</th>\n",
       "      <th>Vibe 1496</th>\n",
       "      <th>Vibe 1497</th>\n",
       "      <th>Vibe 1498</th>\n",
       "      <th>Vibe 1499</th>\n",
       "    </tr>\n",
       "  </thead>\n",
       "  <tbody>\n",
       "    <tr>\n",
       "      <th>0</th>\n",
       "      <td>0.123695</td>\n",
       "      <td>-0.076812</td>\n",
       "      <td>-0.065732</td>\n",
       "      <td>0.039466</td>\n",
       "      <td>-0.008469</td>\n",
       "      <td>0.028076</td>\n",
       "      <td>-0.005293</td>\n",
       "      <td>0.015532</td>\n",
       "      <td>0.015263</td>\n",
       "      <td>0.056535</td>\n",
       "      <td>...</td>\n",
       "      <td>0.008134</td>\n",
       "      <td>-0.015763</td>\n",
       "      <td>0.008303</td>\n",
       "      <td>0.004257</td>\n",
       "      <td>-0.010204</td>\n",
       "      <td>0.018251</td>\n",
       "      <td>0.008990</td>\n",
       "      <td>-0.007367</td>\n",
       "      <td>0.003673</td>\n",
       "      <td>0.008113</td>\n",
       "    </tr>\n",
       "    <tr>\n",
       "      <th>1</th>\n",
       "      <td>0.032238</td>\n",
       "      <td>0.007717</td>\n",
       "      <td>-0.007092</td>\n",
       "      <td>-0.017509</td>\n",
       "      <td>-0.011302</td>\n",
       "      <td>-0.018214</td>\n",
       "      <td>-0.004537</td>\n",
       "      <td>0.043293</td>\n",
       "      <td>-0.018210</td>\n",
       "      <td>-0.038303</td>\n",
       "      <td>...</td>\n",
       "      <td>-0.002416</td>\n",
       "      <td>0.007575</td>\n",
       "      <td>0.013680</td>\n",
       "      <td>0.006118</td>\n",
       "      <td>-0.002497</td>\n",
       "      <td>0.002249</td>\n",
       "      <td>-0.010931</td>\n",
       "      <td>0.025720</td>\n",
       "      <td>0.004415</td>\n",
       "      <td>0.010532</td>\n",
       "    </tr>\n",
       "    <tr>\n",
       "      <th>2</th>\n",
       "      <td>0.112848</td>\n",
       "      <td>-0.044965</td>\n",
       "      <td>0.030970</td>\n",
       "      <td>-0.034073</td>\n",
       "      <td>0.008181</td>\n",
       "      <td>0.106694</td>\n",
       "      <td>0.070236</td>\n",
       "      <td>-0.048470</td>\n",
       "      <td>0.019847</td>\n",
       "      <td>-0.012253</td>\n",
       "      <td>...</td>\n",
       "      <td>-0.006296</td>\n",
       "      <td>0.003257</td>\n",
       "      <td>0.013892</td>\n",
       "      <td>0.000018</td>\n",
       "      <td>-0.011857</td>\n",
       "      <td>-0.018313</td>\n",
       "      <td>0.014000</td>\n",
       "      <td>-0.008357</td>\n",
       "      <td>-0.001561</td>\n",
       "      <td>0.023044</td>\n",
       "    </tr>\n",
       "    <tr>\n",
       "      <th>3</th>\n",
       "      <td>0.053412</td>\n",
       "      <td>0.013121</td>\n",
       "      <td>-0.008879</td>\n",
       "      <td>-0.013307</td>\n",
       "      <td>0.011640</td>\n",
       "      <td>0.084006</td>\n",
       "      <td>0.029897</td>\n",
       "      <td>0.002754</td>\n",
       "      <td>0.022094</td>\n",
       "      <td>-0.084828</td>\n",
       "      <td>...</td>\n",
       "      <td>0.006495</td>\n",
       "      <td>0.002283</td>\n",
       "      <td>0.003508</td>\n",
       "      <td>0.015439</td>\n",
       "      <td>0.004136</td>\n",
       "      <td>0.005085</td>\n",
       "      <td>-0.018924</td>\n",
       "      <td>-0.004089</td>\n",
       "      <td>-0.010166</td>\n",
       "      <td>0.000742</td>\n",
       "    </tr>\n",
       "    <tr>\n",
       "      <th>4</th>\n",
       "      <td>0.089431</td>\n",
       "      <td>-0.033610</td>\n",
       "      <td>0.003855</td>\n",
       "      <td>-0.065129</td>\n",
       "      <td>-0.060234</td>\n",
       "      <td>-0.065846</td>\n",
       "      <td>0.118765</td>\n",
       "      <td>0.127133</td>\n",
       "      <td>0.045550</td>\n",
       "      <td>0.043558</td>\n",
       "      <td>...</td>\n",
       "      <td>0.021303</td>\n",
       "      <td>0.015785</td>\n",
       "      <td>0.014394</td>\n",
       "      <td>-0.007818</td>\n",
       "      <td>0.004293</td>\n",
       "      <td>-0.009337</td>\n",
       "      <td>0.002034</td>\n",
       "      <td>0.002640</td>\n",
       "      <td>-0.031482</td>\n",
       "      <td>-0.003046</td>\n",
       "    </tr>\n",
       "    <tr>\n",
       "      <th>...</th>\n",
       "      <td>...</td>\n",
       "      <td>...</td>\n",
       "      <td>...</td>\n",
       "      <td>...</td>\n",
       "      <td>...</td>\n",
       "      <td>...</td>\n",
       "      <td>...</td>\n",
       "      <td>...</td>\n",
       "      <td>...</td>\n",
       "      <td>...</td>\n",
       "      <td>...</td>\n",
       "      <td>...</td>\n",
       "      <td>...</td>\n",
       "      <td>...</td>\n",
       "      <td>...</td>\n",
       "      <td>...</td>\n",
       "      <td>...</td>\n",
       "      <td>...</td>\n",
       "      <td>...</td>\n",
       "      <td>...</td>\n",
       "      <td>...</td>\n",
       "    </tr>\n",
       "    <tr>\n",
       "      <th>7608</th>\n",
       "      <td>0.108107</td>\n",
       "      <td>0.114591</td>\n",
       "      <td>0.017769</td>\n",
       "      <td>0.012042</td>\n",
       "      <td>0.075304</td>\n",
       "      <td>-0.007515</td>\n",
       "      <td>0.003125</td>\n",
       "      <td>0.004276</td>\n",
       "      <td>-0.001192</td>\n",
       "      <td>-0.065242</td>\n",
       "      <td>...</td>\n",
       "      <td>-0.000192</td>\n",
       "      <td>0.000303</td>\n",
       "      <td>0.000364</td>\n",
       "      <td>-0.003584</td>\n",
       "      <td>0.000347</td>\n",
       "      <td>0.004988</td>\n",
       "      <td>-0.000424</td>\n",
       "      <td>-0.000096</td>\n",
       "      <td>0.002065</td>\n",
       "      <td>-0.002527</td>\n",
       "    </tr>\n",
       "    <tr>\n",
       "      <th>7609</th>\n",
       "      <td>0.217408</td>\n",
       "      <td>-0.078725</td>\n",
       "      <td>-0.214217</td>\n",
       "      <td>0.091613</td>\n",
       "      <td>0.015109</td>\n",
       "      <td>0.148465</td>\n",
       "      <td>0.003717</td>\n",
       "      <td>-0.029794</td>\n",
       "      <td>0.054123</td>\n",
       "      <td>-0.071817</td>\n",
       "      <td>...</td>\n",
       "      <td>0.022492</td>\n",
       "      <td>0.000224</td>\n",
       "      <td>-0.012210</td>\n",
       "      <td>-0.001652</td>\n",
       "      <td>-0.004444</td>\n",
       "      <td>-0.005154</td>\n",
       "      <td>-0.001189</td>\n",
       "      <td>0.003609</td>\n",
       "      <td>0.000538</td>\n",
       "      <td>0.005496</td>\n",
       "    </tr>\n",
       "    <tr>\n",
       "      <th>7610</th>\n",
       "      <td>0.087444</td>\n",
       "      <td>0.068206</td>\n",
       "      <td>-0.018453</td>\n",
       "      <td>0.018300</td>\n",
       "      <td>-0.022020</td>\n",
       "      <td>-0.017594</td>\n",
       "      <td>-0.000933</td>\n",
       "      <td>-0.017074</td>\n",
       "      <td>-0.008847</td>\n",
       "      <td>0.021709</td>\n",
       "      <td>...</td>\n",
       "      <td>0.008754</td>\n",
       "      <td>-0.005410</td>\n",
       "      <td>-0.008524</td>\n",
       "      <td>0.003947</td>\n",
       "      <td>-0.014036</td>\n",
       "      <td>-0.002095</td>\n",
       "      <td>-0.001111</td>\n",
       "      <td>0.005766</td>\n",
       "      <td>0.022158</td>\n",
       "      <td>-0.013311</td>\n",
       "    </tr>\n",
       "    <tr>\n",
       "      <th>7611</th>\n",
       "      <td>0.059815</td>\n",
       "      <td>-0.011268</td>\n",
       "      <td>0.005581</td>\n",
       "      <td>-0.036103</td>\n",
       "      <td>-0.036063</td>\n",
       "      <td>0.064492</td>\n",
       "      <td>0.008623</td>\n",
       "      <td>-0.016302</td>\n",
       "      <td>-0.001937</td>\n",
       "      <td>-0.029510</td>\n",
       "      <td>...</td>\n",
       "      <td>-0.001406</td>\n",
       "      <td>0.016577</td>\n",
       "      <td>0.009069</td>\n",
       "      <td>-0.012915</td>\n",
       "      <td>-0.008252</td>\n",
       "      <td>0.005499</td>\n",
       "      <td>0.011047</td>\n",
       "      <td>0.007959</td>\n",
       "      <td>0.024987</td>\n",
       "      <td>-0.029427</td>\n",
       "    </tr>\n",
       "    <tr>\n",
       "      <th>7612</th>\n",
       "      <td>0.214374</td>\n",
       "      <td>0.163698</td>\n",
       "      <td>-0.129063</td>\n",
       "      <td>0.259460</td>\n",
       "      <td>0.562368</td>\n",
       "      <td>0.083502</td>\n",
       "      <td>0.093801</td>\n",
       "      <td>0.185429</td>\n",
       "      <td>0.099534</td>\n",
       "      <td>-0.381692</td>\n",
       "      <td>...</td>\n",
       "      <td>0.002077</td>\n",
       "      <td>-0.000571</td>\n",
       "      <td>0.000565</td>\n",
       "      <td>0.005639</td>\n",
       "      <td>-0.000585</td>\n",
       "      <td>-0.001401</td>\n",
       "      <td>0.005541</td>\n",
       "      <td>0.003276</td>\n",
       "      <td>0.003651</td>\n",
       "      <td>-0.002297</td>\n",
       "    </tr>\n",
       "  </tbody>\n",
       "</table>\n",
       "<p>7613 rows × 1500 columns</p>\n",
       "</div>"
      ],
      "text/plain": [
       "        Vibe 0    Vibe 1    Vibe 2    Vibe 3    Vibe 4    Vibe 5    Vibe 6  \\\n",
       "0     0.123695 -0.076812 -0.065732  0.039466 -0.008469  0.028076 -0.005293   \n",
       "1     0.032238  0.007717 -0.007092 -0.017509 -0.011302 -0.018214 -0.004537   \n",
       "2     0.112848 -0.044965  0.030970 -0.034073  0.008181  0.106694  0.070236   \n",
       "3     0.053412  0.013121 -0.008879 -0.013307  0.011640  0.084006  0.029897   \n",
       "4     0.089431 -0.033610  0.003855 -0.065129 -0.060234 -0.065846  0.118765   \n",
       "...        ...       ...       ...       ...       ...       ...       ...   \n",
       "7608  0.108107  0.114591  0.017769  0.012042  0.075304 -0.007515  0.003125   \n",
       "7609  0.217408 -0.078725 -0.214217  0.091613  0.015109  0.148465  0.003717   \n",
       "7610  0.087444  0.068206 -0.018453  0.018300 -0.022020 -0.017594 -0.000933   \n",
       "7611  0.059815 -0.011268  0.005581 -0.036103 -0.036063  0.064492  0.008623   \n",
       "7612  0.214374  0.163698 -0.129063  0.259460  0.562368  0.083502  0.093801   \n",
       "\n",
       "        Vibe 7    Vibe 8    Vibe 9  ...  Vibe 1490  Vibe 1491  Vibe 1492  \\\n",
       "0     0.015532  0.015263  0.056535  ...   0.008134  -0.015763   0.008303   \n",
       "1     0.043293 -0.018210 -0.038303  ...  -0.002416   0.007575   0.013680   \n",
       "2    -0.048470  0.019847 -0.012253  ...  -0.006296   0.003257   0.013892   \n",
       "3     0.002754  0.022094 -0.084828  ...   0.006495   0.002283   0.003508   \n",
       "4     0.127133  0.045550  0.043558  ...   0.021303   0.015785   0.014394   \n",
       "...        ...       ...       ...  ...        ...        ...        ...   \n",
       "7608  0.004276 -0.001192 -0.065242  ...  -0.000192   0.000303   0.000364   \n",
       "7609 -0.029794  0.054123 -0.071817  ...   0.022492   0.000224  -0.012210   \n",
       "7610 -0.017074 -0.008847  0.021709  ...   0.008754  -0.005410  -0.008524   \n",
       "7611 -0.016302 -0.001937 -0.029510  ...  -0.001406   0.016577   0.009069   \n",
       "7612  0.185429  0.099534 -0.381692  ...   0.002077  -0.000571   0.000565   \n",
       "\n",
       "      Vibe 1493  Vibe 1494  Vibe 1495  Vibe 1496  Vibe 1497  Vibe 1498  \\\n",
       "0      0.004257  -0.010204   0.018251   0.008990  -0.007367   0.003673   \n",
       "1      0.006118  -0.002497   0.002249  -0.010931   0.025720   0.004415   \n",
       "2      0.000018  -0.011857  -0.018313   0.014000  -0.008357  -0.001561   \n",
       "3      0.015439   0.004136   0.005085  -0.018924  -0.004089  -0.010166   \n",
       "4     -0.007818   0.004293  -0.009337   0.002034   0.002640  -0.031482   \n",
       "...         ...        ...        ...        ...        ...        ...   \n",
       "7608  -0.003584   0.000347   0.004988  -0.000424  -0.000096   0.002065   \n",
       "7609  -0.001652  -0.004444  -0.005154  -0.001189   0.003609   0.000538   \n",
       "7610   0.003947  -0.014036  -0.002095  -0.001111   0.005766   0.022158   \n",
       "7611  -0.012915  -0.008252   0.005499   0.011047   0.007959   0.024987   \n",
       "7612   0.005639  -0.000585  -0.001401   0.005541   0.003276   0.003651   \n",
       "\n",
       "      Vibe 1499  \n",
       "0      0.008113  \n",
       "1      0.010532  \n",
       "2      0.023044  \n",
       "3      0.000742  \n",
       "4     -0.003046  \n",
       "...         ...  \n",
       "7608  -0.002527  \n",
       "7609   0.005496  \n",
       "7610  -0.013311  \n",
       "7611  -0.029427  \n",
       "7612  -0.002297  \n",
       "\n",
       "[7613 rows x 1500 columns]"
      ]
     },
     "execution_count": 13,
     "metadata": {},
     "output_type": "execute_result"
    }
   ],
   "source": [
    "new_df"
   ]
  },
  {
   "cell_type": "code",
   "execution_count": 14,
   "id": "323c87ea-4853-414e-a46d-5f9a75ddc7cc",
   "metadata": {
    "tags": []
   },
   "outputs": [
    {
     "data": {
      "text/plain": [
       "array([[ 0.00453036,  0.00633764, -0.00015672, ..., -0.03007632,\n",
       "        -0.01485266,  0.00040821],\n",
       "       [ 0.00085999, -0.00106542, -0.00049417, ..., -0.00498775,\n",
       "        -0.00339303, -0.00768412],\n",
       "       [ 0.00253013,  0.0047389 , -0.00114741, ...,  0.00842382,\n",
       "        -0.02661088,  0.0037713 ],\n",
       "       ...,\n",
       "       [ 0.00060676, -0.00042337, -0.00082153, ...,  0.00080718,\n",
       "        -0.00231682,  0.00589392],\n",
       "       [ 0.01104632,  0.01029113,  0.00320628, ..., -0.01544747,\n",
       "         0.00728811, -0.01764988],\n",
       "       [ 0.00820507,  0.00118274, -0.00330354, ..., -0.01180676,\n",
       "        -0.00315899,  0.01075624]])"
      ]
     },
     "execution_count": 14,
     "metadata": {},
     "output_type": "execute_result"
    }
   ],
   "source": [
    "import numpy\n",
    "numpy.transpose(svd.components_) #svd.components_ is V transpose so to get the V vectors we transpose it again back to V."
   ]
  },
  {
   "cell_type": "code",
   "execution_count": 15,
   "id": "b5853e6e-79ba-4007-ac95-edcff25b9983",
   "metadata": {
    "tags": []
   },
   "outputs": [
    {
     "data": {
      "text/plain": [
       "<matplotlib.legend.Legend at 0x1a83381a4d0>"
      ]
     },
     "execution_count": 15,
     "metadata": {},
     "output_type": "execute_result"
    },
    {
     "data": {
      "image/png": "[encoded data removed]",
      "text/plain": [
       "<Figure size 640x480 with 1 Axes>"
      ]
     },
     "metadata": {},
     "output_type": "display_data"
    }
   ],
   "source": [
    "#If the text was about a disaster then it'll be colored blue otherwise it'll be red\n",
    "colors = {0:'red', 1:'blue'}\n",
    "\n",
    "#Plotting each tweet along the new axis defined by the LSA components (in 2D). These are the singular values multiplied by the U matrix.\n",
    "#They're also colored depending on whether they correspond to a disaster or not.\n",
    "plt.scatter(list(numpy.transpose(lsa)[0]), list(numpy.transpose(lsa)[1]), c= list(train_df['target'].map(colors).values), alpha = 0.05)\n",
    "\n",
    "#Plotting the first and second principle components as a yellow and green line respectively to aid in visualization.\n",
    "plt.plot(svd.components_[0][0]*range(100), svd.components_[1][0]*range(100), c = \"yellow\", label = \"Vibe 1\")\n",
    "plt.plot(svd.components_[0][1]*range(500), svd.components_[1][1]*range(500), c = \"green\", label = \"Vibe 2\")\n",
    "plt.legend(loc='upper left')\n",
    "\n",
    "#We can see that the LSA appears to be working correctly and that there seems to be some clumping occurring already."
   ]
  },
  {
   "cell_type": "code",
   "execution_count": 16,
   "id": "5864c387-585b-4acb-b041-f938076a0498",
   "metadata": {
    "tags": []
   },
   "outputs": [
    {
     "data": {
      "text/html": [
       "<div>\n",
       "<style scoped>\n",
       "    .dataframe tbody tr th:only-of-type {\n",
       "        vertical-align: middle;\n",
       "    }\n",
       "\n",
       "    .dataframe tbody tr th {\n",
       "        vertical-align: top;\n",
       "    }\n",
       "\n",
       "    .dataframe thead th {\n",
       "        text-align: right;\n",
       "    }\n",
       "</style>\n",
       "<table border=\"1\" class=\"dataframe\">\n",
       "  <thead>\n",
       "    <tr style=\"text-align: right;\">\n",
       "      <th></th>\n",
       "      <th>0</th>\n",
       "      <th>1</th>\n",
       "      <th>2</th>\n",
       "      <th>3</th>\n",
       "      <th>4</th>\n",
       "      <th>5</th>\n",
       "      <th>6</th>\n",
       "      <th>7</th>\n",
       "      <th>8</th>\n",
       "      <th>9</th>\n",
       "      <th>...</th>\n",
       "      <th>6584</th>\n",
       "      <th>6585</th>\n",
       "      <th>6586</th>\n",
       "      <th>6587</th>\n",
       "      <th>6588</th>\n",
       "      <th>6589</th>\n",
       "      <th>6590</th>\n",
       "      <th>6591</th>\n",
       "      <th>6592</th>\n",
       "      <th>6593</th>\n",
       "    </tr>\n",
       "  </thead>\n",
       "  <tbody>\n",
       "    <tr>\n",
       "      <th>0</th>\n",
       "      <td>0.004530</td>\n",
       "      <td>0.000860</td>\n",
       "      <td>0.002530</td>\n",
       "      <td>0.001579</td>\n",
       "      <td>0.001110</td>\n",
       "      <td>0.000078</td>\n",
       "      <td>0.001622</td>\n",
       "      <td>0.005044</td>\n",
       "      <td>0.003295</td>\n",
       "      <td>0.002740</td>\n",
       "      <td>...</td>\n",
       "      <td>0.000663</td>\n",
       "      <td>0.000626</td>\n",
       "      <td>0.001188</td>\n",
       "      <td>0.000733</td>\n",
       "      <td>0.001380</td>\n",
       "      <td>0.000827</td>\n",
       "      <td>0.003530</td>\n",
       "      <td>0.000607</td>\n",
       "      <td>0.011046</td>\n",
       "      <td>0.008205</td>\n",
       "    </tr>\n",
       "    <tr>\n",
       "      <th>1</th>\n",
       "      <td>0.006338</td>\n",
       "      <td>-0.001065</td>\n",
       "      <td>0.004739</td>\n",
       "      <td>0.001906</td>\n",
       "      <td>0.001033</td>\n",
       "      <td>-0.000020</td>\n",
       "      <td>0.002671</td>\n",
       "      <td>0.006764</td>\n",
       "      <td>0.006508</td>\n",
       "      <td>0.003283</td>\n",
       "      <td>...</td>\n",
       "      <td>-0.000476</td>\n",
       "      <td>0.001079</td>\n",
       "      <td>-0.000066</td>\n",
       "      <td>0.001469</td>\n",
       "      <td>0.000756</td>\n",
       "      <td>0.000399</td>\n",
       "      <td>0.000437</td>\n",
       "      <td>-0.000423</td>\n",
       "      <td>0.010291</td>\n",
       "      <td>0.001183</td>\n",
       "    </tr>\n",
       "  </tbody>\n",
       "</table>\n",
       "<p>2 rows × 6594 columns</p>\n",
       "</div>"
      ],
      "text/plain": [
       "       0         1         2         3         4         5         6     \\\n",
       "0  0.004530  0.000860  0.002530  0.001579  0.001110  0.000078  0.001622   \n",
       "1  0.006338 -0.001065  0.004739  0.001906  0.001033 -0.000020  0.002671   \n",
       "\n",
       "       7         8         9     ...      6584      6585      6586      6587  \\\n",
       "0  0.005044  0.003295  0.002740  ...  0.000663  0.000626  0.001188  0.000733   \n",
       "1  0.006764  0.006508  0.003283  ... -0.000476  0.001079 -0.000066  0.001469   \n",
       "\n",
       "       6588      6589      6590      6591      6592      6593  \n",
       "0  0.001380  0.000827  0.003530  0.000607  0.011046  0.008205  \n",
       "1  0.000756  0.000399  0.000437 -0.000423  0.010291  0.001183  \n",
       "\n",
       "[2 rows x 6594 columns]"
      ]
     },
     "execution_count": 16,
     "metadata": {},
     "output_type": "execute_result"
    }
   ],
   "source": [
    "#Looking at the V matrix.\n",
    "\n",
    "pd.DataFrame(data = [svd.components_[0],svd.components_[1]])\n",
    "#The first column is the direction (in 2D) of the main component. Second column is the direction for the 2nd most relevant component and so on.\n",
    "#We can increase the \"dimension\" by looking at more "
   ]
  },
  {
   "cell_type": "code",
   "execution_count": 17,
   "id": "e00d7415-1f04-4e20-aa36-5a858d83daec",
   "metadata": {
    "tags": []
   },
   "outputs": [
    {
     "data": {
      "text/html": [
       "<div>\n",
       "<style scoped>\n",
       "    .dataframe tbody tr th:only-of-type {\n",
       "        vertical-align: middle;\n",
       "    }\n",
       "\n",
       "    .dataframe tbody tr th {\n",
       "        vertical-align: top;\n",
       "    }\n",
       "\n",
       "    .dataframe thead th {\n",
       "        text-align: right;\n",
       "    }\n",
       "</style>\n",
       "<table border=\"1\" class=\"dataframe\">\n",
       "  <thead>\n",
       "    <tr style=\"text-align: right;\">\n",
       "      <th></th>\n",
       "      <th>0</th>\n",
       "      <th>1</th>\n",
       "      <th>2</th>\n",
       "      <th>text</th>\n",
       "      <th>target</th>\n",
       "    </tr>\n",
       "  </thead>\n",
       "  <tbody>\n",
       "    <tr>\n",
       "      <th>4367</th>\n",
       "      <td>0.416719</td>\n",
       "      <td>0.384985</td>\n",
       "      <td>0.133106</td>\n",
       "      <td>How to remove http://t.co/HRSfA8zujI BrowseråÊ...</td>\n",
       "      <td>0</td>\n",
       "    </tr>\n",
       "    <tr>\n",
       "      <th>4101</th>\n",
       "      <td>0.405814</td>\n",
       "      <td>0.307777</td>\n",
       "      <td>-0.045810</td>\n",
       "      <td>Hail The New Caesars! http://t.co/GzMoBlsJxu h...</td>\n",
       "      <td>0</td>\n",
       "    </tr>\n",
       "    <tr>\n",
       "      <th>5286</th>\n",
       "      <td>0.405632</td>\n",
       "      <td>0.040237</td>\n",
       "      <td>-0.267158</td>\n",
       "      <td>A Mad Catastrophe : The Outbreak of World War ...</td>\n",
       "      <td>1</td>\n",
       "    </tr>\n",
       "    <tr>\n",
       "      <th>6593</th>\n",
       "      <td>0.396511</td>\n",
       "      <td>0.459629</td>\n",
       "      <td>0.073873</td>\n",
       "      <td>Remembrance  http://t.co/ii4EwE1QIr #Hiroshima...</td>\n",
       "      <td>1</td>\n",
       "    </tr>\n",
       "    <tr>\n",
       "      <th>3549</th>\n",
       "      <td>0.388600</td>\n",
       "      <td>0.051209</td>\n",
       "      <td>-0.145361</td>\n",
       "      <td>A memorial to the millions who perished in the...</td>\n",
       "      <td>1</td>\n",
       "    </tr>\n",
       "    <tr>\n",
       "      <th>...</th>\n",
       "      <td>...</td>\n",
       "      <td>...</td>\n",
       "      <td>...</td>\n",
       "      <td>...</td>\n",
       "      <td>...</td>\n",
       "    </tr>\n",
       "    <tr>\n",
       "      <th>640</th>\n",
       "      <td>0.000000</td>\n",
       "      <td>0.000000</td>\n",
       "      <td>0.000000</td>\n",
       "      <td>@Kaotix_Blaze craving u</td>\n",
       "      <td>0</td>\n",
       "    </tr>\n",
       "    <tr>\n",
       "      <th>5115</th>\n",
       "      <td>0.000000</td>\n",
       "      <td>0.000000</td>\n",
       "      <td>0.000000</td>\n",
       "      <td>Err:509</td>\n",
       "      <td>0</td>\n",
       "    </tr>\n",
       "    <tr>\n",
       "      <th>24</th>\n",
       "      <td>0.000000</td>\n",
       "      <td>0.000000</td>\n",
       "      <td>0.000000</td>\n",
       "      <td>LOOOOOOL</td>\n",
       "      <td>0</td>\n",
       "    </tr>\n",
       "    <tr>\n",
       "      <th>823</th>\n",
       "      <td>0.000000</td>\n",
       "      <td>0.000000</td>\n",
       "      <td>0.000000</td>\n",
       "      <td>@Blizzard_Gamin ight</td>\n",
       "      <td>0</td>\n",
       "    </tr>\n",
       "    <tr>\n",
       "      <th>28</th>\n",
       "      <td>0.000000</td>\n",
       "      <td>0.000000</td>\n",
       "      <td>0.000000</td>\n",
       "      <td>Cooool :)</td>\n",
       "      <td>0</td>\n",
       "    </tr>\n",
       "  </tbody>\n",
       "</table>\n",
       "<p>7613 rows × 5 columns</p>\n",
       "</div>"
      ],
      "text/plain": [
       "             0         1         2  \\\n",
       "4367  0.416719  0.384985  0.133106   \n",
       "4101  0.405814  0.307777 -0.045810   \n",
       "5286  0.405632  0.040237 -0.267158   \n",
       "6593  0.396511  0.459629  0.073873   \n",
       "3549  0.388600  0.051209 -0.145361   \n",
       "...        ...       ...       ...   \n",
       "640   0.000000  0.000000  0.000000   \n",
       "5115  0.000000  0.000000  0.000000   \n",
       "24    0.000000  0.000000  0.000000   \n",
       "823   0.000000  0.000000  0.000000   \n",
       "28    0.000000  0.000000  0.000000   \n",
       "\n",
       "                                                   text  target  \n",
       "4367  How to remove http://t.co/HRSfA8zujI BrowseråÊ...       0  \n",
       "4101  Hail The New Caesars! http://t.co/GzMoBlsJxu h...       0  \n",
       "5286  A Mad Catastrophe : The Outbreak of World War ...       1  \n",
       "6593  Remembrance  http://t.co/ii4EwE1QIr #Hiroshima...       1  \n",
       "3549  A memorial to the millions who perished in the...       1  \n",
       "...                                                 ...     ...  \n",
       "640                             @Kaotix_Blaze craving u       0  \n",
       "5115                                            Err:509       0  \n",
       "24                                             LOOOOOOL       0  \n",
       "823                                @Blizzard_Gamin ight       0  \n",
       "28                                            Cooool :)       0  \n",
       "\n",
       "[7613 rows x 5 columns]"
      ]
     },
     "execution_count": 17,
     "metadata": {},
     "output_type": "execute_result"
    }
   ],
   "source": [
    "#Looking at the first 3 columns of the LSA matrix (U times singular values) along with the texts and their targets.\n",
    "#We are sorting by the first column to see if there's any similiarities visible.\n",
    "\n",
    "temp = pd.DataFrame(lsa[:,:3])\n",
    "temp['text'] = train_df['text'].reset_index(drop=True)\n",
    "temp['target'] = train_df['target'].reset_index(drop=True)\n",
    "\n",
    "\n",
    "temp.sort_values(0, ascending=False)\n",
    "\n",
    "#We can already see some latent similarities emerging. The top texts all contain links while the last ones don't and are quite informal"
   ]
  },
  {
   "cell_type": "markdown",
   "id": "708542b5-a7d2-413b-a823-7360e3498a96",
   "metadata": {},
   "source": [
    "### Fitting different models using the LSA representation"
   ]
  },
  {
   "cell_type": "code",
   "execution_count": 18,
   "id": "ee8f0126-e7d0-4f45-8b52-34391aa0d10c",
   "metadata": {
    "tags": []
   },
   "outputs": [
    {
     "data": {
      "text/plain": [
       "array([0.60837209, 0.55200655, 0.61335532, 0.62147887, 0.69984448])"
      ]
     },
     "execution_count": 18,
     "metadata": {},
     "output_type": "execute_result"
    }
   ],
   "source": [
    "#Using a RidgeClassifier again to compare results.\n",
    "\n",
    "clf = linear_model.RidgeClassifier()\n",
    "\n",
    "scores = model_selection.cross_val_score(clf, lsa, train_df[\"target\"], cv=5, scoring=\"f1\")\n",
    "scores"
   ]
  },
  {
   "cell_type": "code",
   "execution_count": 19,
   "id": "e21f694c-58e1-4096-8acc-e5cae07ac178",
   "metadata": {
    "tags": []
   },
   "outputs": [
    {
     "data": {
      "text/plain": [
       "0.6190114629337599"
      ]
     },
     "execution_count": 19,
     "metadata": {},
     "output_type": "execute_result"
    }
   ],
   "source": [
    "scores.mean()"
   ]
  },
  {
   "cell_type": "markdown",
   "id": "90a4e7a3-9201-4fb1-97ec-71b496bf8f05",
   "metadata": {},
   "source": [
    "The original scores are: array([0.6025641 , 0.50168919, 0.56985004, 0.50781969, 0.67275495]) \n",
    "\n",
    "-> **Ridge no LSA Mean = 0.57**, median = 0.57\n",
    "\n",
    "The new scores are: array([0.60837209, 0.55200655, 0.61335532, 0.62147887, 0.69984448]) \n",
    "\n",
    "-> **Ridge w/ LSA Mean = 0.62**, median = 0.61"
   ]
  },
  {
   "cell_type": "code",
   "execution_count": 20,
   "id": "1eb778b2-de87-41f1-9d30-fe0918342245",
   "metadata": {
    "tags": []
   },
   "outputs": [
    {
     "data": {
      "text/plain": [
       "{'whiskers': [<matplotlib.lines.Line2D at 0x1a833b82310>,\n",
       "  <matplotlib.lines.Line2D at 0x1a833b83910>,\n",
       "  <matplotlib.lines.Line2D at 0x1a8336e9750>,\n",
       "  <matplotlib.lines.Line2D at 0x1a833786650>],\n",
       " 'caps': [<matplotlib.lines.Line2D at 0x1a83377e2d0>,\n",
       "  <matplotlib.lines.Line2D at 0x1a8337e4f50>,\n",
       "  <matplotlib.lines.Line2D at 0x1a83378b750>,\n",
       "  <matplotlib.lines.Line2D at 0x1a833788910>],\n",
       " 'boxes': [<matplotlib.lines.Line2D at 0x1a833b60190>,\n",
       "  <matplotlib.lines.Line2D at 0x1a8336e7350>],\n",
       " 'medians': [<matplotlib.lines.Line2D at 0x1a8337dfad0>,\n",
       "  <matplotlib.lines.Line2D at 0x1a8337c8310>],\n",
       " 'fliers': [<matplotlib.lines.Line2D at 0x1a833b82010>,\n",
       "  <matplotlib.lines.Line2D at 0x1a833b83490>],\n",
       " 'means': []}"
      ]
     },
     "execution_count": 20,
     "metadata": {},
     "output_type": "execute_result"
    },
    {
     "data": {
      "image/png": "[encoded data removed]",
      "text/plain": [
       "<Figure size 640x480 with 1 Axes>"
      ]
     },
     "metadata": {},
     "output_type": "display_data"
    }
   ],
   "source": [
    "plt.boxplot([[0.6025641 , 0.50168919, 0.56985004, 0.50781969, 0.67275495], [0.60837209, 0.55200655, 0.61335532, 0.62147887, 0.69984448]],\n",
    "           labels = [\"OG\", \"LSA\"])"
   ]
  },
  {
   "cell_type": "markdown",
   "id": "af96ab4d-9db7-48d9-b2f3-364025733b2a",
   "metadata": {},
   "source": [
    "#### Logistic Regression"
   ]
  },
  {
   "cell_type": "code",
   "execution_count": 21,
   "id": "31974241-ff34-4cd4-bd84-7dde9a0fe160",
   "metadata": {
    "tags": []
   },
   "outputs": [
    {
     "name": "stdout",
     "output_type": "stream",
     "text": [
      "[0.62715105 0.60052678 0.64231096 0.60092166 0.73205742] Mean is: 0.640593572964531\n"
     ]
    }
   ],
   "source": [
    "lr = linear_model.LogisticRegression()\n",
    "\n",
    "scores = model_selection.cross_val_score(lr, lsa, train_df[\"target\"], cv=5, scoring=\"f1\")\n",
    "print(scores, \"Mean is:\", scores.mean())"
   ]
  },
  {
   "cell_type": "markdown",
   "id": "98ab8b67-c77c-4464-a913-fef28f8557c0",
   "metadata": {},
   "source": [
    "**LogisticRegression Mean: 0.64**\n",
    "\n",
    "**Kaggle Score: 0.79497**\n",
    "\n",
    "**Default benchmark score is 0.78179** so not that much better."
   ]
  },
  {
   "cell_type": "code",
   "execution_count": 22,
   "id": "b9962a94-80fd-4643-8134-aba4ab62a865",
   "metadata": {
    "tags": []
   },
   "outputs": [],
   "source": [
    "#Submitting it to see how good the score is\n",
    "lr.fit(lsa, train_df[\"target\"])\n",
    "logit_sub = pd.DataFrame(lr.predict(svd.transform(test_vectors)), columns = [\"target\"]).set_index(test_df.index).to_csv(\"submission.csv\")"
   ]
  }
 ],
 "metadata": {
  "kernelspec": {
   "display_name": "Python 3 (ipykernel)",
   "language": "python",
   "name": "python3"
  },
  "language_info": {
   "codemirror_mode": {
    "name": "ipython",
    "version": 3
   },
   "file_extension": ".py",
   "mimetype": "text/x-python",
   "name": "python",
   "nbconvert_exporter": "python",
   "pygments_lexer": "ipython3",
   "version": "3.11.3"
  }
 },
 "nbformat": 4,
 "nbformat_minor": 5
}
