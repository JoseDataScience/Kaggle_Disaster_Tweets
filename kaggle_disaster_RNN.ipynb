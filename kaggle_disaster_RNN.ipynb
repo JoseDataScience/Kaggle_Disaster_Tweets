{
 "cells": [
  {
   "cell_type": "code",
   "execution_count": 1,
   "id": "d399d092-64a2-4e3d-b151-714b384c7790",
   "metadata": {
    "colab": {
     "base_uri": "https://localhost:8080/"
    },
    "id": "d399d092-64a2-4e3d-b151-714b384c7790",
    "outputId": "052f27d6-a42f-49ad-9399-77a0bddcd3b4"
   },
   "outputs": [],
   "source": [
    "import numpy as np # linear algebra\n",
    "import pandas as pd # data processing, CSV file I/O (e.g. pd.read_csv)\n",
    "from sklearn import feature_extraction, linear_model, model_selection, preprocessing, metrics\n",
    "from sklearn.model_selection import train_test_split\n",
    "from sklearn.decomposition import TruncatedSVD\n",
    "\n",
    "import torch\n",
    "import torch.nn as nn\n",
    "\n",
    "import matplotlib.pyplot as plt\n",
    "%matplotlib inline\n",
    "\n",
    "from torch.utils.data import Dataset\n",
    "from torch.utils.data import DataLoader\n",
    "from torch import optim\n",
    "from torch.autograd import Variable\n",
    "\n",
    "import timeit\n",
    "import wandb\n",
    "import random\n",
    "\n",
    "import re\n",
    "\n",
    "from tqdm import tqdm\n",
    "tqdm.pandas()"
   ]
  },
  {
   "cell_type": "markdown",
   "id": "65ce726e-ef1a-4848-ab9f-502069f42cf6",
   "metadata": {
    "id": "65ce726e-ef1a-4848-ab9f-502069f42cf6"
   },
   "source": [
    "### Settings stuff"
   ]
  },
  {
   "cell_type": "code",
   "execution_count": 2,
   "id": "2e8f1df0-e9ec-46ad-9dcc-c1f23d04cf1e",
   "metadata": {
    "colab": {
     "base_uri": "https://localhost:8080/",
     "height": 160
    },
    "id": "2e8f1df0-e9ec-46ad-9dcc-c1f23d04cf1e",
    "outputId": "db634b95-8796-4a25-b922-da81a51434ee"
   },
   "outputs": [],
   "source": [
    "random.seed(10)\n",
    "\n",
    "training_mode = True\n",
    "act_func = \"tanh\"\n",
    "\n",
    "epochs = 400\n",
    "batch_size = 128\n",
    "\n",
    "learning_rate = 1e-5\n",
    "hidden_size = 32\n",
    "\n",
    "\n",
    "comp_used = 500 #Same as input_size\n",
    "word_lim = 10\n",
    "\n",
    "drop_prob = 0.5\n",
    "\n",
    "\n",
    "rand_guessing = False\n",
    "lower_text = True\n",
    "mx_norm = 15\n",
    "input_size = comp_used\n",
    "\n",
    "loss_fn = nn.BCELoss()\n",
    "\n",
    "if torch.cuda.is_available():\n",
    "    device = torch.device(\"cuda:0\")\n",
    "else:\n",
    "    device = torch.device(\"cpu\")\n"
   ]
  },
  {
   "cell_type": "markdown",
   "id": "13c30415-8a4d-429b-afe2-80774e3ceb9f",
   "metadata": {
    "id": "13c30415-8a4d-429b-afe2-80774e3ceb9f"
   },
   "source": [
    "\n",
    "### Importing the training set and saving it as train_df"
   ]
  },
  {
   "cell_type": "code",
   "execution_count": 3,
   "id": "fb771814-090b-437a-ae26-fa895a8fbb3a",
   "metadata": {
    "id": "fb771814-090b-437a-ae26-fa895a8fbb3a"
   },
   "outputs": [],
   "source": [
    "def remove_repeat_recursively(text, target_chars, rep_token, add_space = False):\n",
    "    end = len(text)-1\n",
    "    for i,c in enumerate(text):\n",
    "        cnt = 1\n",
    "        if c == target_chars:\n",
    "            end = i #The new end point is at i for the string to be returned\n",
    "\n",
    "            try: #Tries to figure out where the last target_chars in the run is.\n",
    "                while text[i + cnt] == target_chars:\n",
    "                    cnt += 1\n",
    "            except: #If it returns an exception then all remaining chars are the target and we're done.\n",
    "                if add_space:\n",
    "                    if cnt > 1:\n",
    "                        return text[0:end] + \" \" + target_chars + \" \" + rep_token\n",
    "                    else:\n",
    "                        return text[0:end] + \" \" + target_chars\n",
    "                else:\n",
    "                    if cnt > 1:\n",
    "                        return text[0:end+1] + \" \" + rep_token\n",
    "                    else:\n",
    "                        return text[0:end+1]\n",
    "\n",
    "            if cnt == 1:\n",
    "                if add_space:\n",
    "                    return text[0:end] + \" \" + target_chars + \" \" + remove_repeat_recursively(text[end + cnt:len(text)], target_chars, rep_token, add_space)\n",
    "                else:\n",
    "                    return text[0:end + 1] + remove_repeat_recursively(text[end + cnt:len(text)], target_chars, rep_token)\n",
    "\n",
    "            if add_space:\n",
    "                return text[0:end] + \" \" + target_chars + \" \" + rep_token + \" \" + remove_repeat_recursively(text[end + cnt:len(text)], target_chars, rep_token, add_space)\n",
    "            else:\n",
    "                return text[0:end + 1] + \" \" + rep_token + \" \" + remove_repeat_recursively(text[end + cnt:len(text)], target_chars, rep_token)\n",
    "    return text\n",
    "\n"
   ]
  },
  {
   "cell_type": "code",
   "execution_count": 4,
   "id": "8f8bcc81-ceba-4880-8dad-72b3e7536256",
   "metadata": {
    "id": "8f8bcc81-ceba-4880-8dad-72b3e7536256"
   },
   "outputs": [],
   "source": [
    "#Helper functions to clean up sentences\n",
    "\n",
    "def help_cleaner(text):\n",
    "\n",
    "    text_og = text\n",
    "    if lower_text:\n",
    "        text = text.lower()\n",
    "\n",
    "    pat = re.compile(\"[^a-zA-Z!?:;,.'@#0-9#\\[\\]\\-/]\")\n",
    "    text = re.sub(pat, ' ', text)\n",
    "\n",
    "    #People have a tendancy to use multiple exclamation or question marks which may throw off the vectorizer later.\n",
    "    #To solve this we'll turn \"!!!!\" into \"! MultipleExclToken\" where the token helps retain meaning\n",
    "    text = remove_repeat_recursively(text, \"!\", \"MultipleExclTokenRandomjunkidentifier\", True)\n",
    "    text = remove_repeat_recursively(text, \"?\", \"MultipleQuestTokenRandomjunkidentifier\", True)\n",
    "    text = remove_repeat_recursively(text, \".\", \"MultiplePerTokenRandomjunkidentifier\", False)\n",
    "    text = remove_repeat_recursively(text, \"-\", \"MultipleHyphTokenRandomjunkidentifier\", False)\n",
    "    text = remove_repeat_recursively(text, \":\", \"MultipleColonTokenRandomjunkidentifier\", False)\n",
    "    text = remove_repeat_recursively(text, \";\", \"MultipleSemicolonTokenRandomjunkidentifier\", True)\n",
    "    text = text.replace(\"#\", \" hashtag \")\n",
    "    text = text.split()\n",
    "\n",
    "\n",
    "\n",
    "    for i,x in enumerate(text):\n",
    "        if x[len(x)-1] == \".\" and len(x) > 1:\n",
    "            x = x[0:len(x)-1] + \" \" + \".\"\n",
    "        try:\n",
    "            y = x.replace(\",\", \"\")\n",
    "\n",
    "            if int(y) > 10000:\n",
    "                text[i] = \"BigNumberRandomjunkidentifier\"\n",
    "            elif int(y) > 25:\n",
    "                text[i] = \"MediumishNumberRandomjunkidentifier\"\n",
    "            else:\n",
    "                text[i] = \"SmallishNumberRandomjunkidentifier\"\n",
    "        except: #If an error is thrown then it's because x cannot be converted to an integer (ignoring commas) so treat it as just a string\n",
    "\n",
    "            #Brute force stemming the s off of things. If it's singular then it doesn't change much ie. 'this' -> 'thi' but it does it everywhere\n",
    "            #so no big change as far as the network will be concerned.\n",
    "\n",
    "            if x[len(x)-1] == \"s\" and len(x) > 1:\n",
    "                y = x[0:len(x)-1]\n",
    "            else:\n",
    "                y = x\n",
    "\n",
    "            #If it's a URL then just truncate it to https or http\n",
    "            if x[0:5] == \"https\":\n",
    "                y = \"https\"\n",
    "            elif x[0:4] == \"http\":\n",
    "                y = \"http\"\n",
    "\n",
    "            #Some symbols are useful for understanding a tweet such as the hashtag, at symbol, and quotes.\n",
    "            if y[0] == \"#\" or y[0] == \"@\" or y[0] == \"\\'\" or y[0] == \"\\\"\":\n",
    "                y = y[0] + \" \" + y[1:len(y)] #If it's any of these 'left sided' signifiers then we add a space between it and the next char\n",
    "\n",
    "            if y[len(y)-1] == \"\\\"\" or y[len(y)-1] == \"\\'\": #If it's the right side then it adds a space between it and the char before it\n",
    "                y = y[0:len(x)-1] + \" \" + y[len(y)-1]\n",
    "\n",
    "            text[i] = y\n",
    "\n",
    "\n",
    "    return \" \".join(text)"
   ]
  },
  {
   "cell_type": "code",
   "execution_count": 6,
   "id": "e78f7a9d-9a12-4e07-9925-aa8c4f7b167d",
   "metadata": {
    "colab": {
     "base_uri": "https://localhost:8080/",
     "height": 455
    },
    "id": "e78f7a9d-9a12-4e07-9925-aa8c4f7b167d",
    "outputId": "b70dc2a2-75cd-4306-b748-4634f9e190f9"
   },
   "outputs": [
    {
     "data": {
      "text/html": [
       "\n",
       "  <div id=\"df-902549b8-fc2d-4dc3-a258-05bc30af86d9\" class=\"colab-df-container\">\n",
       "    <div>\n",
       "<style scoped>\n",
       "    .dataframe tbody tr th:only-of-type {\n",
       "        vertical-align: middle;\n",
       "    }\n",
       "\n",
       "    .dataframe tbody tr th {\n",
       "        vertical-align: top;\n",
       "    }\n",
       "\n",
       "    .dataframe thead th {\n",
       "        text-align: right;\n",
       "    }\n",
       "</style>\n",
       "<table border=\"1\" class=\"dataframe\">\n",
       "  <thead>\n",
       "    <tr style=\"text-align: right;\">\n",
       "      <th></th>\n",
       "      <th>text</th>\n",
       "      <th>target</th>\n",
       "    </tr>\n",
       "    <tr>\n",
       "      <th>id</th>\n",
       "      <th></th>\n",
       "      <th></th>\n",
       "    </tr>\n",
       "  </thead>\n",
       "  <tbody>\n",
       "    <tr>\n",
       "      <th>1</th>\n",
       "      <td>our deed are the reason of thi hashtag earthquake may allah forgive u all</td>\n",
       "      <td>1</td>\n",
       "    </tr>\n",
       "    <tr>\n",
       "      <th>4</th>\n",
       "      <td>forest fire near la ronge sask . canada</td>\n",
       "      <td>1</td>\n",
       "    </tr>\n",
       "    <tr>\n",
       "      <th>5</th>\n",
       "      <td>all resident asked to ' shelter in place ' are being notified by officers . no other evacuation or shelter in place order are expected</td>\n",
       "      <td>1</td>\n",
       "    </tr>\n",
       "    <tr>\n",
       "      <th>6</th>\n",
       "      <td>BigNumberRandomjunkidentifier people receive hashtag wildfire evacuation order in california</td>\n",
       "      <td>1</td>\n",
       "    </tr>\n",
       "    <tr>\n",
       "      <th>7</th>\n",
       "      <td>just got sent thi photo from ruby hashtag alaska a smoke from hashtag wildfire pour into a school</td>\n",
       "      <td>1</td>\n",
       "    </tr>\n",
       "    <tr>\n",
       "      <th>...</th>\n",
       "      <td>...</td>\n",
       "      <td>...</td>\n",
       "    </tr>\n",
       "    <tr>\n",
       "      <th>10869</th>\n",
       "      <td>two giant crane holding a bridge collapse into nearby home http</td>\n",
       "      <td>1</td>\n",
       "    </tr>\n",
       "    <tr>\n",
       "      <th>10870</th>\n",
       "      <td>@ aria ahrary @ thetawniest the out of control wild fire in california even in the northern part of the state . very troubling .</td>\n",
       "      <td>1</td>\n",
       "    </tr>\n",
       "    <tr>\n",
       "      <th>10871</th>\n",
       "      <td>m1.94 [01:04 utc] ? 5km s of volcano hawaii . http</td>\n",
       "      <td>1</td>\n",
       "    </tr>\n",
       "    <tr>\n",
       "      <th>10872</th>\n",
       "      <td>police investigating after an e-bike collided with a car in little portugal . e-bike rider suffered seriou non-life threatening injuries .</td>\n",
       "      <td>1</td>\n",
       "    </tr>\n",
       "    <tr>\n",
       "      <th>10873</th>\n",
       "      <td>the latest: more home razed by northern california wildfire - abc new http</td>\n",
       "      <td>1</td>\n",
       "    </tr>\n",
       "  </tbody>\n",
       "</table>\n",
       "<p>7613 rows × 2 columns</p>\n",
       "</div>\n",
       "    <div class=\"colab-df-buttons\">\n",
       "\n",
       "  <div class=\"colab-df-container\">\n",
       "    <button class=\"colab-df-convert\" onclick=\"convertToInteractive('df-902549b8-fc2d-4dc3-a258-05bc30af86d9')\"\n",
       "            title=\"Convert this dataframe to an interactive table.\"\n",
       "            style=\"display:none;\">\n",
       "\n",
       "  <svg xmlns=\"http://www.w3.org/2000/svg\" height=\"24px\" viewBox=\"0 -960 960 960\">\n",
       "    <path d=\"M120-120v-720h720v720H120Zm60-500h600v-160H180v160Zm220 220h160v-160H400v160Zm0 220h160v-160H400v160ZM180-400h160v-160H180v160Zm440 0h160v-160H620v160ZM180-180h160v-160H180v160Zm440 0h160v-160H620v160Z\"/>\n",
       "  </svg>\n",
       "    </button>\n",
       "\n",
       "  <style>\n",
       "    .colab-df-container {\n",
       "      display:flex;\n",
       "      gap: 12px;\n",
       "    }\n",
       "\n",
       "    .colab-df-convert {\n",
       "      background-color: #E8F0FE;\n",
       "      border: none;\n",
       "      border-radius: 50%;\n",
       "      cursor: pointer;\n",
       "      display: none;\n",
       "      fill: #1967D2;\n",
       "      height: 32px;\n",
       "      padding: 0 0 0 0;\n",
       "      width: 32px;\n",
       "    }\n",
       "\n",
       "    .colab-df-convert:hover {\n",
       "      background-color: #E2EBFA;\n",
       "      box-shadow: 0px 1px 2px rgba(60, 64, 67, 0.3), 0px 1px 3px 1px rgba(60, 64, 67, 0.15);\n",
       "      fill: #174EA6;\n",
       "    }\n",
       "\n",
       "    .colab-df-buttons div {\n",
       "      margin-bottom: 4px;\n",
       "    }\n",
       "\n",
       "    [theme=dark] .colab-df-convert {\n",
       "      background-color: #3B4455;\n",
       "      fill: #D2E3FC;\n",
       "    }\n",
       "\n",
       "    [theme=dark] .colab-df-convert:hover {\n",
       "      background-color: #434B5C;\n",
       "      box-shadow: 0px 1px 3px 1px rgba(0, 0, 0, 0.15);\n",
       "      filter: drop-shadow(0px 1px 2px rgba(0, 0, 0, 0.3));\n",
       "      fill: #FFFFFF;\n",
       "    }\n",
       "  </style>\n",
       "\n",
       "    <script>\n",
       "      const buttonEl =\n",
       "        document.querySelector('#df-902549b8-fc2d-4dc3-a258-05bc30af86d9 button.colab-df-convert');\n",
       "      buttonEl.style.display =\n",
       "        google.colab.kernel.accessAllowed ? 'block' : 'none';\n",
       "\n",
       "      async function convertToInteractive(key) {\n",
       "        const element = document.querySelector('#df-902549b8-fc2d-4dc3-a258-05bc30af86d9');\n",
       "        const dataTable =\n",
       "          await google.colab.kernel.invokeFunction('convertToInteractive',\n",
       "                                                    [key], {});\n",
       "        if (!dataTable) return;\n",
       "\n",
       "        const docLinkHtml = 'Like what you see? Visit the ' +\n",
       "          '<a target=\"_blank\" href=https://colab.research.google.com/notebooks/data_table.ipynb>data table notebook</a>'\n",
       "          + ' to learn more about interactive tables.';\n",
       "        element.innerHTML = '';\n",
       "        dataTable['output_type'] = 'display_data';\n",
       "        await google.colab.output.renderOutput(dataTable, element);\n",
       "        const docLink = document.createElement('div');\n",
       "        docLink.innerHTML = docLinkHtml;\n",
       "        element.appendChild(docLink);\n",
       "      }\n",
       "    </script>\n",
       "  </div>\n",
       "\n",
       "\n",
       "<div id=\"df-a06a9e33-0dc0-4419-8f58-d5bc3484f4fe\">\n",
       "  <button class=\"colab-df-quickchart\" onclick=\"quickchart('df-a06a9e33-0dc0-4419-8f58-d5bc3484f4fe')\"\n",
       "            title=\"Suggest charts.\"\n",
       "            style=\"display:none;\">\n",
       "\n",
       "<svg xmlns=\"http://www.w3.org/2000/svg\" height=\"24px\"viewBox=\"0 0 24 24\"\n",
       "     width=\"24px\">\n",
       "    <g>\n",
       "        <path d=\"M19 3H5c-1.1 0-2 .9-2 2v14c0 1.1.9 2 2 2h14c1.1 0 2-.9 2-2V5c0-1.1-.9-2-2-2zM9 17H7v-7h2v7zm4 0h-2V7h2v10zm4 0h-2v-4h2v4z\"/>\n",
       "    </g>\n",
       "</svg>\n",
       "  </button>\n",
       "\n",
       "<style>\n",
       "  .colab-df-quickchart {\n",
       "      --bg-color: #E8F0FE;\n",
       "      --fill-color: #1967D2;\n",
       "      --hover-bg-color: #E2EBFA;\n",
       "      --hover-fill-color: #174EA6;\n",
       "      --disabled-fill-color: #AAA;\n",
       "      --disabled-bg-color: #DDD;\n",
       "  }\n",
       "\n",
       "  [theme=dark] .colab-df-quickchart {\n",
       "      --bg-color: #3B4455;\n",
       "      --fill-color: #D2E3FC;\n",
       "      --hover-bg-color: #434B5C;\n",
       "      --hover-fill-color: #FFFFFF;\n",
       "      --disabled-bg-color: #3B4455;\n",
       "      --disabled-fill-color: #666;\n",
       "  }\n",
       "\n",
       "  .colab-df-quickchart {\n",
       "    background-color: var(--bg-color);\n",
       "    border: none;\n",
       "    border-radius: 50%;\n",
       "    cursor: pointer;\n",
       "    display: none;\n",
       "    fill: var(--fill-color);\n",
       "    height: 32px;\n",
       "    padding: 0;\n",
       "    width: 32px;\n",
       "  }\n",
       "\n",
       "  .colab-df-quickchart:hover {\n",
       "    background-color: var(--hover-bg-color);\n",
       "    box-shadow: 0 1px 2px rgba(60, 64, 67, 0.3), 0 1px 3px 1px rgba(60, 64, 67, 0.15);\n",
       "    fill: var(--button-hover-fill-color);\n",
       "  }\n",
       "\n",
       "  .colab-df-quickchart-complete:disabled,\n",
       "  .colab-df-quickchart-complete:disabled:hover {\n",
       "    background-color: var(--disabled-bg-color);\n",
       "    fill: var(--disabled-fill-color);\n",
       "    box-shadow: none;\n",
       "  }\n",
       "\n",
       "  .colab-df-spinner {\n",
       "    border: 2px solid var(--fill-color);\n",
       "    border-color: transparent;\n",
       "    border-bottom-color: var(--fill-color);\n",
       "    animation:\n",
       "      spin 1s steps(1) infinite;\n",
       "  }\n",
       "\n",
       "  @keyframes spin {\n",
       "    0% {\n",
       "      border-color: transparent;\n",
       "      border-bottom-color: var(--fill-color);\n",
       "      border-left-color: var(--fill-color);\n",
       "    }\n",
       "    20% {\n",
       "      border-color: transparent;\n",
       "      border-left-color: var(--fill-color);\n",
       "      border-top-color: var(--fill-color);\n",
       "    }\n",
       "    30% {\n",
       "      border-color: transparent;\n",
       "      border-left-color: var(--fill-color);\n",
       "      border-top-color: var(--fill-color);\n",
       "      border-right-color: var(--fill-color);\n",
       "    }\n",
       "    40% {\n",
       "      border-color: transparent;\n",
       "      border-right-color: var(--fill-color);\n",
       "      border-top-color: var(--fill-color);\n",
       "    }\n",
       "    60% {\n",
       "      border-color: transparent;\n",
       "      border-right-color: var(--fill-color);\n",
       "    }\n",
       "    80% {\n",
       "      border-color: transparent;\n",
       "      border-right-color: var(--fill-color);\n",
       "      border-bottom-color: var(--fill-color);\n",
       "    }\n",
       "    90% {\n",
       "      border-color: transparent;\n",
       "      border-bottom-color: var(--fill-color);\n",
       "    }\n",
       "  }\n",
       "</style>\n",
       "\n",
       "  <script>\n",
       "    async function quickchart(key) {\n",
       "      const quickchartButtonEl =\n",
       "        document.querySelector('#' + key + ' button');\n",
       "      quickchartButtonEl.disabled = true;  // To prevent multiple clicks.\n",
       "      quickchartButtonEl.classList.add('colab-df-spinner');\n",
       "      try {\n",
       "        const charts = await google.colab.kernel.invokeFunction(\n",
       "            'suggestCharts', [key], {});\n",
       "      } catch (error) {\n",
       "        console.error('Error during call to suggestCharts:', error);\n",
       "      }\n",
       "      quickchartButtonEl.classList.remove('colab-df-spinner');\n",
       "      quickchartButtonEl.classList.add('colab-df-quickchart-complete');\n",
       "    }\n",
       "    (() => {\n",
       "      let quickchartButtonEl =\n",
       "        document.querySelector('#df-a06a9e33-0dc0-4419-8f58-d5bc3484f4fe button');\n",
       "      quickchartButtonEl.style.display =\n",
       "        google.colab.kernel.accessAllowed ? 'block' : 'none';\n",
       "    })();\n",
       "  </script>\n",
       "</div>\n",
       "    </div>\n",
       "  </div>\n"
      ],
      "text/plain": [
       "                                                                                                                                             text  \\\n",
       "id                                                                                                                                                  \n",
       "1                                                                       our deed are the reason of thi hashtag earthquake may allah forgive u all   \n",
       "4                                                                                                         forest fire near la ronge sask . canada   \n",
       "5          all resident asked to ' shelter in place ' are being notified by officers . no other evacuation or shelter in place order are expected   \n",
       "6                                                    BigNumberRandomjunkidentifier people receive hashtag wildfire evacuation order in california   \n",
       "7                                               just got sent thi photo from ruby hashtag alaska a smoke from hashtag wildfire pour into a school   \n",
       "...                                                                                                                                           ...   \n",
       "10869                                                                             two giant crane holding a bridge collapse into nearby home http   \n",
       "10870            @ aria ahrary @ thetawniest the out of control wild fire in california even in the northern part of the state . very troubling .   \n",
       "10871                                                                                          m1.94 [01:04 utc] ? 5km s of volcano hawaii . http   \n",
       "10872  police investigating after an e-bike collided with a car in little portugal . e-bike rider suffered seriou non-life threatening injuries .   \n",
       "10873                                                                  the latest: more home razed by northern california wildfire - abc new http   \n",
       "\n",
       "       target  \n",
       "id             \n",
       "1           1  \n",
       "4           1  \n",
       "5           1  \n",
       "6           1  \n",
       "7           1  \n",
       "...       ...  \n",
       "10869       1  \n",
       "10870       1  \n",
       "10871       1  \n",
       "10872       1  \n",
       "10873       1  \n",
       "\n",
       "[7613 rows x 2 columns]"
      ]
     },
     "execution_count": 6,
     "metadata": {},
     "output_type": "execute_result"
    }
   ],
   "source": [
    "train_df = pd.read_csv('train.csv', index_col= 0)\n",
    "train_df.drop([\"keyword\", \"location\"], axis= 1, inplace = True) #Dropping keyword because I want to the model to pick up on keywords\n",
    "pd.set_option('display.max_colwidth', None)\n",
    "\n",
    "train_df['text'] = train_df['text'].apply(help_cleaner)\n",
    "\n",
    "train_df"
   ]
  },
  {
   "cell_type": "markdown",
   "id": "9d9ca507-a68c-44ec-8d8a-bfa8319f3024",
   "metadata": {
    "id": "9d9ca507-a68c-44ec-8d8a-bfa8319f3024"
   },
   "source": [
    "### Importing test set just like the training set"
   ]
  },
  {
   "cell_type": "code",
   "execution_count": 7,
   "id": "aa1c6622-3fdf-4fa1-954b-518794609652",
   "metadata": {
    "colab": {
     "base_uri": "https://localhost:8080/",
     "height": 455
    },
    "id": "aa1c6622-3fdf-4fa1-954b-518794609652",
    "outputId": "a9d2d693-7703-4ab0-c335-3d5886ef6fea"
   },
   "outputs": [
    {
     "data": {
      "text/html": [
       "\n",
       "  <div id=\"df-095e2627-dc16-4a4d-b654-4b6a8bb4de74\" class=\"colab-df-container\">\n",
       "    <div>\n",
       "<style scoped>\n",
       "    .dataframe tbody tr th:only-of-type {\n",
       "        vertical-align: middle;\n",
       "    }\n",
       "\n",
       "    .dataframe tbody tr th {\n",
       "        vertical-align: top;\n",
       "    }\n",
       "\n",
       "    .dataframe thead th {\n",
       "        text-align: right;\n",
       "    }\n",
       "</style>\n",
       "<table border=\"1\" class=\"dataframe\">\n",
       "  <thead>\n",
       "    <tr style=\"text-align: right;\">\n",
       "      <th></th>\n",
       "      <th>text</th>\n",
       "    </tr>\n",
       "    <tr>\n",
       "      <th>id</th>\n",
       "      <th></th>\n",
       "    </tr>\n",
       "  </thead>\n",
       "  <tbody>\n",
       "    <tr>\n",
       "      <th>0</th>\n",
       "      <td>just happened a terrible car crash</td>\n",
       "    </tr>\n",
       "    <tr>\n",
       "      <th>2</th>\n",
       "      <td>heard about hashtag earthquake i different cities, stay safe everyone .</td>\n",
       "    </tr>\n",
       "    <tr>\n",
       "      <th>3</th>\n",
       "      <td>there i a forest fire at spot pond, geese are fleeing acros the street, i cannot save them all</td>\n",
       "    </tr>\n",
       "    <tr>\n",
       "      <th>9</th>\n",
       "      <td>apocalypse lighting . hashtag spokane hashtag wildfire</td>\n",
       "    </tr>\n",
       "    <tr>\n",
       "      <th>11</th>\n",
       "      <td>typhoon soudelor kill MediumishNumberRandomjunkidentifier in china and taiwan</td>\n",
       "    </tr>\n",
       "    <tr>\n",
       "      <th>...</th>\n",
       "      <td>...</td>\n",
       "    </tr>\n",
       "    <tr>\n",
       "      <th>10861</th>\n",
       "      <td>earthquake safety lo angele safety fastener xrwn</td>\n",
       "    </tr>\n",
       "    <tr>\n",
       "      <th>10865</th>\n",
       "      <td>storm in ri worse than last hurricane . my city amp ; 3other hardest hit . my yard look like it wa bombed . around 20000k still without power</td>\n",
       "    </tr>\n",
       "    <tr>\n",
       "      <th>10868</th>\n",
       "      <td>green line derailment in chicago http</td>\n",
       "    </tr>\n",
       "    <tr>\n",
       "      <th>10874</th>\n",
       "      <td>meg issue hazardou weather outlook hwo http</td>\n",
       "    </tr>\n",
       "    <tr>\n",
       "      <th>10875</th>\n",
       "      <td>hashtag cityofcalgary ha activated it municipal emergency plan . hashtag yycstorm</td>\n",
       "    </tr>\n",
       "  </tbody>\n",
       "</table>\n",
       "<p>3263 rows × 1 columns</p>\n",
       "</div>\n",
       "    <div class=\"colab-df-buttons\">\n",
       "\n",
       "  <div class=\"colab-df-container\">\n",
       "    <button class=\"colab-df-convert\" onclick=\"convertToInteractive('df-095e2627-dc16-4a4d-b654-4b6a8bb4de74')\"\n",
       "            title=\"Convert this dataframe to an interactive table.\"\n",
       "            style=\"display:none;\">\n",
       "\n",
       "  <svg xmlns=\"http://www.w3.org/2000/svg\" height=\"24px\" viewBox=\"0 -960 960 960\">\n",
       "    <path d=\"M120-120v-720h720v720H120Zm60-500h600v-160H180v160Zm220 220h160v-160H400v160Zm0 220h160v-160H400v160ZM180-400h160v-160H180v160Zm440 0h160v-160H620v160ZM180-180h160v-160H180v160Zm440 0h160v-160H620v160Z\"/>\n",
       "  </svg>\n",
       "    </button>\n",
       "\n",
       "  <style>\n",
       "    .colab-df-container {\n",
       "      display:flex;\n",
       "      gap: 12px;\n",
       "    }\n",
       "\n",
       "    .colab-df-convert {\n",
       "      background-color: #E8F0FE;\n",
       "      border: none;\n",
       "      border-radius: 50%;\n",
       "      cursor: pointer;\n",
       "      display: none;\n",
       "      fill: #1967D2;\n",
       "      height: 32px;\n",
       "      padding: 0 0 0 0;\n",
       "      width: 32px;\n",
       "    }\n",
       "\n",
       "    .colab-df-convert:hover {\n",
       "      background-color: #E2EBFA;\n",
       "      box-shadow: 0px 1px 2px rgba(60, 64, 67, 0.3), 0px 1px 3px 1px rgba(60, 64, 67, 0.15);\n",
       "      fill: #174EA6;\n",
       "    }\n",
       "\n",
       "    .colab-df-buttons div {\n",
       "      margin-bottom: 4px;\n",
       "    }\n",
       "\n",
       "    [theme=dark] .colab-df-convert {\n",
       "      background-color: #3B4455;\n",
       "      fill: #D2E3FC;\n",
       "    }\n",
       "\n",
       "    [theme=dark] .colab-df-convert:hover {\n",
       "      background-color: #434B5C;\n",
       "      box-shadow: 0px 1px 3px 1px rgba(0, 0, 0, 0.15);\n",
       "      filter: drop-shadow(0px 1px 2px rgba(0, 0, 0, 0.3));\n",
       "      fill: #FFFFFF;\n",
       "    }\n",
       "  </style>\n",
       "\n",
       "    <script>\n",
       "      const buttonEl =\n",
       "        document.querySelector('#df-095e2627-dc16-4a4d-b654-4b6a8bb4de74 button.colab-df-convert');\n",
       "      buttonEl.style.display =\n",
       "        google.colab.kernel.accessAllowed ? 'block' : 'none';\n",
       "\n",
       "      async function convertToInteractive(key) {\n",
       "        const element = document.querySelector('#df-095e2627-dc16-4a4d-b654-4b6a8bb4de74');\n",
       "        const dataTable =\n",
       "          await google.colab.kernel.invokeFunction('convertToInteractive',\n",
       "                                                    [key], {});\n",
       "        if (!dataTable) return;\n",
       "\n",
       "        const docLinkHtml = 'Like what you see? Visit the ' +\n",
       "          '<a target=\"_blank\" href=https://colab.research.google.com/notebooks/data_table.ipynb>data table notebook</a>'\n",
       "          + ' to learn more about interactive tables.';\n",
       "        element.innerHTML = '';\n",
       "        dataTable['output_type'] = 'display_data';\n",
       "        await google.colab.output.renderOutput(dataTable, element);\n",
       "        const docLink = document.createElement('div');\n",
       "        docLink.innerHTML = docLinkHtml;\n",
       "        element.appendChild(docLink);\n",
       "      }\n",
       "    </script>\n",
       "  </div>\n",
       "\n",
       "\n",
       "<div id=\"df-f76fb5b9-06cf-4f10-a033-64a3859a2976\">\n",
       "  <button class=\"colab-df-quickchart\" onclick=\"quickchart('df-f76fb5b9-06cf-4f10-a033-64a3859a2976')\"\n",
       "            title=\"Suggest charts.\"\n",
       "            style=\"display:none;\">\n",
       "\n",
       "<svg xmlns=\"http://www.w3.org/2000/svg\" height=\"24px\"viewBox=\"0 0 24 24\"\n",
       "     width=\"24px\">\n",
       "    <g>\n",
       "        <path d=\"M19 3H5c-1.1 0-2 .9-2 2v14c0 1.1.9 2 2 2h14c1.1 0 2-.9 2-2V5c0-1.1-.9-2-2-2zM9 17H7v-7h2v7zm4 0h-2V7h2v10zm4 0h-2v-4h2v4z\"/>\n",
       "    </g>\n",
       "</svg>\n",
       "  </button>\n",
       "\n",
       "<style>\n",
       "  .colab-df-quickchart {\n",
       "      --bg-color: #E8F0FE;\n",
       "      --fill-color: #1967D2;\n",
       "      --hover-bg-color: #E2EBFA;\n",
       "      --hover-fill-color: #174EA6;\n",
       "      --disabled-fill-color: #AAA;\n",
       "      --disabled-bg-color: #DDD;\n",
       "  }\n",
       "\n",
       "  [theme=dark] .colab-df-quickchart {\n",
       "      --bg-color: #3B4455;\n",
       "      --fill-color: #D2E3FC;\n",
       "      --hover-bg-color: #434B5C;\n",
       "      --hover-fill-color: #FFFFFF;\n",
       "      --disabled-bg-color: #3B4455;\n",
       "      --disabled-fill-color: #666;\n",
       "  }\n",
       "\n",
       "  .colab-df-quickchart {\n",
       "    background-color: var(--bg-color);\n",
       "    border: none;\n",
       "    border-radius: 50%;\n",
       "    cursor: pointer;\n",
       "    display: none;\n",
       "    fill: var(--fill-color);\n",
       "    height: 32px;\n",
       "    padding: 0;\n",
       "    width: 32px;\n",
       "  }\n",
       "\n",
       "  .colab-df-quickchart:hover {\n",
       "    background-color: var(--hover-bg-color);\n",
       "    box-shadow: 0 1px 2px rgba(60, 64, 67, 0.3), 0 1px 3px 1px rgba(60, 64, 67, 0.15);\n",
       "    fill: var(--button-hover-fill-color);\n",
       "  }\n",
       "\n",
       "  .colab-df-quickchart-complete:disabled,\n",
       "  .colab-df-quickchart-complete:disabled:hover {\n",
       "    background-color: var(--disabled-bg-color);\n",
       "    fill: var(--disabled-fill-color);\n",
       "    box-shadow: none;\n",
       "  }\n",
       "\n",
       "  .colab-df-spinner {\n",
       "    border: 2px solid var(--fill-color);\n",
       "    border-color: transparent;\n",
       "    border-bottom-color: var(--fill-color);\n",
       "    animation:\n",
       "      spin 1s steps(1) infinite;\n",
       "  }\n",
       "\n",
       "  @keyframes spin {\n",
       "    0% {\n",
       "      border-color: transparent;\n",
       "      border-bottom-color: var(--fill-color);\n",
       "      border-left-color: var(--fill-color);\n",
       "    }\n",
       "    20% {\n",
       "      border-color: transparent;\n",
       "      border-left-color: var(--fill-color);\n",
       "      border-top-color: var(--fill-color);\n",
       "    }\n",
       "    30% {\n",
       "      border-color: transparent;\n",
       "      border-left-color: var(--fill-color);\n",
       "      border-top-color: var(--fill-color);\n",
       "      border-right-color: var(--fill-color);\n",
       "    }\n",
       "    40% {\n",
       "      border-color: transparent;\n",
       "      border-right-color: var(--fill-color);\n",
       "      border-top-color: var(--fill-color);\n",
       "    }\n",
       "    60% {\n",
       "      border-color: transparent;\n",
       "      border-right-color: var(--fill-color);\n",
       "    }\n",
       "    80% {\n",
       "      border-color: transparent;\n",
       "      border-right-color: var(--fill-color);\n",
       "      border-bottom-color: var(--fill-color);\n",
       "    }\n",
       "    90% {\n",
       "      border-color: transparent;\n",
       "      border-bottom-color: var(--fill-color);\n",
       "    }\n",
       "  }\n",
       "</style>\n",
       "\n",
       "  <script>\n",
       "    async function quickchart(key) {\n",
       "      const quickchartButtonEl =\n",
       "        document.querySelector('#' + key + ' button');\n",
       "      quickchartButtonEl.disabled = true;  // To prevent multiple clicks.\n",
       "      quickchartButtonEl.classList.add('colab-df-spinner');\n",
       "      try {\n",
       "        const charts = await google.colab.kernel.invokeFunction(\n",
       "            'suggestCharts', [key], {});\n",
       "      } catch (error) {\n",
       "        console.error('Error during call to suggestCharts:', error);\n",
       "      }\n",
       "      quickchartButtonEl.classList.remove('colab-df-spinner');\n",
       "      quickchartButtonEl.classList.add('colab-df-quickchart-complete');\n",
       "    }\n",
       "    (() => {\n",
       "      let quickchartButtonEl =\n",
       "        document.querySelector('#df-f76fb5b9-06cf-4f10-a033-64a3859a2976 button');\n",
       "      quickchartButtonEl.style.display =\n",
       "        google.colab.kernel.accessAllowed ? 'block' : 'none';\n",
       "    })();\n",
       "  </script>\n",
       "</div>\n",
       "    </div>\n",
       "  </div>\n"
      ],
      "text/plain": [
       "                                                                                                                                                text\n",
       "id                                                                                                                                                  \n",
       "0                                                                                                                 just happened a terrible car crash\n",
       "2                                                                            heard about hashtag earthquake i different cities, stay safe everyone .\n",
       "3                                                     there i a forest fire at spot pond, geese are fleeing acros the street, i cannot save them all\n",
       "9                                                                                             apocalypse lighting . hashtag spokane hashtag wildfire\n",
       "11                                                                     typhoon soudelor kill MediumishNumberRandomjunkidentifier in china and taiwan\n",
       "...                                                                                                                                              ...\n",
       "10861                                                                                               earthquake safety lo angele safety fastener xrwn\n",
       "10865  storm in ri worse than last hurricane . my city amp ; 3other hardest hit . my yard look like it wa bombed . around 20000k still without power\n",
       "10868                                                                                                          green line derailment in chicago http\n",
       "10874                                                                                                    meg issue hazardou weather outlook hwo http\n",
       "10875                                                              hashtag cityofcalgary ha activated it municipal emergency plan . hashtag yycstorm\n",
       "\n",
       "[3263 rows x 1 columns]"
      ]
     },
     "execution_count": 7,
     "metadata": {},
     "output_type": "execute_result"
    }
   ],
   "source": [
    "test_df = pd.read_csv('test.csv', index_col= 0)\n",
    "test_df.drop([\"keyword\",\"location\"], axis= 1, inplace = True) #Dropping keyword because I want to the model to pick up on keywords\n",
    "\n",
    "test_df['text'] = test_df['text'].apply(help_cleaner)\n",
    "\n",
    "test_df"
   ]
  },
  {
   "cell_type": "code",
   "execution_count": 8,
   "id": "3785418d-c916-40fd-ae82-1f1df8f4de8f",
   "metadata": {
    "id": "3785418d-c916-40fd-ae82-1f1df8f4de8f"
   },
   "outputs": [],
   "source": [
    "def Cumulative(lists):\n",
    "    cu_list = []\n",
    "    length = len(lists)\n",
    "    cu_list = [sum(lists[0:x:1]) for x in range(0, length+1)]\n",
    "    return cu_list[1:]"
   ]
  },
  {
   "cell_type": "code",
   "execution_count": 9,
   "id": "cb73d490-ce52-44c2-96c9-c89697f2b357",
   "metadata": {
    "id": "cb73d490-ce52-44c2-96c9-c89697f2b357"
   },
   "outputs": [],
   "source": [
    "#tokenizer_used = feature_extraction.text.CountVectorizer(min_df = 2)\n",
    "tokenizer_used = feature_extraction.text.TfidfVectorizer(min_df = 2)\n",
    "\n",
    "mat = tokenizer_used.fit_transform(train_df[\"text\"])\n",
    "\n",
    "vocab = tokenizer_used.vocabulary_"
   ]
  },
  {
   "cell_type": "code",
   "execution_count": 10,
   "id": "6d57f5f4-ce30-44a4-8b15-1333c6a6b820",
   "metadata": {
    "colab": {
     "base_uri": "https://localhost:8080/",
     "height": 447
    },
    "id": "6d57f5f4-ce30-44a4-8b15-1333c6a6b820",
    "outputId": "97ca7219-2f18-45d0-a2b1-23842092e209"
   },
   "outputs": [
    {
     "data": {
      "text/plain": [
       "[<matplotlib.lines.Line2D at 0x788a85a9b700>]"
      ]
     },
     "execution_count": 10,
     "metadata": {},
     "output_type": "execute_result"
    },
    {
     "data": {
      "image/png": "[encoded data removed]",
      "text/plain": [
       "<Figure size 640x480 with 1 Axes>"
      ]
     },
     "metadata": {},
     "output_type": "display_data"
    }
   ],
   "source": [
    "\n",
    "\n",
    "#0.86 is explained by only 2000 components out of over 6000!\n",
    "#0.794 is explained by 1500 components. A little more than from my original notebook where I did no pre-processing to text (0.78)\n",
    "#0.70 is explained by only 1000 components!\n",
    "#0.53 is explained by only 500 components!\n",
    "#0.38 is explained by only 250 components\n",
    "#0.26 is explained by only 125 components\n",
    "#0.15 is explained by only 50 components\n",
    "#0.09 is explained by only 25 components\n",
    "\n",
    "\n",
    "svd = TruncatedSVD(n_components = comp_used, random_state = 1) #Initializing the SVD settings. We intend to keep comp_used components\n",
    "\n",
    "svd.fit(mat)\n",
    "\n",
    "\n",
    "c = Cumulative(svd.explained_variance_)\n",
    "plt.plot(range(len(svd.explained_variance_)), c, '.') #A plot of variance explained vs number of components used"
   ]
  },
  {
   "cell_type": "code",
   "execution_count": 11,
   "id": "962de186-e596-434c-8aa4-b087b8374d64",
   "metadata": {
    "colab": {
     "base_uri": "https://localhost:8080/"
    },
    "id": "962de186-e596-434c-8aa4-b087b8374d64",
    "outputId": "1e7fa442-d6a1-41d1-a698-65a9bcc2cb81"
   },
   "outputs": [
    {
     "data": {
      "text/plain": [
       "6103"
      ]
     },
     "execution_count": 11,
     "metadata": {},
     "output_type": "execute_result"
    }
   ],
   "source": [
    "len(vocab)\n",
    "#Before processing it was almost 6600 words/tokens and now it's down to 6104."
   ]
  },
  {
   "cell_type": "code",
   "execution_count": 12,
   "id": "90bda995-e7b4-4852-81d4-ca2fb739ccd7",
   "metadata": {
    "id": "90bda995-e7b4-4852-81d4-ca2fb739ccd7"
   },
   "outputs": [],
   "source": [
    "test_mat = tokenizer_used.transform(test_df['text'])"
   ]
  },
  {
   "cell_type": "code",
   "execution_count": 13,
   "id": "6c727e40-a048-4b13-a88c-7e205e0adbf9",
   "metadata": {
    "id": "6c727e40-a048-4b13-a88c-7e205e0adbf9"
   },
   "outputs": [],
   "source": [
    "col_names = [list(vocab.keys())[list(vocab.values()).index(i)] for i in range(len(vocab))]\n",
    "\n",
    "vectorizer_mat = pd.DataFrame(mat.toarray(), columns = col_names)#.apply(sum)\n",
    "vectorizer_mat.index = train_df.index\n",
    "\n",
    "test_mat = tokenizer_used.transform(test_df['text'])\n",
    "vectorizer_test_mat = pd.DataFrame(test_mat.toarray(), columns = col_names)\n",
    "vectorizer_test_mat.index = test_df.index\n"
   ]
  },
  {
   "cell_type": "code",
   "execution_count": 14,
   "id": "40b6ef5d-05f5-4d17-b6a3-e8852a6249ea",
   "metadata": {
    "colab": {
     "base_uri": "https://localhost:8080/",
     "height": 443
    },
    "id": "40b6ef5d-05f5-4d17-b6a3-e8852a6249ea",
    "outputId": "69f66808-0f61-4c1c-c5f9-15ef2ead596f"
   },
   "outputs": [
    {
     "data": {
      "text/html": [
       "\n",
       "  <div id=\"df-3224cc39-b9c1-46b4-ad02-578b46dbce01\" class=\"colab-df-container\">\n",
       "    <div>\n",
       "<style scoped>\n",
       "    .dataframe tbody tr th:only-of-type {\n",
       "        vertical-align: middle;\n",
       "    }\n",
       "\n",
       "    .dataframe tbody tr th {\n",
       "        vertical-align: top;\n",
       "    }\n",
       "\n",
       "    .dataframe thead th {\n",
       "        text-align: right;\n",
       "    }\n",
       "</style>\n",
       "<table border=\"1\" class=\"dataframe\">\n",
       "  <thead>\n",
       "    <tr style=\"text-align: right;\">\n",
       "      <th></th>\n",
       "      <th>00</th>\n",
       "      <th>000</th>\n",
       "      <th>01</th>\n",
       "      <th>02</th>\n",
       "      <th>03</th>\n",
       "      <th>030</th>\n",
       "      <th>04</th>\n",
       "      <th>05</th>\n",
       "      <th>06</th>\n",
       "      <th>07</th>\n",
       "      <th>...</th>\n",
       "      <th>zero</th>\n",
       "      <th>zimbabwe</th>\n",
       "      <th>zionism</th>\n",
       "      <th>zionist</th>\n",
       "      <th>zippednew</th>\n",
       "      <th>zipper</th>\n",
       "      <th>zombie</th>\n",
       "      <th>zone</th>\n",
       "      <th>zouma</th>\n",
       "      <th>zs</th>\n",
       "    </tr>\n",
       "  </thead>\n",
       "  <tbody>\n",
       "    <tr>\n",
       "      <th>0</th>\n",
       "      <td>0.005230</td>\n",
       "      <td>0.000656</td>\n",
       "      <td>0.003842</td>\n",
       "      <td>0.000848</td>\n",
       "      <td>0.000572</td>\n",
       "      <td>0.000148</td>\n",
       "      <td>0.002107</td>\n",
       "      <td>0.002790</td>\n",
       "      <td>0.003295</td>\n",
       "      <td>0.002898</td>\n",
       "      <td>...</td>\n",
       "      <td>0.000428</td>\n",
       "      <td>0.000411</td>\n",
       "      <td>0.001369</td>\n",
       "      <td>0.002234</td>\n",
       "      <td>0.001605</td>\n",
       "      <td>0.000243</td>\n",
       "      <td>0.002678</td>\n",
       "      <td>0.007173</td>\n",
       "      <td>0.000953</td>\n",
       "      <td>0.000209</td>\n",
       "    </tr>\n",
       "    <tr>\n",
       "      <th>1</th>\n",
       "      <td>0.004864</td>\n",
       "      <td>-0.000968</td>\n",
       "      <td>0.005565</td>\n",
       "      <td>0.000678</td>\n",
       "      <td>-0.000131</td>\n",
       "      <td>-0.000060</td>\n",
       "      <td>0.002707</td>\n",
       "      <td>0.002168</td>\n",
       "      <td>0.004426</td>\n",
       "      <td>0.002255</td>\n",
       "      <td>...</td>\n",
       "      <td>-0.000547</td>\n",
       "      <td>-0.000551</td>\n",
       "      <td>0.002253</td>\n",
       "      <td>0.002739</td>\n",
       "      <td>0.002017</td>\n",
       "      <td>0.000060</td>\n",
       "      <td>-0.000689</td>\n",
       "      <td>-0.004537</td>\n",
       "      <td>-0.000719</td>\n",
       "      <td>-0.000052</td>\n",
       "    </tr>\n",
       "    <tr>\n",
       "      <th>2</th>\n",
       "      <td>0.005354</td>\n",
       "      <td>-0.000586</td>\n",
       "      <td>0.002623</td>\n",
       "      <td>0.001005</td>\n",
       "      <td>0.002148</td>\n",
       "      <td>0.000420</td>\n",
       "      <td>0.001841</td>\n",
       "      <td>0.003899</td>\n",
       "      <td>0.003084</td>\n",
       "      <td>0.002625</td>\n",
       "      <td>...</td>\n",
       "      <td>0.000373</td>\n",
       "      <td>0.000256</td>\n",
       "      <td>-0.001275</td>\n",
       "      <td>-0.000464</td>\n",
       "      <td>0.002211</td>\n",
       "      <td>0.001084</td>\n",
       "      <td>-0.000022</td>\n",
       "      <td>-0.003241</td>\n",
       "      <td>-0.003292</td>\n",
       "      <td>0.001030</td>\n",
       "    </tr>\n",
       "    <tr>\n",
       "      <th>3</th>\n",
       "      <td>-0.003023</td>\n",
       "      <td>0.000671</td>\n",
       "      <td>0.000345</td>\n",
       "      <td>-0.001307</td>\n",
       "      <td>-0.001382</td>\n",
       "      <td>-0.000578</td>\n",
       "      <td>0.001225</td>\n",
       "      <td>-0.001014</td>\n",
       "      <td>-0.001567</td>\n",
       "      <td>-0.001510</td>\n",
       "      <td>...</td>\n",
       "      <td>-0.000494</td>\n",
       "      <td>0.001042</td>\n",
       "      <td>0.001273</td>\n",
       "      <td>-0.002327</td>\n",
       "      <td>-0.000555</td>\n",
       "      <td>-0.001452</td>\n",
       "      <td>-0.000003</td>\n",
       "      <td>0.006369</td>\n",
       "      <td>-0.002111</td>\n",
       "      <td>-0.000746</td>\n",
       "    </tr>\n",
       "    <tr>\n",
       "      <th>4</th>\n",
       "      <td>0.002322</td>\n",
       "      <td>0.000820</td>\n",
       "      <td>0.001370</td>\n",
       "      <td>0.000365</td>\n",
       "      <td>0.000107</td>\n",
       "      <td>0.000277</td>\n",
       "      <td>0.000130</td>\n",
       "      <td>0.000785</td>\n",
       "      <td>0.000499</td>\n",
       "      <td>0.000453</td>\n",
       "      <td>...</td>\n",
       "      <td>-0.000018</td>\n",
       "      <td>-0.000184</td>\n",
       "      <td>0.000022</td>\n",
       "      <td>-0.001893</td>\n",
       "      <td>-0.001666</td>\n",
       "      <td>-0.000017</td>\n",
       "      <td>0.000578</td>\n",
       "      <td>0.004494</td>\n",
       "      <td>0.008823</td>\n",
       "      <td>0.000232</td>\n",
       "    </tr>\n",
       "    <tr>\n",
       "      <th>...</th>\n",
       "      <td>...</td>\n",
       "      <td>...</td>\n",
       "      <td>...</td>\n",
       "      <td>...</td>\n",
       "      <td>...</td>\n",
       "      <td>...</td>\n",
       "      <td>...</td>\n",
       "      <td>...</td>\n",
       "      <td>...</td>\n",
       "      <td>...</td>\n",
       "      <td>...</td>\n",
       "      <td>...</td>\n",
       "      <td>...</td>\n",
       "      <td>...</td>\n",
       "      <td>...</td>\n",
       "      <td>...</td>\n",
       "      <td>...</td>\n",
       "      <td>...</td>\n",
       "      <td>...</td>\n",
       "      <td>...</td>\n",
       "      <td>...</td>\n",
       "    </tr>\n",
       "    <tr>\n",
       "      <th>495</th>\n",
       "      <td>-0.032766</td>\n",
       "      <td>0.002885</td>\n",
       "      <td>-0.008219</td>\n",
       "      <td>0.002817</td>\n",
       "      <td>0.001527</td>\n",
       "      <td>0.004000</td>\n",
       "      <td>-0.007223</td>\n",
       "      <td>0.017255</td>\n",
       "      <td>-0.000407</td>\n",
       "      <td>-0.009959</td>\n",
       "      <td>...</td>\n",
       "      <td>-0.000643</td>\n",
       "      <td>0.000456</td>\n",
       "      <td>0.002248</td>\n",
       "      <td>-0.001503</td>\n",
       "      <td>0.001300</td>\n",
       "      <td>0.002375</td>\n",
       "      <td>-0.000879</td>\n",
       "      <td>-0.021293</td>\n",
       "      <td>-0.001144</td>\n",
       "      <td>0.001113</td>\n",
       "    </tr>\n",
       "    <tr>\n",
       "      <th>496</th>\n",
       "      <td>0.012287</td>\n",
       "      <td>0.006714</td>\n",
       "      <td>0.017821</td>\n",
       "      <td>-0.004835</td>\n",
       "      <td>0.002070</td>\n",
       "      <td>-0.005958</td>\n",
       "      <td>0.010866</td>\n",
       "      <td>-0.026718</td>\n",
       "      <td>0.012169</td>\n",
       "      <td>-0.002134</td>\n",
       "      <td>...</td>\n",
       "      <td>0.005540</td>\n",
       "      <td>0.000287</td>\n",
       "      <td>0.006003</td>\n",
       "      <td>0.015403</td>\n",
       "      <td>-0.000095</td>\n",
       "      <td>-0.000812</td>\n",
       "      <td>0.006290</td>\n",
       "      <td>-0.007303</td>\n",
       "      <td>-0.002284</td>\n",
       "      <td>0.000812</td>\n",
       "    </tr>\n",
       "    <tr>\n",
       "      <th>497</th>\n",
       "      <td>0.000328</td>\n",
       "      <td>0.001516</td>\n",
       "      <td>-0.029046</td>\n",
       "      <td>-0.004982</td>\n",
       "      <td>-0.004381</td>\n",
       "      <td>0.007970</td>\n",
       "      <td>-0.010910</td>\n",
       "      <td>0.021521</td>\n",
       "      <td>-0.016915</td>\n",
       "      <td>-0.004392</td>\n",
       "      <td>...</td>\n",
       "      <td>-0.002763</td>\n",
       "      <td>0.000262</td>\n",
       "      <td>-0.000830</td>\n",
       "      <td>-0.005007</td>\n",
       "      <td>0.000717</td>\n",
       "      <td>0.001490</td>\n",
       "      <td>0.008307</td>\n",
       "      <td>-0.034604</td>\n",
       "      <td>-0.014846</td>\n",
       "      <td>-0.002714</td>\n",
       "    </tr>\n",
       "    <tr>\n",
       "      <th>498</th>\n",
       "      <td>-0.021834</td>\n",
       "      <td>-0.002022</td>\n",
       "      <td>0.000158</td>\n",
       "      <td>0.001394</td>\n",
       "      <td>0.007356</td>\n",
       "      <td>0.000340</td>\n",
       "      <td>-0.002224</td>\n",
       "      <td>-0.001971</td>\n",
       "      <td>0.008505</td>\n",
       "      <td>0.016830</td>\n",
       "      <td>...</td>\n",
       "      <td>-0.001664</td>\n",
       "      <td>0.009537</td>\n",
       "      <td>0.007083</td>\n",
       "      <td>0.012974</td>\n",
       "      <td>-0.000612</td>\n",
       "      <td>0.001583</td>\n",
       "      <td>-0.006504</td>\n",
       "      <td>-0.059354</td>\n",
       "      <td>-0.004986</td>\n",
       "      <td>0.007947</td>\n",
       "    </tr>\n",
       "    <tr>\n",
       "      <th>499</th>\n",
       "      <td>0.017034</td>\n",
       "      <td>-0.002189</td>\n",
       "      <td>-0.012709</td>\n",
       "      <td>-0.005442</td>\n",
       "      <td>0.003865</td>\n",
       "      <td>0.003034</td>\n",
       "      <td>0.004726</td>\n",
       "      <td>0.000569</td>\n",
       "      <td>0.001530</td>\n",
       "      <td>-0.021311</td>\n",
       "      <td>...</td>\n",
       "      <td>0.002363</td>\n",
       "      <td>0.004939</td>\n",
       "      <td>0.014929</td>\n",
       "      <td>0.024953</td>\n",
       "      <td>-0.001880</td>\n",
       "      <td>-0.000734</td>\n",
       "      <td>-0.006939</td>\n",
       "      <td>0.052080</td>\n",
       "      <td>-0.001788</td>\n",
       "      <td>0.003198</td>\n",
       "    </tr>\n",
       "  </tbody>\n",
       "</table>\n",
       "<p>500 rows × 6103 columns</p>\n",
       "</div>\n",
       "    <div class=\"colab-df-buttons\">\n",
       "\n",
       "  <div class=\"colab-df-container\">\n",
       "    <button class=\"colab-df-convert\" onclick=\"convertToInteractive('df-3224cc39-b9c1-46b4-ad02-578b46dbce01')\"\n",
       "            title=\"Convert this dataframe to an interactive table.\"\n",
       "            style=\"display:none;\">\n",
       "\n",
       "  <svg xmlns=\"http://www.w3.org/2000/svg\" height=\"24px\" viewBox=\"0 -960 960 960\">\n",
       "    <path d=\"M120-120v-720h720v720H120Zm60-500h600v-160H180v160Zm220 220h160v-160H400v160Zm0 220h160v-160H400v160ZM180-400h160v-160H180v160Zm440 0h160v-160H620v160ZM180-180h160v-160H180v160Zm440 0h160v-160H620v160Z\"/>\n",
       "  </svg>\n",
       "    </button>\n",
       "\n",
       "  <style>\n",
       "    .colab-df-container {\n",
       "      display:flex;\n",
       "      gap: 12px;\n",
       "    }\n",
       "\n",
       "    .colab-df-convert {\n",
       "      background-color: #E8F0FE;\n",
       "      border: none;\n",
       "      border-radius: 50%;\n",
       "      cursor: pointer;\n",
       "      display: none;\n",
       "      fill: #1967D2;\n",
       "      height: 32px;\n",
       "      padding: 0 0 0 0;\n",
       "      width: 32px;\n",
       "    }\n",
       "\n",
       "    .colab-df-convert:hover {\n",
       "      background-color: #E2EBFA;\n",
       "      box-shadow: 0px 1px 2px rgba(60, 64, 67, 0.3), 0px 1px 3px 1px rgba(60, 64, 67, 0.15);\n",
       "      fill: #174EA6;\n",
       "    }\n",
       "\n",
       "    .colab-df-buttons div {\n",
       "      margin-bottom: 4px;\n",
       "    }\n",
       "\n",
       "    [theme=dark] .colab-df-convert {\n",
       "      background-color: #3B4455;\n",
       "      fill: #D2E3FC;\n",
       "    }\n",
       "\n",
       "    [theme=dark] .colab-df-convert:hover {\n",
       "      background-color: #434B5C;\n",
       "      box-shadow: 0px 1px 3px 1px rgba(0, 0, 0, 0.15);\n",
       "      filter: drop-shadow(0px 1px 2px rgba(0, 0, 0, 0.3));\n",
       "      fill: #FFFFFF;\n",
       "    }\n",
       "  </style>\n",
       "\n",
       "    <script>\n",
       "      const buttonEl =\n",
       "        document.querySelector('#df-3224cc39-b9c1-46b4-ad02-578b46dbce01 button.colab-df-convert');\n",
       "      buttonEl.style.display =\n",
       "        google.colab.kernel.accessAllowed ? 'block' : 'none';\n",
       "\n",
       "      async function convertToInteractive(key) {\n",
       "        const element = document.querySelector('#df-3224cc39-b9c1-46b4-ad02-578b46dbce01');\n",
       "        const dataTable =\n",
       "          await google.colab.kernel.invokeFunction('convertToInteractive',\n",
       "                                                    [key], {});\n",
       "        if (!dataTable) return;\n",
       "\n",
       "        const docLinkHtml = 'Like what you see? Visit the ' +\n",
       "          '<a target=\"_blank\" href=https://colab.research.google.com/notebooks/data_table.ipynb>data table notebook</a>'\n",
       "          + ' to learn more about interactive tables.';\n",
       "        element.innerHTML = '';\n",
       "        dataTable['output_type'] = 'display_data';\n",
       "        await google.colab.output.renderOutput(dataTable, element);\n",
       "        const docLink = document.createElement('div');\n",
       "        docLink.innerHTML = docLinkHtml;\n",
       "        element.appendChild(docLink);\n",
       "      }\n",
       "    </script>\n",
       "  </div>\n",
       "\n",
       "\n",
       "<div id=\"df-6beb43be-4883-440e-bde3-6684114a0175\">\n",
       "  <button class=\"colab-df-quickchart\" onclick=\"quickchart('df-6beb43be-4883-440e-bde3-6684114a0175')\"\n",
       "            title=\"Suggest charts.\"\n",
       "            style=\"display:none;\">\n",
       "\n",
       "<svg xmlns=\"http://www.w3.org/2000/svg\" height=\"24px\"viewBox=\"0 0 24 24\"\n",
       "     width=\"24px\">\n",
       "    <g>\n",
       "        <path d=\"M19 3H5c-1.1 0-2 .9-2 2v14c0 1.1.9 2 2 2h14c1.1 0 2-.9 2-2V5c0-1.1-.9-2-2-2zM9 17H7v-7h2v7zm4 0h-2V7h2v10zm4 0h-2v-4h2v4z\"/>\n",
       "    </g>\n",
       "</svg>\n",
       "  </button>\n",
       "\n",
       "<style>\n",
       "  .colab-df-quickchart {\n",
       "      --bg-color: #E8F0FE;\n",
       "      --fill-color: #1967D2;\n",
       "      --hover-bg-color: #E2EBFA;\n",
       "      --hover-fill-color: #174EA6;\n",
       "      --disabled-fill-color: #AAA;\n",
       "      --disabled-bg-color: #DDD;\n",
       "  }\n",
       "\n",
       "  [theme=dark] .colab-df-quickchart {\n",
       "      --bg-color: #3B4455;\n",
       "      --fill-color: #D2E3FC;\n",
       "      --hover-bg-color: #434B5C;\n",
       "      --hover-fill-color: #FFFFFF;\n",
       "      --disabled-bg-color: #3B4455;\n",
       "      --disabled-fill-color: #666;\n",
       "  }\n",
       "\n",
       "  .colab-df-quickchart {\n",
       "    background-color: var(--bg-color);\n",
       "    border: none;\n",
       "    border-radius: 50%;\n",
       "    cursor: pointer;\n",
       "    display: none;\n",
       "    fill: var(--fill-color);\n",
       "    height: 32px;\n",
       "    padding: 0;\n",
       "    width: 32px;\n",
       "  }\n",
       "\n",
       "  .colab-df-quickchart:hover {\n",
       "    background-color: var(--hover-bg-color);\n",
       "    box-shadow: 0 1px 2px rgba(60, 64, 67, 0.3), 0 1px 3px 1px rgba(60, 64, 67, 0.15);\n",
       "    fill: var(--button-hover-fill-color);\n",
       "  }\n",
       "\n",
       "  .colab-df-quickchart-complete:disabled,\n",
       "  .colab-df-quickchart-complete:disabled:hover {\n",
       "    background-color: var(--disabled-bg-color);\n",
       "    fill: var(--disabled-fill-color);\n",
       "    box-shadow: none;\n",
       "  }\n",
       "\n",
       "  .colab-df-spinner {\n",
       "    border: 2px solid var(--fill-color);\n",
       "    border-color: transparent;\n",
       "    border-bottom-color: var(--fill-color);\n",
       "    animation:\n",
       "      spin 1s steps(1) infinite;\n",
       "  }\n",
       "\n",
       "  @keyframes spin {\n",
       "    0% {\n",
       "      border-color: transparent;\n",
       "      border-bottom-color: var(--fill-color);\n",
       "      border-left-color: var(--fill-color);\n",
       "    }\n",
       "    20% {\n",
       "      border-color: transparent;\n",
       "      border-left-color: var(--fill-color);\n",
       "      border-top-color: var(--fill-color);\n",
       "    }\n",
       "    30% {\n",
       "      border-color: transparent;\n",
       "      border-left-color: var(--fill-color);\n",
       "      border-top-color: var(--fill-color);\n",
       "      border-right-color: var(--fill-color);\n",
       "    }\n",
       "    40% {\n",
       "      border-color: transparent;\n",
       "      border-right-color: var(--fill-color);\n",
       "      border-top-color: var(--fill-color);\n",
       "    }\n",
       "    60% {\n",
       "      border-color: transparent;\n",
       "      border-right-color: var(--fill-color);\n",
       "    }\n",
       "    80% {\n",
       "      border-color: transparent;\n",
       "      border-right-color: var(--fill-color);\n",
       "      border-bottom-color: var(--fill-color);\n",
       "    }\n",
       "    90% {\n",
       "      border-color: transparent;\n",
       "      border-bottom-color: var(--fill-color);\n",
       "    }\n",
       "  }\n",
       "</style>\n",
       "\n",
       "  <script>\n",
       "    async function quickchart(key) {\n",
       "      const quickchartButtonEl =\n",
       "        document.querySelector('#' + key + ' button');\n",
       "      quickchartButtonEl.disabled = true;  // To prevent multiple clicks.\n",
       "      quickchartButtonEl.classList.add('colab-df-spinner');\n",
       "      try {\n",
       "        const charts = await google.colab.kernel.invokeFunction(\n",
       "            'suggestCharts', [key], {});\n",
       "      } catch (error) {\n",
       "        console.error('Error during call to suggestCharts:', error);\n",
       "      }\n",
       "      quickchartButtonEl.classList.remove('colab-df-spinner');\n",
       "      quickchartButtonEl.classList.add('colab-df-quickchart-complete');\n",
       "    }\n",
       "    (() => {\n",
       "      let quickchartButtonEl =\n",
       "        document.querySelector('#df-6beb43be-4883-440e-bde3-6684114a0175 button');\n",
       "      quickchartButtonEl.style.display =\n",
       "        google.colab.kernel.accessAllowed ? 'block' : 'none';\n",
       "    })();\n",
       "  </script>\n",
       "</div>\n",
       "    </div>\n",
       "  </div>\n"
      ],
      "text/plain": [
       "           00       000        01        02        03       030        04  \\\n",
       "0    0.005230  0.000656  0.003842  0.000848  0.000572  0.000148  0.002107   \n",
       "1    0.004864 -0.000968  0.005565  0.000678 -0.000131 -0.000060  0.002707   \n",
       "2    0.005354 -0.000586  0.002623  0.001005  0.002148  0.000420  0.001841   \n",
       "3   -0.003023  0.000671  0.000345 -0.001307 -0.001382 -0.000578  0.001225   \n",
       "4    0.002322  0.000820  0.001370  0.000365  0.000107  0.000277  0.000130   \n",
       "..        ...       ...       ...       ...       ...       ...       ...   \n",
       "495 -0.032766  0.002885 -0.008219  0.002817  0.001527  0.004000 -0.007223   \n",
       "496  0.012287  0.006714  0.017821 -0.004835  0.002070 -0.005958  0.010866   \n",
       "497  0.000328  0.001516 -0.029046 -0.004982 -0.004381  0.007970 -0.010910   \n",
       "498 -0.021834 -0.002022  0.000158  0.001394  0.007356  0.000340 -0.002224   \n",
       "499  0.017034 -0.002189 -0.012709 -0.005442  0.003865  0.003034  0.004726   \n",
       "\n",
       "           05        06        07  ...      zero  zimbabwe   zionism  \\\n",
       "0    0.002790  0.003295  0.002898  ...  0.000428  0.000411  0.001369   \n",
       "1    0.002168  0.004426  0.002255  ... -0.000547 -0.000551  0.002253   \n",
       "2    0.003899  0.003084  0.002625  ...  0.000373  0.000256 -0.001275   \n",
       "3   -0.001014 -0.001567 -0.001510  ... -0.000494  0.001042  0.001273   \n",
       "4    0.000785  0.000499  0.000453  ... -0.000018 -0.000184  0.000022   \n",
       "..        ...       ...       ...  ...       ...       ...       ...   \n",
       "495  0.017255 -0.000407 -0.009959  ... -0.000643  0.000456  0.002248   \n",
       "496 -0.026718  0.012169 -0.002134  ...  0.005540  0.000287  0.006003   \n",
       "497  0.021521 -0.016915 -0.004392  ... -0.002763  0.000262 -0.000830   \n",
       "498 -0.001971  0.008505  0.016830  ... -0.001664  0.009537  0.007083   \n",
       "499  0.000569  0.001530 -0.021311  ...  0.002363  0.004939  0.014929   \n",
       "\n",
       "      zionist  zippednew    zipper    zombie      zone     zouma        zs  \n",
       "0    0.002234   0.001605  0.000243  0.002678  0.007173  0.000953  0.000209  \n",
       "1    0.002739   0.002017  0.000060 -0.000689 -0.004537 -0.000719 -0.000052  \n",
       "2   -0.000464   0.002211  0.001084 -0.000022 -0.003241 -0.003292  0.001030  \n",
       "3   -0.002327  -0.000555 -0.001452 -0.000003  0.006369 -0.002111 -0.000746  \n",
       "4   -0.001893  -0.001666 -0.000017  0.000578  0.004494  0.008823  0.000232  \n",
       "..        ...        ...       ...       ...       ...       ...       ...  \n",
       "495 -0.001503   0.001300  0.002375 -0.000879 -0.021293 -0.001144  0.001113  \n",
       "496  0.015403  -0.000095 -0.000812  0.006290 -0.007303 -0.002284  0.000812  \n",
       "497 -0.005007   0.000717  0.001490  0.008307 -0.034604 -0.014846 -0.002714  \n",
       "498  0.012974  -0.000612  0.001583 -0.006504 -0.059354 -0.004986  0.007947  \n",
       "499  0.024953  -0.001880 -0.000734 -0.006939  0.052080 -0.001788  0.003198  \n",
       "\n",
       "[500 rows x 6103 columns]"
      ]
     },
     "execution_count": 14,
     "metadata": {},
     "output_type": "execute_result"
    }
   ],
   "source": [
    "v_tran = pd.DataFrame(svd.components_, columns = col_names)\n",
    "v_tran"
   ]
  },
  {
   "cell_type": "code",
   "execution_count": 15,
   "id": "o2pyAhMVgCIz",
   "metadata": {
    "colab": {
     "base_uri": "https://localhost:8080/",
     "height": 447
    },
    "id": "o2pyAhMVgCIz",
    "outputId": "78af0933-f827-47e8-b5e0-a1f14e28fb1e"
   },
   "outputs": [
    {
     "data": {
      "text/plain": [
       "[<matplotlib.lines.Line2D at 0x788a84582ad0>]"
      ]
     },
     "execution_count": 15,
     "metadata": {},
     "output_type": "execute_result"
    },
    {
     "data": {
      "image/png": "[encoded data removed]",
      "text/plain": [
       "<Figure size 640x480 with 1 Axes>"
      ]
     },
     "metadata": {},
     "output_type": "display_data"
    }
   ],
   "source": [
    "list_norms = []\n",
    "for i in range(6103):\n",
    "    list_norms.append(np.linalg.norm(svd.components_[:,i]))\n",
    "plt.plot(list_norms, '.')"
   ]
  },
  {
   "cell_type": "code",
   "execution_count": 16,
   "id": "sEISP6Sjgzkq",
   "metadata": {
    "colab": {
     "base_uri": "https://localhost:8080/",
     "height": 447
    },
    "id": "sEISP6Sjgzkq",
    "outputId": "4f7f9e43-275c-4a78-d199-013211938c57"
   },
   "outputs": [
    {
     "data": {
      "text/plain": [
       "[<matplotlib.lines.Line2D at 0x788a863b5840>]"
      ]
     },
     "execution_count": 16,
     "metadata": {},
     "output_type": "execute_result"
    },
    {
     "data": {
      "image/png": "[encoded data removed]",
      "text/plain": [
       "<Figure size 640x480 with 1 Axes>"
      ]
     },
     "metadata": {},
     "output_type": "display_data"
    }
   ],
   "source": [
    "list_std = []\n",
    "for i in range(6103):\n",
    "    list_std.append(np.std(svd.components_[:,i]))\n",
    "plt.plot(list_std, '.')"
   ]
  },
  {
   "cell_type": "code",
   "execution_count": 17,
   "id": "d807a2b7-b8ad-4cf1-8079-22c1213079d8",
   "metadata": {
    "colab": {
     "base_uri": "https://localhost:8080/"
    },
    "id": "d807a2b7-b8ad-4cf1-8079-22c1213079d8",
    "outputId": "79c476cc-67d8-4af5-c9ed-9e39f7a9b18b"
   },
   "outputs": [
    {
     "data": {
      "text/plain": [
       "<bound method Series.sort_values of 0      0.058128\n",
       "1     -0.023484\n",
       "2      0.044895\n",
       "3     -0.030231\n",
       "4      0.008923\n",
       "         ...   \n",
       "495   -0.005543\n",
       "496    0.021205\n",
       "497    0.003456\n",
       "498    0.005382\n",
       "499    0.010080\n",
       "Name: fire, Length: 500, dtype: float64>"
      ]
     },
     "execution_count": 17,
     "metadata": {},
     "output_type": "execute_result"
    }
   ],
   "source": [
    "v_tran[\"fire\"].sort_values"
   ]
  },
  {
   "cell_type": "code",
   "execution_count": 18,
   "id": "f037444e-c178-48ae-8f2e-bd37ab367ad9",
   "metadata": {
    "colab": {
     "base_uri": "https://localhost:8080/"
    },
    "id": "f037444e-c178-48ae-8f2e-bd37ab367ad9",
    "outputId": "0e128537-b021-4460-b770-229f04eb6c6a"
   },
   "outputs": [
    {
     "data": {
      "text/plain": [
       "on                                        0.320217\n",
       "fire                                      0.277866\n",
       "to                                        0.272736\n",
       "in                                        0.219220\n",
       "from                                      0.116793\n",
       "that                                      0.095831\n",
       "building                                  0.084639\n",
       "we                                        0.081221\n",
       "mh370                                     0.076622\n",
       "the                                       0.076098\n",
       "crash                                     0.074529\n",
       "are                                       0.073546\n",
       "debri                                     0.067868\n",
       "there                                     0.067057\n",
       "be                                        0.066144\n",
       "multiplequesttokenrandomjunkidentifier    0.065453\n",
       "multiplepertokenrandomjunkidentifier      0.063690\n",
       "forest                                    0.062403\n",
       "reunion                                   0.052952\n",
       "malaysia                                  0.052180\n",
       "found                                     0.050521\n",
       "island                                    0.045353\n",
       "about                                     0.043479\n",
       "truck                                     0.041992\n",
       "market                                    0.040606\n",
       "Name: 14, dtype: float64"
      ]
     },
     "execution_count": 18,
     "metadata": {},
     "output_type": "execute_result"
    }
   ],
   "source": [
    "v_tran.loc[14].sort_values(ascending = False).head(25)"
   ]
  },
  {
   "cell_type": "code",
   "execution_count": 19,
   "id": "aea4cdca-26c1-4d3f-a266-ffbe7541daa1",
   "metadata": {
    "colab": {
     "base_uri": "https://localhost:8080/"
    },
    "id": "aea4cdca-26c1-4d3f-a266-ffbe7541daa1",
    "outputId": "2869e54c-754d-4a49-936c-0d952a8e6148"
   },
   "outputs": [
    {
     "data": {
      "text/plain": [
       "on                                     0.342461\n",
       "my                                     0.257692\n",
       "fire                                   0.204086\n",
       "than                                   0.186896\n",
       "have                                   0.186000\n",
       "been                                   0.166857\n",
       "https                                  0.161888\n",
       "oil                                    0.141637\n",
       "spill                                  0.138688\n",
       "mediumishnumberrandomjunkidentifier    0.138161\n",
       "of                                     0.133359\n",
       "projected                              0.123434\n",
       "may                                    0.122416\n",
       "bigger                                 0.122134\n",
       "costlier                               0.121600\n",
       "refugio                                0.121600\n",
       "legionnaires                           0.090485\n",
       "are                                    0.072108\n",
       "fatal                                  0.060544\n",
       "in                                     0.058190\n",
       "over                                   0.057955\n",
       "year                                   0.056042\n",
       "affected                               0.051291\n",
       "sue                                    0.048800\n",
       "forest                                 0.048626\n",
       "Name: 15, dtype: float64"
      ]
     },
     "execution_count": 19,
     "metadata": {},
     "output_type": "execute_result"
    }
   ],
   "source": [
    "v_tran.loc[15].sort_values(ascending = False).head(25)"
   ]
  },
  {
   "cell_type": "code",
   "execution_count": 20,
   "id": "89da807f-ae25-4a6c-9508-599ef1dab330",
   "metadata": {
    "colab": {
     "base_uri": "https://localhost:8080/"
    },
    "id": "89da807f-ae25-4a6c-9508-599ef1dab330",
    "outputId": "fe34c87c-b12f-46b6-e6f1-ba0934d96c5d"
   },
   "outputs": [
    {
     "data": {
      "text/plain": [
       "are                                     0.303238\n",
       "we                                      0.285826\n",
       "and                                     0.197857\n",
       "up                                      0.193910\n",
       "video                                   0.192235\n",
       "migrant                                 0.138536\n",
       "multiplepertokenrandomjunkidentifier    0.133728\n",
       "hundred                                 0.132869\n",
       "re                                      0.132869\n",
       "rescuer                                 0.128137\n",
       "searching                               0.122516\n",
       "fire                                    0.121069\n",
       "bodie                                   0.120175\n",
       "picking                                 0.117097\n",
       "suicide                                 0.110291\n",
       "they                                    0.103158\n",
       "bomb                                    0.102431\n",
       "water                                   0.102117\n",
       "bomber                                  0.096202\n",
       "like                                    0.095883\n",
       "old                                     0.086843\n",
       "with                                    0.077666\n",
       "detonated                               0.072943\n",
       "pkk                                     0.072134\n",
       "16yr                                    0.071509\n",
       "Name: 22, dtype: float64"
      ]
     },
     "execution_count": 20,
     "metadata": {},
     "output_type": "execute_result"
    }
   ],
   "source": [
    "v_tran.loc[22].sort_values(ascending = False).head(25)"
   ]
  },
  {
   "cell_type": "code",
   "execution_count": 21,
   "id": "a6318b10-75b1-4015-8324-2be6ea2cdd8c",
   "metadata": {
    "colab": {
     "base_uri": "https://localhost:8080/"
    },
    "id": "a6318b10-75b1-4015-8324-2be6ea2cdd8c",
    "outputId": "ae4b2f86-a80d-46b1-d999-6d3bff83171f"
   },
   "outputs": [
    {
     "data": {
      "text/plain": [
       "15.059433756832718"
      ]
     },
     "execution_count": 21,
     "metadata": {},
     "output_type": "execute_result"
    }
   ],
   "source": [
    "(v_tran[\"car\"] - v_tran[\"cat\"]).apply(abs).values.sum()"
   ]
  },
  {
   "cell_type": "code",
   "execution_count": 22,
   "id": "b529d19e-a526-46c6-b32b-d629e366b149",
   "metadata": {
    "colab": {
     "base_uri": "https://localhost:8080/"
    },
    "id": "b529d19e-a526-46c6-b32b-d629e366b149",
    "outputId": "ab9198e4-8e18-45cc-b6f6-b238c6817ed3"
   },
   "outputs": [
    {
     "data": {
      "text/plain": [
       "12.922319050257173"
      ]
     },
     "execution_count": 22,
     "metadata": {},
     "output_type": "execute_result"
    }
   ],
   "source": [
    "(v_tran[\"dog\"] - v_tran[\"cat\"]).apply(abs).values.sum()"
   ]
  },
  {
   "cell_type": "code",
   "execution_count": 23,
   "id": "bb7243d2-7d3c-4f59-bb57-9591f05445c8",
   "metadata": {
    "colab": {
     "base_uri": "https://localhost:8080/"
    },
    "id": "bb7243d2-7d3c-4f59-bb57-9591f05445c8",
    "outputId": "4e28b419-d33e-4213-e4a3-685e3b2f5f98"
   },
   "outputs": [
    {
     "data": {
      "text/plain": [
       "5.441718927390243"
      ]
     },
     "execution_count": 23,
     "metadata": {},
     "output_type": "execute_result"
    }
   ],
   "source": [
    "(v_tran[\"kitten\"] - v_tran[\"cat\"]).apply(abs).values.sum()"
   ]
  },
  {
   "cell_type": "code",
   "execution_count": 24,
   "id": "83417d1d-d044-404c-9b7e-45a86d60aa7e",
   "metadata": {
    "colab": {
     "base_uri": "https://localhost:8080/"
    },
    "id": "83417d1d-d044-404c-9b7e-45a86d60aa7e",
    "outputId": "e6e8e475-45f5-4760-96c1-3bc8db34217b"
   },
   "outputs": [
    {
     "data": {
      "text/plain": [
       "10.440753717922712"
      ]
     },
     "execution_count": 24,
     "metadata": {},
     "output_type": "execute_result"
    }
   ],
   "source": [
    "(v_tran[\"cold\"] - v_tran[\"hot\"]).apply(abs).values.sum()"
   ]
  },
  {
   "cell_type": "markdown",
   "id": "e0f0e4b4-2158-4308-ae08-28bc1fb40228",
   "metadata": {
    "id": "e0f0e4b4-2158-4308-ae08-28bc1fb40228"
   },
   "source": [
    "We expect that the difference between a car and cat should be relatively large even though they're \"close\" in terms of characters.\n",
    "Similarly, we expect cold and hot to be far apart. We expect dog and cat to be far apart compared to kitten and cat but also closer than car.\n",
    "\n",
    "We see this which is a good sign!"
   ]
  },
  {
   "cell_type": "code",
   "execution_count": 25,
   "id": "5c24fe3f-21bd-46df-8c9c-746737e4dfe8",
   "metadata": {
    "id": "5c24fe3f-21bd-46df-8c9c-746737e4dfe8"
   },
   "outputs": [],
   "source": [
    "sum_of_tfidf = vectorizer_mat.apply(sum)"
   ]
  },
  {
   "cell_type": "code",
   "execution_count": 26,
   "id": "a0bfa81b-bd82-4764-8f0e-df17275dfe73",
   "metadata": {
    "colab": {
     "base_uri": "https://localhost:8080/"
    },
    "id": "a0bfa81b-bd82-4764-8f0e-df17275dfe73",
    "outputId": "727d843d-4fdb-4c0b-8c2a-6e549abd99c7"
   },
   "outputs": [
    {
     "data": {
      "text/plain": [
       "http                                      370.609488\n",
       "hashtag                                   360.645483\n",
       "the                                       320.532338\n",
       "in                                        222.787716\n",
       "to                                        218.651203\n",
       "of                                        205.375249\n",
       "and                                       176.640725\n",
       "multiplepertokenrandomjunkidentifier      147.645049\n",
       "you                                       144.632811\n",
       "it                                        131.016224\n",
       "for                                       129.402515\n",
       "on                                        127.363657\n",
       "multiplequesttokenrandomjunkidentifier    125.009993\n",
       "smallishnumberrandomjunkidentifier        119.648185\n",
       "my                                        115.729855\n",
       "that                                      101.743982\n",
       "mediumishnumberrandomjunkidentifier        97.083009\n",
       "with                                       92.035371\n",
       "by                                         91.486473\n",
       "https                                      88.989823\n",
       "at                                         87.453357\n",
       "thi                                        85.500296\n",
       "from                                       75.618530\n",
       "be                                         74.926515\n",
       "are                                        74.737442\n",
       "dtype: float64"
      ]
     },
     "execution_count": 26,
     "metadata": {},
     "output_type": "execute_result"
    }
   ],
   "source": [
    "sum_of_tfidf.sort_values(ascending=False).head(25)"
   ]
  },
  {
   "cell_type": "markdown",
   "id": "7cfdca83-a727-41de-8014-348ffb985a24",
   "metadata": {
    "id": "7cfdca83-a727-41de-8014-348ffb985a24"
   },
   "source": [
    "### Attempting with a custom RNN"
   ]
  },
  {
   "cell_type": "markdown",
   "id": "1261d08b-d861-4cbf-8a45-10007897162b",
   "metadata": {
    "id": "1261d08b-d861-4cbf-8a45-10007897162b"
   },
   "source": [
    "Started off following this tutorial by Diego Velez.\n",
    "\n",
    "https://medium.com/@VersuS_/coding-a-recurrent-neural-network-rnn-from-scratch-using-pytorch-a6c9fc8ed4a7"
   ]
  },
  {
   "cell_type": "code",
   "execution_count": 27,
   "id": "6a33272d-66e4-46f2-a409-e0cced663e3c",
   "metadata": {
    "id": "6a33272d-66e4-46f2-a409-e0cced663e3c"
   },
   "outputs": [],
   "source": [
    "class RNN(nn.Module): #We call nn.Module because we want RNN to inherit from Module.\n",
    "    \"\"\"\n",
    "    Basic RNN block. This represents a single layer of RNN\n",
    "    \"\"\"\n",
    "    def __init__(self, input_size: int, hidden_size: int, output_size: int) -> None:\n",
    "        \"\"\"\n",
    "        input_size: Number of features of your input vector\n",
    "        hidden_size: Number of hidden neurons\n",
    "        output_size: Number of features of your output vector\n",
    "        \"\"\"\n",
    "        super().__init__()\n",
    "        self.input_size = input_size\n",
    "        self.hidden_size = hidden_size\n",
    "        self.output_size = output_size\n",
    "\n",
    "\n",
    "        self.i2h = nn.Linear(input_size, hidden_size)\n",
    "        self.h2h = nn.Linear(hidden_size, hidden_size)\n",
    "\n",
    "\n",
    "        self.i2h_back = nn.Linear(input_size, hidden_size)\n",
    "        self.h2h_back = nn.Linear(hidden_size, hidden_size)\n",
    "\n",
    "        self.h2h_comb = nn.Linear(hidden_size, hidden_size)\n",
    "\n",
    "        self.h2o = nn.Linear(hidden_size, output_size)\n",
    "        self.act = nn.Tanh() #nn.ReLU()\n",
    "\n",
    "        self.input_LNorm_f = nn.LayerNorm(input_size)\n",
    "        self.input_LNorm_b = nn.LayerNorm(input_size)\n",
    "\n",
    "        self.drop_layer = nn.Dropout(p=drop_prob)\n",
    "\n",
    "    def forward(self, x_forward, x_back, hidden_state_forward = None, hidden_state_back = None) -> tuple[torch.Tensor, torch.Tensor]:\n",
    "        \"\"\"\n",
    "        Returns computed output and tanh(i2h + h2h)\n",
    "        Inputs\n",
    "        ------\n",
    "        x: Input vector\n",
    "        hidden_state: Previous hidden state\n",
    "        Outputs\n",
    "        -------\n",
    "        out: Linear output (without activation because of how pytorch works)\n",
    "        hidden_state: New hidden state matrix\n",
    "        \"\"\"\n",
    "\n",
    "        if hidden_state_back is None:\n",
    "            hidden_state_forward = self.init_zero_hidden()\n",
    "            hidden_state_back = self.init_zero_hidden()\n",
    "\n",
    "        x_forward = self.input_LNorm_f(x_forward)\n",
    "        x_back = self.input_LNorm_b(x_back)\n",
    "\n",
    "        x_forward = self.i2h(x_forward)\n",
    "        x_back = self.i2h_back(x_back)\n",
    "\n",
    "        x_forward = self.drop_layer(x_forward)\n",
    "        x_back = self.drop_layer(x_back)\n",
    "\n",
    "        hidden_state_forward = self.h2h(hidden_state_forward)\n",
    "        hidden_state_back = self.h2h_back(hidden_state_back)\n",
    "\n",
    "        hidden_state_forward = self.drop_layer(hidden_state_forward)\n",
    "        hidden_state_back = self.drop_layer(hidden_state_back)\n",
    "\n",
    "        hidden_state_forward = self.act(x_forward + hidden_state_forward)\n",
    "        hidden_state_back = self.act(x_back + hidden_state_back)\n",
    "\n",
    "        hidden_state = self.h2h_comb(hidden_state_forward + hidden_state_back)\n",
    "\n",
    "        out = self.h2o(hidden_state)\n",
    "\n",
    "        return out, hidden_state_forward, hidden_state_back\n",
    "\n",
    "\n",
    "    def init_zero_hidden(self) -> torch.Tensor:\n",
    "        \"\"\"\n",
    "        Helper function.\n",
    "        Returns a hidden state with specified batch size. Defaults to 1\n",
    "        \"\"\"\n",
    "        return torch.zeros(self.hidden_size, requires_grad=False, dtype = torch.double).to(device)"
   ]
  },
  {
   "cell_type": "code",
   "execution_count": 80,
   "id": "e9d3d63e-ad15-40e8-85f4-4fba93915bb1",
   "metadata": {
    "id": "e9d3d63e-ad15-40e8-85f4-4fba93915bb1"
   },
   "outputs": [],
   "source": [
    "train_losses = {}\n",
    "val_losses = {}\n",
    "val_batch_losses = []\n",
    "\n",
    "t1_val = []\n",
    "t2_val = []\n",
    "\n",
    "layer_one_weights = []\n",
    "layer_last_weights = []\n",
    "\n",
    "layer_last_grads = []\n",
    "\n",
    "def train(model: RNN, data: DataLoader, val_data: DataLoader, epochs: int, optimizer: optim.Optimizer, loss_fn: nn.Module) -> None:\n",
    "    \"\"\"\n",
    "    Trains the model for the specified number of epochs\n",
    "    Inputs\n",
    "    ------\n",
    "    model: RNN model to train\n",
    "    data: Iterable DataLoader\n",
    "    epochs: Number of epochs to train the model\n",
    "    optiimizer: Optimizer to use for each epoch\n",
    "    loss_fn: Function to calculate loss\n",
    "    \"\"\"\n",
    "    model.to(device)\n",
    "\n",
    "\n",
    "    print(\"=> Starting training\")\n",
    "\n",
    "    for epoch in range(epochs):\n",
    "        model.train()\n",
    "        epoch_losses = list()\n",
    "        for X, Y in data:\n",
    "            # send tensors to device\n",
    "            X,Y = X.double(), Y.double()\n",
    "            X, Y = X.to(device), Y.to(device)\n",
    "            # 2. clear gradients\n",
    "            optimizer.zero_grad()\n",
    "\n",
    "            if not rand_guessing:\n",
    "                hidden_forward = None\n",
    "                hidden_back = None\n",
    "\n",
    "                for i in range(word_lim):\n",
    "                    if hidden_back is not None:\n",
    "                        out, hidden_forward, hidden_back = model(X[:,i].to(device), X[:,word_lim-i-1].to(device), hidden_forward[:].to(device), hidden_back[:].to(device))\n",
    "                    else:\n",
    "                        out, hidden_forward, hidden_back = model(X[:,i].to(device), X[:,word_lim-i-1].to(device))\n",
    "\n",
    "                t1 = torch.sigmoid(out).squeeze() #Maybe try with tanh instead of sigmoid.\n",
    "\n",
    "                layer_one_weights.append(model.i2h.weight.clone())\n",
    "                layer_last_weights.append(model.h2o.weight.clone())\n",
    "\n",
    "\n",
    "\n",
    "                loss = loss_fn(t1, Y)\n",
    "\n",
    "                # 4. Compte gradients\n",
    "                loss.backward()\n",
    "                layer_one_grads.append(model.i2h.weight.grad)\n",
    "                layer_last_grads.append(model.h2o.weight.grad)\n",
    "\n",
    "                # 5. Adjust learnable parameters\n",
    "                # clip as well to avoid vanishing and exploding gradients\n",
    "\n",
    "                nn.utils.clip_grad_norm_(model.parameters(), mx_norm)\n",
    "                optimizer.step()\n",
    "            else:\n",
    "                t1 = torch\n",
    "                loss = loss_fn(t1,Y)\n",
    "\n",
    "            epoch_losses.append(loss.detach().item())\n",
    "\n",
    "        train_losses[epoch] = torch.tensor(epoch_losses).mean()\n",
    "\n",
    "        if (epoch+1)%10==0:\n",
    "            print(f'=> epoch: {epoch + 1}, loss: {train_losses[epoch]}')\n",
    "\n",
    "        if val_data is not None:\n",
    "            model.eval()\n",
    "            val_epoch_losses = list()\n",
    "            with torch.no_grad():\n",
    "                for val_x, val_y in val_data:\n",
    "                    loss = 0\n",
    "\n",
    "                    val_x, val_y = val_x.double(), val_y.double()\n",
    "                    val_x = val_x.to(device)\n",
    "                    val_y = val_y.to(device)\n",
    "\n",
    "                    hidden_forward = None\n",
    "                    hidden_back = None\n",
    "\n",
    "                    for i in range(word_lim):\n",
    "                        if hidden_back is not None:\n",
    "                            out, hidden_forward, hidden_back = model(val_x[:,i].to(device), val_x[:,word_lim-i-1].to(device), hidden_forward[:].to(device), hidden_back[:].to(device))\n",
    "                        else:\n",
    "                            out, hidden_forward, hidden_back = model(val_x[:,i].to(device), val_x[:,word_lim-i-1].to(device))\n",
    "\n",
    "                    t1 = np.rint(torch.sigmoid(out).squeeze().cpu().detach().numpy()).astype(int)\n",
    "                    t2 = np.rint(val_y.cpu().detach().numpy()).astype(int)\n",
    "\n",
    "                    loss = metrics.f1_score(t2,t1)\n",
    "\n",
    "                    val_epoch_losses.append(loss)\n",
    "                    val_batch_losses.append(loss)\n",
    "                    t1_val.append(t1)\n",
    "                    t2_val.append(t2)\n",
    "\n",
    "\n",
    "                val_losses[epoch] = sum(val_epoch_losses)/len(val_epoch_losses)\n",
    "\n",
    "\n",
    "def predict(model: RNN, data: DataLoader) -> None:\n",
    "    model.to(device)\n",
    "    model.eval()\n",
    "\n",
    "    with torch.no_grad():\n",
    "        for test_x in data:\n",
    "            test_x = test_x.double().to(device)\n",
    "            hidden_forward = None\n",
    "            hidden_back = None\n",
    "\n",
    "            for i in range(word_lim):\n",
    "              if hidden_back is not None:\n",
    "                out, hidden_forward, hidden_back = model(test_x[:,i], test_x[:,word_lim-1-i], hidden_forward[:].to(device), hidden_back[:].to(device))\n",
    "              else:\n",
    "                out, hidden_forward, hidden_back = model(test_x[:,i], test_x[:,word_lim-1-i])\n",
    "\n",
    "            return np.rint(torch.sigmoid(out).squeeze().cpu().detach().numpy()).astype(int)\n"
   ]
  },
  {
   "cell_type": "code",
   "execution_count": 29,
   "id": "18fedac6-ee32-432a-b2ce-0761cae294aa",
   "metadata": {
    "colab": {
     "base_uri": "https://localhost:8080/",
     "height": 447
    },
    "id": "18fedac6-ee32-432a-b2ce-0761cae294aa",
    "outputId": "89187ce8-883e-44a9-f5d2-94f2bb70eb87"
   },
   "outputs": [
    {
     "data": {
      "text/plain": [
       "[<matplotlib.lines.Line2D at 0x788a80b625c0>]"
      ]
     },
     "execution_count": 29,
     "metadata": {},
     "output_type": "execute_result"
    },
    {
     "data": {
      "image/png": "[encoded data removed]",
      "text/plain": [
       "<Figure size 640x480 with 1 Axes>"
      ]
     },
     "metadata": {},
     "output_type": "display_data"
    }
   ],
   "source": [
    "temp = train_df['text'].apply(len)\n",
    "temp2 = temp.groupby(temp).count()\n",
    "plt.plot(temp2, '.')\n",
    "\n",
    "temp = test_df['text'].apply(len)\n",
    "temp2 = temp.groupby(temp).count()\n",
    "plt.plot(temp2, '.')"
   ]
  },
  {
   "cell_type": "markdown",
   "id": "dbb61a71-27f3-478a-a77c-f5fade0648ae",
   "metadata": {
    "id": "dbb61a71-27f3-478a-a77c-f5fade0648ae"
   },
   "source": [
    "The character count is really messed up because of my long custom tokens I added to avoid accidentally messing with the data.\n",
    "But I'll be using word vectorization anyway so the length of the tokens doesn't matter."
   ]
  },
  {
   "cell_type": "code",
   "execution_count": 30,
   "id": "b4484823-02d4-4023-a834-381918f5c169",
   "metadata": {
    "colab": {
     "base_uri": "https://localhost:8080/",
     "height": 447
    },
    "id": "b4484823-02d4-4023-a834-381918f5c169",
    "outputId": "ee215d37-5923-45d9-f05b-03ba84e6ab8f"
   },
   "outputs": [
    {
     "data": {
      "text/plain": [
       "[<matplotlib.lines.Line2D at 0x788a80b1ee90>]"
      ]
     },
     "execution_count": 30,
     "metadata": {},
     "output_type": "execute_result"
    },
    {
     "data": {
      "image/png": "[encoded data removed]",
      "text/plain": [
       "<Figure size 640x480 with 1 Axes>"
      ]
     },
     "metadata": {},
     "output_type": "display_data"
    }
   ],
   "source": [
    "temp = train_df['text'].apply(str.split).apply(len)\n",
    "temp2 = temp.groupby(temp).count()\n",
    "plt.plot(temp2, '.')\n",
    "\n",
    "temp = test_df['text'].apply(str.split).apply(len)\n",
    "temp2 = temp.groupby(temp).count()\n",
    "plt.plot(temp2, '.')"
   ]
  },
  {
   "cell_type": "markdown",
   "id": "96d7c4ab-7289-4c24-ab84-68245b5a37b8",
   "metadata": {
    "id": "96d7c4ab-7289-4c24-ab84-68245b5a37b8"
   },
   "source": [
    "Ignore this. It's old -> The maximum character count across the datasets is less than 160 and word count rarely exceeds 30 so we'll use 35 words as a cut off.\n",
    "\n",
    "New -> We have a few sentences now that are longer than 40 'words' but that's largely due to the tokenization applied.\n",
    "When it comes to training I'll probably just use a function to condense sentences by dropping useless info.\n",
    "If I use TF-IDF then it should come naturally."
   ]
  },
  {
   "cell_type": "markdown",
   "id": "bc47009b-4e81-4c3a-8a5a-f75d5913cbbf",
   "metadata": {
    "id": "bc47009b-4e81-4c3a-8a5a-f75d5913cbbf"
   },
   "source": [
    "### Training using the RNN"
   ]
  },
  {
   "cell_type": "code",
   "execution_count": 79,
   "id": "0f0e2bf8-3b74-4dd2-a934-10c162e86b7b",
   "metadata": {
    "id": "0f0e2bf8-3b74-4dd2-a934-10c162e86b7b"
   },
   "outputs": [],
   "source": [
    "class CustomTweetDataset(Dataset):\n",
    "    def __init__(self, x_data, y_data = None):\n",
    "        self.data = x_data\n",
    "        if y_data is not None:\n",
    "            y_data = torch.tensor(y_data.values)\n",
    "        self.y_data = y_data\n",
    "\n",
    "    def __len__(self):\n",
    "        return len(self.data)\n",
    "\n",
    "    def __getitem__(self, idx):\n",
    "        if self.y_data is not None:\n",
    "          return (self.data[idx], self.y_data[idx])\n",
    "        else:\n",
    "          return(self.data[idx])"
   ]
  },
  {
   "cell_type": "code",
   "execution_count": 32,
   "id": "6355c076-afee-4b57-919c-805f6327a2ae",
   "metadata": {
    "id": "6355c076-afee-4b57-919c-805f6327a2ae"
   },
   "outputs": [],
   "source": [
    "train_df_complete = train_df.copy(deep=True)"
   ]
  },
  {
   "cell_type": "code",
   "execution_count": 33,
   "id": "835bc428-3904-49c7-b928-325fcec47c8f",
   "metadata": {
    "id": "835bc428-3904-49c7-b928-325fcec47c8f"
   },
   "outputs": [],
   "source": [
    "train_df = train_df_complete.sample(frac = 0.8)\n",
    "val_df = train_df_complete.drop(train_df.index)"
   ]
  },
  {
   "cell_type": "code",
   "execution_count": 34,
   "id": "8bb58b00-6cbb-48e5-b4c4-4741df16a25f",
   "metadata": {
    "colab": {
     "base_uri": "https://localhost:8080/"
    },
    "id": "8bb58b00-6cbb-48e5-b4c4-4741df16a25f",
    "outputId": "afce9646-73f3-4e6a-f9f2-15091cc2626a"
   },
   "outputs": [
    {
     "name": "stdout",
     "output_type": "stream",
     "text": [
      "162.697143397\n"
     ]
    }
   ],
   "source": [
    "#7612 rows * 30 words (at max) * comp_used (50 or less) = a tensor with 11,418,000 elements\n",
    "\n",
    "def help_func(data, test_data = False):\n",
    "    text_tensor = torch.zeros((len(data),word_lim,comp_used), dtype = torch.float)\n",
    "\n",
    "    for i,idx in enumerate(data.index):\n",
    "        text = data.loc[idx]['text'].split()\n",
    "\n",
    "        text = help_func3(text, idx, test_data)\n",
    "\n",
    "        for word_loc_in_text, x in enumerate(map(help_func2, text)):\n",
    "            text_tensor[i, word_loc_in_text] = x\n",
    "\n",
    "    text_tensor.requires_gradient = True\n",
    "    return text_tensor\n",
    "\n",
    "#Takes a word that's in vocab and returns its column representation in V transpose.\n",
    "#If it's not in the vocab then it just returns a zero tensor.\n",
    "def help_func2(x):\n",
    "    if x in v_tran.columns:\n",
    "        return torch.tensor(v_tran[x])\n",
    "    else:\n",
    "        return torch.zeros(comp_used, dtype = torch.float) #If it's not in the vocab then it returns a -2 and -1 is used for padding.\n",
    "\n",
    "\n",
    "def help_func3(text: list, idx, test_data):\n",
    "    #We are reducing the list to be equal to word_lim\n",
    "\n",
    "    if test_data:\n",
    "        text_weight_list = vectorizer_test_mat.loc[idx].apply(abs).sort_values(ascending = False).head(word_lim)[vectorizer_test_mat.loc[idx].apply(abs).sort_values(ascending = False).head(word_lim) > 1e-6]\n",
    "    else:\n",
    "        text_weight_list = vectorizer_mat.loc[idx].apply(abs).sort_values(ascending = False).head(word_lim)[vectorizer_mat.loc[idx].apply(abs).sort_values(ascending = False).head(word_lim) > 1e-6]\n",
    "\n",
    "    text_weight_list = list(text_weight_list.index)\n",
    "\n",
    "    if len(text_weight_list) > word_lim:\n",
    "        text_weight_list = text_weight_list[0:word_lim]\n",
    "\n",
    "    temp_text = []\n",
    "\n",
    "    for x in text:\n",
    "        if x in text_weight_list:\n",
    "            if len(temp_text) < word_lim:\n",
    "                temp_text.append(text_weight_list.index(x))\n",
    "            else:\n",
    "                temp_text.remove(min(temp_text))\n",
    "                temp_text.append(text_weight_list.index(x))\n",
    "\n",
    "    return [text_weight_list[weight_idx] for weight_idx in temp_text]\n",
    "\n",
    "\n",
    "start = timeit.default_timer()\n",
    "\n",
    "train_x = help_func(train_df)\n",
    "val_x = help_func(val_df)\n",
    "\n",
    "stop = timeit.default_timer()\n",
    "print(stop-start)"
   ]
  },
  {
   "cell_type": "code",
   "execution_count": 35,
   "id": "66e858e4-dc98-4bf8-bd06-0824082a4d87",
   "metadata": {
    "id": "66e858e4-dc98-4bf8-bd06-0824082a4d87"
   },
   "outputs": [],
   "source": [
    "train_dataset = CustomTweetDataset(train_x, train_df['target'])\n",
    "train_dataloader = DataLoader(train_dataset, batch_size, shuffle = True)\n",
    "\n",
    "val_dataset = CustomTweetDataset(val_x, val_df['target'])\n",
    "val_dataloader = DataLoader(val_dataset, batch_size, shuffle = True)\n",
    "\n",
    "#test_dataset = CustomTweetDataset(test_x)\n",
    "#test_dataloader = DataLoader(test_dataset, batch_size, shuffle = True)\n",
    "\n"
   ]
  },
  {
   "cell_type": "code",
   "execution_count": 36,
   "id": "bf677fbe-9c8b-484f-afde-7731eaaf0ef0",
   "metadata": {
    "id": "bf677fbe-9c8b-484f-afde-7731eaaf0ef0"
   },
   "outputs": [],
   "source": [
    "model = RNN(input_size, hidden_size, 1)\n",
    "model.to(device)\n",
    "model.double()\n",
    "loss_fn.to(device)\n",
    "\n",
    "my_optimizer = optim.AdamW(model.parameters(), lr = learning_rate)\n",
    "\n",
    "train_losses = {}\n",
    "val_losses = {}\n",
    "val_batch_losses = []\n",
    "\n",
    "t1_val = []\n",
    "t2_val = []\n",
    "\n",
    "layer_one_weights = []\n",
    "layer_one_grads = []\n",
    "\n",
    "layer_last_weights = []\n",
    "layer_last_grads = []"
   ]
  },
  {
   "cell_type": "code",
   "execution_count": 37,
   "id": "a031e373-5480-448d-aa5b-804a22ad2721",
   "metadata": {
    "colab": {
     "base_uri": "https://localhost:8080/"
    },
    "id": "a031e373-5480-448d-aa5b-804a22ad2721",
    "outputId": "b86071e5-1dc0-4cae-928a-47e13e7220b5"
   },
   "outputs": [
    {
     "data": {
      "text/plain": [
       "37265"
      ]
     },
     "execution_count": 37,
     "metadata": {},
     "output_type": "execute_result"
    }
   ],
   "source": [
    "def count_parameters(model):\n",
    "    return sum(p.numel() for p in model.parameters() if p.requires_grad)\n",
    "\n",
    "count_parameters(model)"
   ]
  },
  {
   "cell_type": "code",
   "execution_count": 38,
   "id": "c7251f90-3534-43cb-a17b-bc792d536031",
   "metadata": {
    "colab": {
     "base_uri": "https://localhost:8080/"
    },
    "id": "c7251f90-3534-43cb-a17b-bc792d536031",
    "outputId": "2ee9c7a2-bfea-4a65-b991-a8c55d3d5db7"
   },
   "outputs": [
    {
     "name": "stdout",
     "output_type": "stream",
     "text": [
      "=> Starting training\n",
      "=> epoch: 10, loss: 0.6981175541877747\n",
      "=> epoch: 20, loss: 0.6844142079353333\n",
      "=> epoch: 30, loss: 0.6744639873504639\n",
      "=> epoch: 40, loss: 0.6641256213188171\n",
      "=> epoch: 50, loss: 0.6507528424263\n",
      "=> epoch: 60, loss: 0.6399032473564148\n",
      "=> epoch: 70, loss: 0.6244361996650696\n",
      "=> epoch: 80, loss: 0.6060839295387268\n",
      "=> epoch: 90, loss: 0.5907474160194397\n",
      "=> epoch: 100, loss: 0.5675814747810364\n",
      "=> epoch: 110, loss: 0.5458317399024963\n",
      "=> epoch: 120, loss: 0.5209167003631592\n",
      "=> epoch: 130, loss: 0.5046335458755493\n",
      "=> epoch: 140, loss: 0.48566409945487976\n",
      "=> epoch: 150, loss: 0.46738681197166443\n",
      "=> epoch: 160, loss: 0.45513513684272766\n",
      "=> epoch: 170, loss: 0.4508400857448578\n",
      "=> epoch: 180, loss: 0.4325364828109741\n",
      "=> epoch: 190, loss: 0.42990484833717346\n",
      "=> epoch: 200, loss: 0.4256421625614166\n",
      "=> epoch: 210, loss: 0.41658198833465576\n",
      "=> epoch: 220, loss: 0.4165534973144531\n",
      "=> epoch: 230, loss: 0.4081287384033203\n",
      "=> epoch: 240, loss: 0.40256866812705994\n",
      "=> epoch: 250, loss: 0.40385890007019043\n",
      "=> epoch: 260, loss: 0.3952995240688324\n",
      "=> epoch: 270, loss: 0.3901572525501251\n",
      "=> epoch: 280, loss: 0.38895776867866516\n",
      "=> epoch: 290, loss: 0.38355037569999695\n",
      "=> epoch: 300, loss: 0.3826695382595062\n",
      "=> epoch: 310, loss: 0.3921701908111572\n",
      "=> epoch: 320, loss: 0.3825889825820923\n",
      "=> epoch: 330, loss: 0.3855055272579193\n",
      "=> epoch: 340, loss: 0.3789047300815582\n",
      "=> epoch: 350, loss: 0.37736472487449646\n",
      "=> epoch: 360, loss: 0.3746494948863983\n",
      "=> epoch: 370, loss: 0.3743197023868561\n",
      "=> epoch: 380, loss: 0.36540496349334717\n",
      "=> epoch: 390, loss: 0.36578765511512756\n",
      "=> epoch: 400, loss: 0.3657388687133789\n",
      "527.061892721\n"
     ]
    }
   ],
   "source": [
    "start = timeit.default_timer()\n",
    "train(model, train_dataloader, val_dataloader, epochs, my_optimizer, loss_fn)\n",
    "stop = timeit.default_timer()\n",
    "print(stop-start)"
   ]
  },
  {
   "cell_type": "code",
   "execution_count": 63,
   "id": "4f244443-b339-4e8e-81ad-6d51804bf0fb",
   "metadata": {
    "colab": {
     "base_uri": "https://localhost:8080/",
     "height": 447
    },
    "id": "4f244443-b339-4e8e-81ad-6d51804bf0fb",
    "outputId": "8fa844c1-fc41-4a9d-d1e2-05ef47a4e1db"
   },
   "outputs": [
    {
     "data": {
      "text/plain": [
       "[<matplotlib.lines.Line2D at 0x788a643b3be0>]"
      ]
     },
     "execution_count": 63,
     "metadata": {},
     "output_type": "execute_result"
    },
    {
     "data": {
      "image/png": "[encoded data removed]",
      "text/plain": [
       "<Figure size 640x480 with 1 Axes>"
      ]
     },
     "metadata": {},
     "output_type": "display_data"
    }
   ],
   "source": [
    "plt.plot(list(map(torch.Tensor.item,train_losses.values())), '.')"
   ]
  },
  {
   "cell_type": "code",
   "execution_count": 64,
   "id": "7312cd33-f86b-4134-8b19-db359198100c",
   "metadata": {
    "colab": {
     "base_uri": "https://localhost:8080/",
     "height": 430
    },
    "id": "7312cd33-f86b-4134-8b19-db359198100c",
    "outputId": "a9fb22dd-83e2-4b24-81c7-90dc0ea772cf"
   },
   "outputs": [
    {
     "data": {
      "image/png": "[encoded data removed]",
      "text/plain": [
       "<Figure size 640x480 with 1 Axes>"
      ]
     },
     "metadata": {},
     "output_type": "display_data"
    }
   ],
   "source": [
    "plt.plot(list(val_losses.values()), '.')\n",
    "ax = plt.gca()\n",
    "#ax.set_ylim([0.58, 0.63])"
   ]
  },
  {
   "cell_type": "code",
   "execution_count": 65,
   "id": "0b6f5c1a-06d4-4eda-a972-6d80e6638571",
   "metadata": {
    "colab": {
     "base_uri": "https://localhost:8080/"
    },
    "id": "0b6f5c1a-06d4-4eda-a972-6d80e6638571",
    "outputId": "ccab5c49-08b1-44c8-fd29-e7258d5203e1"
   },
   "outputs": [
    {
     "data": {
      "text/plain": [
       "array([[13, 64],\n",
       "       [10, 41]])"
      ]
     },
     "execution_count": 65,
     "metadata": {},
     "output_type": "execute_result"
    }
   ],
   "source": [
    "metrics.confusion_matrix(t2_val[0], t1_val[0]) #00 TN, 10 FN, 11 TP, 01 FP\n",
    "\n",
    "# [TN, FP,\n",
    "# FN, TP]"
   ]
  },
  {
   "cell_type": "code",
   "execution_count": 66,
   "id": "px2YcYANXmhi",
   "metadata": {
    "colab": {
     "base_uri": "https://localhost:8080/"
    },
    "id": "px2YcYANXmhi",
    "outputId": "085deec9-1437-4737-c453-5f8fef19dbce"
   },
   "outputs": [
    {
     "data": {
      "text/plain": [
       "array([[57,  6],\n",
       "       [ 8, 44]])"
      ]
     },
     "execution_count": 66,
     "metadata": {},
     "output_type": "execute_result"
    }
   ],
   "source": [
    "metrics.confusion_matrix(t2_val[len(t2_val)-1], t1_val[len(t1_val)-1])"
   ]
  },
  {
   "cell_type": "code",
   "execution_count": 43,
   "id": "cbca7fa5-0e44-4da0-8273-d42860aa929a",
   "metadata": {
    "colab": {
     "base_uri": "https://localhost:8080/"
    },
    "id": "cbca7fa5-0e44-4da0-8273-d42860aa929a",
    "outputId": "5fa87d49-878e-4a19-d511-6173c9e17935"
   },
   "outputs": [
    {
     "data": {
      "text/plain": [
       "array([1, 1, 0, 1, 1, 1, 0, 1, 1, 1, 1, 1, 1, 1, 1, 1, 1, 1, 0, 1, 1, 1,\n",
       "       1, 1, 0, 1, 1, 1, 1, 0, 1, 1, 1, 1, 1, 1, 0, 1, 1, 0, 1, 1, 0, 1,\n",
       "       1, 1, 0, 1, 1, 1, 1, 1, 0, 0, 1, 1, 1, 1, 1, 1, 1, 1, 1, 1, 1, 1,\n",
       "       0, 1, 1, 1, 1, 0, 1, 1, 1, 1, 1, 1, 1, 1, 1, 1, 0, 1, 1, 1, 0, 1,\n",
       "       0, 1, 1, 0, 1, 1, 1, 1, 0, 1, 0, 1, 1, 0, 1, 1, 1, 1, 1, 0, 1, 1,\n",
       "       1, 1, 1, 0, 0, 1, 1, 1, 1, 1, 1, 1, 1, 1, 1, 1, 1, 1])"
      ]
     },
     "execution_count": 43,
     "metadata": {},
     "output_type": "execute_result"
    }
   ],
   "source": [
    "t1_val[0]"
   ]
  },
  {
   "cell_type": "code",
   "execution_count": 44,
   "id": "d0cca93e-e28f-428e-970d-dbc2049d5a5a",
   "metadata": {
    "colab": {
     "base_uri": "https://localhost:8080/"
    },
    "id": "d0cca93e-e28f-428e-970d-dbc2049d5a5a",
    "outputId": "1c191b15-6e00-4812-963b-6986a982bbc0"
   },
   "outputs": [
    {
     "data": {
      "text/plain": [
       "array([1, 0, 1, 0, 0, 1, 0, 1, 1, 1, 0, 0, 1, 0, 0, 0, 0, 0, 0, 0, 1, 0,\n",
       "       0, 0, 1, 1, 0, 0, 0, 0, 1, 0, 1, 1, 1, 0, 1, 0, 0, 1, 1, 0, 0, 0,\n",
       "       1, 1, 0, 0, 1, 0, 0, 0, 0, 0, 1, 0, 1, 1, 1, 0, 1, 0, 0, 0, 1, 1,\n",
       "       0, 0, 0, 0, 1, 0, 1, 0, 0, 1, 1, 0, 0, 1, 0, 0, 1, 0, 1, 0, 0, 0,\n",
       "       0, 0, 0, 1, 1, 1, 0, 1, 0, 0, 1, 1, 0, 1, 1, 0, 1, 1, 1, 1, 1, 0,\n",
       "       1, 0, 1, 1, 0])"
      ]
     },
     "execution_count": 44,
     "metadata": {},
     "output_type": "execute_result"
    }
   ],
   "source": [
    "t1_val[len(t1_val)-1]"
   ]
  },
  {
   "cell_type": "code",
   "execution_count": 45,
   "id": "foGSqGYEX1u5",
   "metadata": {
    "colab": {
     "base_uri": "https://localhost:8080/"
    },
    "id": "foGSqGYEX1u5",
    "outputId": "e807bade-2968-4ed4-c32e-5a3476d219d2"
   },
   "outputs": [
    {
     "data": {
      "text/plain": [
       "array([1, 0, 0, 0, 0, 1, 0, 1, 1, 1, 0, 0, 1, 0, 0, 0, 0, 0, 0, 0, 1, 0,\n",
       "       1, 0, 1, 1, 0, 0, 0, 0, 1, 1, 1, 1, 0, 0, 1, 1, 0, 1, 1, 0, 0, 0,\n",
       "       1, 1, 0, 1, 1, 0, 0, 0, 0, 0, 1, 1, 1, 1, 1, 0, 0, 0, 0, 0, 1, 1,\n",
       "       0, 0, 0, 0, 1, 0, 1, 0, 0, 1, 1, 1, 0, 1, 0, 0, 1, 0, 0, 0, 0, 0,\n",
       "       0, 0, 1, 1, 1, 1, 0, 1, 0, 1, 1, 1, 0, 0, 1, 0, 1, 1, 0, 1, 1, 0,\n",
       "       1, 0, 1, 1, 0])"
      ]
     },
     "execution_count": 45,
     "metadata": {},
     "output_type": "execute_result"
    }
   ],
   "source": [
    "t2_val[len(t1_val)-1]"
   ]
  },
  {
   "cell_type": "code",
   "execution_count": 46,
   "id": "11e4eba9-71da-4c14-a9b6-ce1477272d37",
   "metadata": {
    "colab": {
     "base_uri": "https://localhost:8080/",
     "height": 447
    },
    "id": "11e4eba9-71da-4c14-a9b6-ce1477272d37",
    "outputId": "3bdee3e3-6aa7-4478-de05-4f5a64c4be40"
   },
   "outputs": [
    {
     "data": {
      "text/plain": [
       "[<matplotlib.lines.Line2D at 0x788a653da1a0>]"
      ]
     },
     "execution_count": 46,
     "metadata": {},
     "output_type": "execute_result"
    },
    {
     "data": {
      "image/png": "[encoded data removed]",
      "text/plain": [
       "<Figure size 640x480 with 1 Axes>"
      ]
     },
     "metadata": {},
     "output_type": "display_data"
    }
   ],
   "source": [
    "plt.plot([sum(x)/len(x) for x in t1_val], '.') #Plotting what portion of predictions were 1's every validation batch"
   ]
  },
  {
   "cell_type": "code",
   "execution_count": 47,
   "id": "ff78c216-87ba-48ef-9b60-aa9182dc3574",
   "metadata": {
    "colab": {
     "base_uri": "https://localhost:8080/"
    },
    "id": "ff78c216-87ba-48ef-9b60-aa9182dc3574",
    "outputId": "4c01e1ab-3463-4f6d-caea-3040b5a65d15"
   },
   "outputs": [
    {
     "data": {
      "text/plain": [
       "400"
      ]
     },
     "execution_count": 47,
     "metadata": {},
     "output_type": "execute_result"
    }
   ],
   "source": [
    "len(val_losses.values())"
   ]
  },
  {
   "cell_type": "code",
   "execution_count": 48,
   "id": "6d96b8b5-b460-4801-be66-4f497ff2e66b",
   "metadata": {
    "colab": {
     "base_uri": "https://localhost:8080/",
     "height": 447
    },
    "id": "6d96b8b5-b460-4801-be66-4f497ff2e66b",
    "outputId": "a4914de4-6118-48b1-d0c2-fce1dc57f1c9"
   },
   "outputs": [
    {
     "data": {
      "text/plain": [
       "[<matplotlib.lines.Line2D at 0x788a6546cb20>]"
      ]
     },
     "execution_count": 48,
     "metadata": {},
     "output_type": "execute_result"
    },
    {
     "data": {
      "image/png": "[encoded data removed]",
      "text/plain": [
       "<Figure size 640x480 with 1 Axes>"
      ]
     },
     "metadata": {},
     "output_type": "display_data"
    }
   ],
   "source": [
    "l2 = []\n",
    "for i in range(len(val_losses.values())-32):\n",
    "    l2.append(sum(list(val_losses.values())[i:i+32])/32)\n",
    "plt.plot(l2)"
   ]
  },
  {
   "cell_type": "code",
   "execution_count": 49,
   "id": "81a9143f-fdfc-4375-8005-41749bc6227e",
   "metadata": {
    "colab": {
     "base_uri": "https://localhost:8080/"
    },
    "id": "81a9143f-fdfc-4375-8005-41749bc6227e",
    "outputId": "14cf0464-60fd-435c-b673-59d2cb32d9b1"
   },
   "outputs": [
    {
     "name": "stdout",
     "output_type": "stream",
     "text": [
      "0.7490860906766593\n"
     ]
    }
   ],
   "source": [
    "print(max(list(val_losses.values())))"
   ]
  },
  {
   "cell_type": "code",
   "execution_count": 50,
   "id": "b24751eb-0948-4305-9fce-7401f1dc6c9c",
   "metadata": {
    "id": "b24751eb-0948-4305-9fce-7401f1dc6c9c"
   },
   "outputs": [],
   "source": [
    "l2 = []\n",
    "for i in range(len(val_batch_losses)-32):\n",
    "    l2.append(sum(val_batch_losses[i:i+32])/32)"
   ]
  },
  {
   "cell_type": "code",
   "execution_count": 51,
   "id": "9fff5fba-933d-4f0e-b4d2-52941eb42ce0",
   "metadata": {
    "colab": {
     "base_uri": "https://localhost:8080/",
     "height": 447
    },
    "id": "9fff5fba-933d-4f0e-b4d2-52941eb42ce0",
    "outputId": "257f016b-8cd1-4d14-afae-c43258dcfb95"
   },
   "outputs": [
    {
     "data": {
      "text/plain": [
       "[<matplotlib.lines.Line2D at 0x788a652f46a0>]"
      ]
     },
     "execution_count": 51,
     "metadata": {},
     "output_type": "execute_result"
    },
    {
     "data": {
      "image/png": "[encoded data removed]",
      "text/plain": [
       "<Figure size 640x480 with 1 Axes>"
      ]
     },
     "metadata": {},
     "output_type": "display_data"
    }
   ],
   "source": [
    "plt.plot(l2) #Moving mean of the val_batch_losses. i.e. movin mean of F1 score across batches"
   ]
  },
  {
   "cell_type": "code",
   "execution_count": 52,
   "id": "509e4271-d9fd-475f-b927-0cb5f54c59e7",
   "metadata": {
    "colab": {
     "base_uri": "https://localhost:8080/",
     "height": 450
    },
    "id": "509e4271-d9fd-475f-b927-0cb5f54c59e7",
    "outputId": "227beedc-a843-4295-900b-de65bf3ced12"
   },
   "outputs": [
    {
     "data": {
      "text/plain": [
       "[<matplotlib.lines.Line2D at 0x788a653530a0>]"
      ]
     },
     "execution_count": 52,
     "metadata": {},
     "output_type": "execute_result"
    },
    {
     "data": {
      "image/png": "[encoded data removed]",
      "text/plain": [
       "<Figure size 640x480 with 1 Axes>"
      ]
     },
     "metadata": {},
     "output_type": "display_data"
    }
   ],
   "source": [
    "plt.plot(val_batch_losses) #Same as above but no moving mean"
   ]
  },
  {
   "cell_type": "code",
   "execution_count": 53,
   "id": "439a0dd9-dbde-4c87-a686-def558f1b756",
   "metadata": {
    "colab": {
     "base_uri": "https://localhost:8080/"
    },
    "id": "439a0dd9-dbde-4c87-a686-def558f1b756",
    "outputId": "9adfd0b1-7f1b-4c7e-a86f-ca872857742b"
   },
   "outputs": [
    {
     "name": "stdout",
     "output_type": "stream",
     "text": [
      "tensor([[-0.0342, -0.0003,  0.0246,  0.0136, -0.0295,  0.0071, -0.0141, -0.0038,\n",
      "         -0.0340, -0.0251,  0.0454,  0.0201, -0.0364,  0.0047, -0.0428, -0.0233,\n",
      "         -0.0076, -0.0129, -0.0212,  0.0053, -0.0099,  0.0314, -0.0112, -0.0117,\n",
      "          0.0061,  0.0212,  0.0058,  0.0227,  0.0111, -0.0091,  0.0104,  0.0154]],\n",
      "       device='cuda:0', dtype=torch.float64)\n",
      "tensor([[ 0.0082,  0.0076, -0.0237, -0.0115,  0.0110, -0.0139,  0.0026,  0.0161,\n",
      "         -0.0016, -0.0120,  0.0299, -0.0095, -0.0068, -0.0112,  0.0030, -0.0113,\n",
      "         -0.0038,  0.0006, -0.0026, -0.0152, -0.0167, -0.0153,  0.0202, -0.0036,\n",
      "          0.0024,  0.0202,  0.0063, -0.0019, -0.0107, -0.0065, -0.0059,  0.0165]],\n",
      "       device='cuda:0', dtype=torch.float64)\n",
      "tensor(0.1212, device='cuda:0', dtype=torch.float64)\n",
      "tensor(0.0703, device='cuda:0', dtype=torch.float64)\n"
     ]
    }
   ],
   "source": [
    "print(layer_last_grads[0])\n",
    "print(layer_last_grads[len(layer_last_grads)-1])\n",
    "print(torch.norm(layer_last_grads[0]))\n",
    "print(torch.norm(layer_last_grads[len(layer_last_grads)-1]))\n"
   ]
  },
  {
   "cell_type": "code",
   "execution_count": 54,
   "id": "c1FKze_iqZ_n",
   "metadata": {
    "colab": {
     "base_uri": "https://localhost:8080/"
    },
    "id": "c1FKze_iqZ_n",
    "outputId": "5e81e717-6cf9-4c8f-e9df-128ba6e03392"
   },
   "outputs": [
    {
     "name": "stdout",
     "output_type": "stream",
     "text": [
      "tensor([[ 2.9695e-02,  3.3926e-02, -4.2294e-03,  ...,  2.1164e-03,\n",
      "          3.8160e-03,  1.7577e-03],\n",
      "        [-1.3049e-02, -8.2445e-03, -1.9250e-02,  ...,  3.5527e-03,\n",
      "          5.0604e-03, -6.4044e-03],\n",
      "        [ 6.1884e-03,  2.8684e-03, -9.8934e-04,  ..., -1.4944e-03,\n",
      "         -2.4991e-03,  8.6990e-04],\n",
      "        ...,\n",
      "        [-1.4333e-02, -2.5183e-02,  1.8934e-02,  ..., -1.3550e-03,\n",
      "          1.2321e-03, -7.0257e-04],\n",
      "        [-9.3206e-03, -4.9793e-03,  1.2849e-02,  ..., -2.7204e-03,\n",
      "         -2.1446e-03, -1.9055e-03],\n",
      "        [ 7.8362e-03,  1.0703e-02, -7.1660e-03,  ..., -1.0042e-03,\n",
      "         -2.3603e-05,  4.7457e-04]], device='cuda:0', dtype=torch.float64)\n",
      "tensor([[ 0.0190, -0.0142,  0.0560,  ...,  0.0011, -0.0014,  0.0057],\n",
      "        [-0.0405,  0.0221, -0.0328,  ..., -0.0232,  0.0289, -0.0024],\n",
      "        [-0.0489, -0.1632,  0.0963,  ...,  0.0140,  0.0099,  0.0148],\n",
      "        ...,\n",
      "        [-0.0353, -0.0768,  0.0207,  ..., -0.0016,  0.0065,  0.0077],\n",
      "        [ 0.0757,  0.0977, -0.0383,  ..., -0.0133,  0.0348,  0.0140],\n",
      "        [ 0.0370,  0.0189,  0.0704,  ...,  0.0098, -0.0261, -0.0038]],\n",
      "       device='cuda:0', dtype=torch.float64)\n",
      "tensor(0.2748, device='cuda:0', dtype=torch.float64)\n",
      "tensor(1.6063, device='cuda:0', dtype=torch.float64)\n"
     ]
    }
   ],
   "source": [
    "\n",
    "print(layer_one_grads[0])\n",
    "print(layer_one_grads[len(layer_one_grads)-1])\n",
    "print(torch.norm(layer_one_grads[0]))\n",
    "print(torch.norm(layer_one_grads[len(layer_one_grads)-1]))"
   ]
  },
  {
   "cell_type": "code",
   "execution_count": 55,
   "id": "cbb15eb9-93d0-4fc7-8002-dd92ecd15146",
   "metadata": {
    "colab": {
     "base_uri": "https://localhost:8080/",
     "height": 447
    },
    "id": "cbb15eb9-93d0-4fc7-8002-dd92ecd15146",
    "outputId": "c17f04d5-bd49-40c8-bb3d-e82fc1e656c4"
   },
   "outputs": [
    {
     "data": {
      "text/plain": [
       "[<matplotlib.lines.Line2D at 0x788a65425660>]"
      ]
     },
     "execution_count": 55,
     "metadata": {},
     "output_type": "execute_result"
    },
    {
     "data": {
      "image/png": "[encoded data removed]",
      "text/plain": [
       "<Figure size 640x480 with 1 Axes>"
      ]
     },
     "metadata": {},
     "output_type": "display_data"
    }
   ],
   "source": [
    "#seeing how the grads change over time of the last layer.\n",
    "l = []\n",
    "for x in layer_last_grads: #As it goes through each x, it's passing through each iteration from oldest to newest\n",
    "    l.append(x[0][0].item()) #First number isn't important because the last layer is only one linear layer.\n",
    "                            #Second number is which specific gradient we are looking at in that specific layer\n",
    "\n",
    "plt.plot(l)"
   ]
  },
  {
   "cell_type": "code",
   "execution_count": 56,
   "id": "9947d3e5-b5e9-46ed-b7b5-4acc35950d00",
   "metadata": {
    "colab": {
     "base_uri": "https://localhost:8080/"
    },
    "id": "9947d3e5-b5e9-46ed-b7b5-4acc35950d00",
    "outputId": "7a451a61-f9c8-4c63-99a1-09057f929653"
   },
   "outputs": [
    {
     "name": "stdout",
     "output_type": "stream",
     "text": [
      "37265\n"
     ]
    }
   ],
   "source": [
    "print(sum(p.numel() for p in model.parameters()))"
   ]
  },
  {
   "cell_type": "code",
   "execution_count": 57,
   "id": "8SggrhsQqTVv",
   "metadata": {
    "colab": {
     "base_uri": "https://localhost:8080/"
    },
    "id": "8SggrhsQqTVv",
    "outputId": "c7f067bd-c766-44a6-a2ac-1c8ea00ee95d"
   },
   "outputs": [
    {
     "data": {
      "text/plain": [
       "tensor([[-0.1102,  0.1240,  0.0327, -0.1354, -0.1038, -0.0623,  0.0221, -0.0767,\n",
       "         -0.1380, -0.0372,  0.0342, -0.0227, -0.1492,  0.0184, -0.1528, -0.1666,\n",
       "          0.1455,  0.0478,  0.0750, -0.1408, -0.0880, -0.0557, -0.1740,  0.0022,\n",
       "          0.0428,  0.0684, -0.0253,  0.1595,  0.0449, -0.0709,  0.0428,  0.0003]],\n",
       "       device='cuda:0', dtype=torch.float64, grad_fn=<CloneBackward0>)"
      ]
     },
     "execution_count": 57,
     "metadata": {},
     "output_type": "execute_result"
    }
   ],
   "source": [
    "layer_last_weights[0]"
   ]
  },
  {
   "cell_type": "code",
   "execution_count": 58,
   "id": "2b880c3f-50d2-4c73-91cb-731a6b1a1a05",
   "metadata": {
    "colab": {
     "base_uri": "https://localhost:8080/"
    },
    "id": "2b880c3f-50d2-4c73-91cb-731a6b1a1a05",
    "outputId": "d4bc9d77-da60-4669-c425-0ce7f4852d7a"
   },
   "outputs": [
    {
     "data": {
      "text/plain": [
       "tensor([[-0.1004,  0.1227,  0.0646, -0.1965, -0.1454, -0.1430,  0.0125, -0.1080,\n",
       "         -0.1995, -0.0990,  0.0405,  0.0273, -0.2067, -0.0330, -0.2031, -0.2403,\n",
       "          0.2193,  0.0523,  0.1461, -0.2105, -0.1109, -0.0872, -0.2374,  0.0409,\n",
       "          0.0708,  0.1410, -0.0579,  0.2322, -0.0008, -0.1310,  0.0600, -0.0439]],\n",
       "       device='cuda:0', dtype=torch.float64, grad_fn=<CloneBackward0>)"
      ]
     },
     "execution_count": 58,
     "metadata": {},
     "output_type": "execute_result"
    }
   ],
   "source": [
    "layer_last_weights[len(layer_last_weights)-1]"
   ]
  },
  {
   "cell_type": "code",
   "execution_count": 59,
   "id": "fa7b87fb-950c-4ad6-a2fa-df5d286288e0",
   "metadata": {
    "colab": {
     "base_uri": "https://localhost:8080/",
     "height": 430
    },
    "id": "fa7b87fb-950c-4ad6-a2fa-df5d286288e0",
    "outputId": "3b343b12-b041-49a4-8ac0-30584de63d1e"
   },
   "outputs": [
    {
     "data": {
      "image/png": "[encoded data removed]",
      "text/plain": [
       "<Figure size 640x480 with 1 Axes>"
      ]
     },
     "metadata": {},
     "output_type": "display_data"
    }
   ],
   "source": [
    "for i in range(int(hidden_size/2)):\n",
    "    l = []\n",
    "    for x in layer_last_weights:\n",
    "        l.append(x[0][i].item())\n",
    "    plt.plot(l)"
   ]
  },
  {
   "cell_type": "code",
   "execution_count": 60,
   "id": "2a42d9d3-fb8b-4c59-9395-34d333c2df69",
   "metadata": {
    "colab": {
     "base_uri": "https://localhost:8080/"
    },
    "id": "2a42d9d3-fb8b-4c59-9395-34d333c2df69",
    "outputId": "77c6088f-aeb1-47f8-902b-425282f91445"
   },
   "outputs": [
    {
     "data": {
      "text/plain": [
       "19200"
      ]
     },
     "execution_count": 60,
     "metadata": {},
     "output_type": "execute_result"
    }
   ],
   "source": [
    "len(layer_one_weights)"
   ]
  },
  {
   "cell_type": "code",
   "execution_count": 61,
   "id": "821f3c60-5f54-441d-961c-ad85e920bc92",
   "metadata": {
    "colab": {
     "base_uri": "https://localhost:8080/",
     "height": 447
    },
    "id": "821f3c60-5f54-441d-961c-ad85e920bc92",
    "outputId": "5ae3e0e8-f608-4cec-9e16-3794996dd4cf"
   },
   "outputs": [
    {
     "data": {
      "text/plain": [
       "[<matplotlib.lines.Line2D at 0x788a650ffb20>]"
      ]
     },
     "execution_count": 61,
     "metadata": {},
     "output_type": "execute_result"
    },
    {
     "data": {
      "image/png": "[encoded data removed]",
      "text/plain": [
       "<Figure size 640x480 with 1 Axes>"
      ]
     },
     "metadata": {},
     "output_type": "display_data"
    }
   ],
   "source": [
    "l = []\n",
    "for x in layer_one_weights:\n",
    "    l.append(x[0][0].item()) #1st number is which of the linear layers that make up the first layer to look at\n",
    "    #2nd number is which gradient in that layer\n",
    "\n",
    "plt.plot(l)"
   ]
  },
  {
   "cell_type": "code",
   "execution_count": 71,
   "id": "e6778642-57a4-4555-951e-7adb50be945d",
   "metadata": {
    "id": "e6778642-57a4-4555-951e-7adb50be945d"
   },
   "outputs": [],
   "source": [
    "training_mode = False\n",
    "if not training_mode:\n",
    "\n",
    "    train_x_complete = help_func(train_df_complete)\n",
    "\n",
    "    train_dataset = CustomTweetDataset(train_x_complete, train_df_complete['target'])\n",
    "    train_dataloader = DataLoader(train_dataset, batch_size, shuffle = True)\n",
    "\n",
    "\n",
    "    model = RNN(input_size, hidden_size, 1)\n",
    "    model.to(device)\n",
    "    model.double()\n",
    "    loss_fn.to(device)\n",
    "\n",
    "    my_optimizer = optim.AdamW(model.parameters(), lr = learning_rate)"
   ]
  },
  {
   "cell_type": "code",
   "execution_count": 75,
   "id": "aOvEYHGNzoyQ",
   "metadata": {
    "colab": {
     "base_uri": "https://localhost:8080/"
    },
    "id": "aOvEYHGNzoyQ",
    "outputId": "2c2b20f6-f28a-4870-ca12-bde2ae6a0948"
   },
   "outputs": [
    {
     "name": "stdout",
     "output_type": "stream",
     "text": [
      "=> Starting training\n",
      "=> epoch: 10, loss: 0.6924208402633667\n",
      "=> epoch: 20, loss: 0.6803462505340576\n",
      "=> epoch: 30, loss: 0.6695088148117065\n",
      "=> epoch: 40, loss: 0.656940758228302\n",
      "=> epoch: 50, loss: 0.6456356048583984\n",
      "=> epoch: 60, loss: 0.6292693614959717\n",
      "=> epoch: 70, loss: 0.6128372550010681\n",
      "=> epoch: 80, loss: 0.593908965587616\n",
      "=> epoch: 90, loss: 0.572756826877594\n",
      "=> epoch: 100, loss: 0.5473989248275757\n",
      "=> epoch: 110, loss: 0.5267689824104309\n",
      "=> epoch: 120, loss: 0.4996826946735382\n",
      "=> epoch: 130, loss: 0.4851694703102112\n",
      "=> epoch: 140, loss: 0.47296178340911865\n",
      "=> epoch: 150, loss: 0.4557105600833893\n",
      "=> epoch: 160, loss: 0.44965988397598267\n",
      "=> epoch: 170, loss: 0.44037926197052\n",
      "=> epoch: 180, loss: 0.4294368624687195\n",
      "=> epoch: 190, loss: 0.4240491986274719\n",
      "=> epoch: 200, loss: 0.42432084679603577\n",
      "=> epoch: 210, loss: 0.4175254702568054\n",
      "=> epoch: 220, loss: 0.4187202453613281\n",
      "=> epoch: 230, loss: 0.4181884229183197\n",
      "=> epoch: 240, loss: 0.4072827696800232\n",
      "=> epoch: 250, loss: 0.41002243757247925\n",
      "=> epoch: 260, loss: 0.4090234637260437\n",
      "=> epoch: 270, loss: 0.39855119585990906\n",
      "=> epoch: 280, loss: 0.3979957401752472\n",
      "=> epoch: 290, loss: 0.3946917653083801\n",
      "=> epoch: 300, loss: 0.39394110441207886\n",
      "=> epoch: 310, loss: 0.39234083890914917\n",
      "=> epoch: 320, loss: 0.3914550542831421\n",
      "=> epoch: 330, loss: 0.39090824127197266\n",
      "=> epoch: 340, loss: 0.3823002874851227\n",
      "=> epoch: 350, loss: 0.3901654779911041\n",
      "=> epoch: 360, loss: 0.37911444902420044\n",
      "=> epoch: 370, loss: 0.3823380172252655\n",
      "=> epoch: 380, loss: 0.3756706118583679\n",
      "=> epoch: 390, loss: 0.3742886483669281\n",
      "=> epoch: 400, loss: 0.3717069923877716\n"
     ]
    }
   ],
   "source": [
    "if not training_mode:\n",
    "    #epochs = 163\n",
    "\n",
    "    start = timeit.default_timer()\n",
    "    train(model, train_dataloader, val_dataloader, epochs, my_optimizer, loss_fn)\n",
    "    stop = timeit.default_timer()"
   ]
  },
  {
   "cell_type": "code",
   "execution_count": 81,
   "id": "hqniCs3vzwEv",
   "metadata": {
    "colab": {
     "base_uri": "https://localhost:8080/"
    },
    "id": "hqniCs3vzwEv",
    "outputId": "3556dacb-9e76-4278-c4c7-ab3635659696"
   },
   "outputs": [
    {
     "name": "stdout",
     "output_type": "stream",
     "text": [
      "0.5496249460002218\n"
     ]
    }
   ],
   "source": [
    "if not training_mode:\n",
    "    test_x = help_func(test_df, True)\n",
    "    test_dataset = CustomTweetDataset(test_x)\n",
    "    test_dataloader = DataLoader(test_dataset, len(test_x), shuffle = False)\n",
    "\n",
    "    start = timeit.default_timer()\n",
    "    predictions = predict(model, test_dataloader)\n",
    "    stop = timeit.default_timer()\n",
    "\n",
    "    print(stop-start)"
   ]
  },
  {
   "cell_type": "code",
   "execution_count": 82,
   "id": "828acb30-db7e-4dfb-9a7a-6f4ffd698ca1",
   "metadata": {
    "id": "828acb30-db7e-4dfb-9a7a-6f4ffd698ca1"
   },
   "outputs": [],
   "source": [
    "if not training_mode:\n",
    "    pd.DataFrame(predictions, columns = [\"target\"]).set_index(test_df.index).to_csv(\"submission_complex_NN.csv\")"
   ]
  },
  {
   "cell_type": "code",
   "execution_count": 128,
   "id": "-3YTHWD8Fb5p",
   "metadata": {
    "colab": {
     "base_uri": "https://localhost:8080/"
    },
    "id": "-3YTHWD8Fb5p",
    "outputId": "1593ad90-53f2-4e30-bd3d-36fb70e700af"
   },
   "outputs": [
    {
     "name": "stdout",
     "output_type": "stream",
     "text": [
      "=> Starting training\n",
      "=> epoch: 10, loss: 0.6924256682395935\n",
      "=> epoch: 20, loss: 0.6846449971199036\n",
      "=> epoch: 30, loss: 0.6817918419837952\n",
      "=> epoch: 40, loss: 0.6805334687232971\n",
      "=> epoch: 50, loss: 0.6800143718719482\n",
      "=> epoch: 60, loss: 0.6787967681884766\n",
      "=> epoch: 70, loss: 0.6780219078063965\n",
      "=> epoch: 80, loss: 0.6772494912147522\n",
      "=> epoch: 90, loss: 0.6761892437934875\n",
      "=> epoch: 100, loss: 0.6744317412376404\n",
      "=> epoch: 110, loss: 0.6721367239952087\n",
      "=> epoch: 120, loss: 0.667116105556488\n",
      "=> epoch: 130, loss: 0.6561250686645508\n",
      "=> epoch: 140, loss: 0.6324737071990967\n",
      "=> epoch: 150, loss: 0.6044591069221497\n",
      "=> epoch: 160, loss: 0.5813918113708496\n",
      "=> epoch: 170, loss: 0.562695324420929\n",
      "=> epoch: 180, loss: 0.5476545095443726\n",
      "=> epoch: 190, loss: 0.5337520837783813\n",
      "=> epoch: 200, loss: 0.5227932333946228\n",
      "=> epoch: 210, loss: 0.5128062963485718\n",
      "=> epoch: 220, loss: 0.504473865032196\n",
      "=> epoch: 230, loss: 0.4967888295650482\n",
      "=> epoch: 240, loss: 0.4913282096385956\n",
      "=> epoch: 250, loss: 0.48552247881889343\n",
      "=> epoch: 260, loss: 0.4800223112106323\n",
      "=> epoch: 270, loss: 0.4755876362323761\n",
      "=> epoch: 280, loss: 0.4722966253757477\n",
      "=> epoch: 290, loss: 0.46777257323265076\n",
      "=> epoch: 300, loss: 0.4636146128177643\n",
      "=> epoch: 310, loss: 0.4595974385738373\n",
      "=> epoch: 320, loss: 0.4581555426120758\n",
      "=> epoch: 330, loss: 0.45492854714393616\n",
      "=> epoch: 340, loss: 0.4519425928592682\n",
      "=> epoch: 350, loss: 0.4490126073360443\n",
      "=> epoch: 360, loss: 0.4467134475708008\n",
      "=> epoch: 370, loss: 0.4448305666446686\n",
      "=> epoch: 380, loss: 0.4440194368362427\n",
      "=> epoch: 390, loss: 0.44087687134742737\n",
      "=> epoch: 400, loss: 0.4389295279979706\n",
      "181.83451509400038\n"
     ]
    }
   ],
   "source": [
    "use_torchRNN = True\n",
    "\n",
    "train_dataset = CustomTweetDataset(train_x, train_df['target'])\n",
    "train_dataloader = DataLoader(train_dataset, batch_size, shuffle = True)\n",
    "\n",
    "def train_torch(model: RNN, data: DataLoader, val_data: DataLoader, epochs: int, optimizer: optim.Optimizer, loss_fn: nn.Module) -> None:\n",
    "    \"\"\"\n",
    "    Trains the model for the specified number of epochs\n",
    "    Inputs\n",
    "    ------\n",
    "    model: RNN model to train\n",
    "    data: Iterable DataLoader\n",
    "    epochs: Number of epochs to train the model\n",
    "    optiimizer: Optimizer to use for each epoch\n",
    "    loss_fn: Function to calculate loss\n",
    "    \"\"\"\n",
    "    model.to(device)\n",
    "\n",
    "\n",
    "    print(\"=> Starting training\")\n",
    "\n",
    "    for epoch in range(epochs):\n",
    "        model.train()\n",
    "        epoch_losses = list()\n",
    "        for X, Y in data:\n",
    "            # send tensors to device\n",
    "            X,Y = X.double(), Y.double()\n",
    "            X, Y = X.to(device), Y.to(device)\n",
    "            # 2. clear gradients\n",
    "            optimizer.zero_grad()\n",
    "\n",
    "\n",
    "            hidden_mat = torch.zeros([2, X.shape[0], hidden_size], requires_grad=False, dtype = torch.double).to(device)\n",
    "\n",
    "            model.zero_grad()\n",
    "\n",
    "            output = model(X, hidden_mat).squeeze()\n",
    "\n",
    "            loss = loss_fn(output, Y)\n",
    "            loss.backward()\n",
    "\n",
    "            nn.utils.clip_grad_norm_(model.parameters(), mx_norm)\n",
    "            optimizer.step()\n",
    "\n",
    "            epoch_losses.append(loss.detach().item())\n",
    "\n",
    "\n",
    "        train_losses[epoch] = torch.tensor(epoch_losses).mean()\n",
    "\n",
    "\n",
    "        if (epoch+1)%10==0:\n",
    "            print(f'=> epoch: {epoch + 1}, loss: {train_losses[epoch]}')\n",
    "\n",
    "\n",
    "        if val_data is not None:\n",
    "            model.eval()\n",
    "            val_epoch_losses = list()\n",
    "            with torch.no_grad():\n",
    "                for val_x, val_y in val_data:\n",
    "                    loss = 0\n",
    "\n",
    "                    val_x, val_y = val_x.double(), val_y.double()\n",
    "                    val_x = val_x.to(device)\n",
    "                    val_y = val_y.to(device)\n",
    "\n",
    "                    hidden_mat = torch.zeros([2, val_x.shape[0], hidden_size], requires_grad=False, dtype = torch.double).to(device)\n",
    "                    output = model(val_x, hidden_mat).squeeze()\n",
    "\n",
    "                    t1 = np.rint(output.squeeze().cpu().detach().numpy()).astype(int)\n",
    "                    t2 = np.rint(val_y.cpu().detach().numpy()).astype(int)\n",
    "\n",
    "                    loss = metrics.f1_score(t2,t1)\n",
    "\n",
    "                    val_epoch_losses.append(loss)\n",
    "                    val_batch_losses.append(loss)\n",
    "                    t1_val.append(t1)\n",
    "                    t2_val.append(t2)\n",
    "\n",
    "\n",
    "                val_losses[epoch] = sum(val_epoch_losses)/len(val_epoch_losses)\n",
    "\n",
    "\n",
    "\n",
    "class RNN_torch(nn.Module):\n",
    "    def __init__(self, input_size, hidden_size, num_layers):\n",
    "        super().__init__()\n",
    "        self.rnn = nn.RNN(input_size = input_size, hidden_size = hidden_size, num_layers = num_layers, batch_first = True, bidirectional = True)\n",
    "        self.o2o = nn.Linear(2*hidden_size, 1)\n",
    "\n",
    "    def forward(self, X, hidden_mat):\n",
    "        out, hidden_mat = self.rnn(X, hidden_mat)\n",
    "        return torch.sigmoid(self.o2o(out[:,-1,:]))\n",
    "\n",
    "\n",
    "if use_torchRNN:\n",
    "    training_mode = True\n",
    "    model = RNN_torch(input_size, hidden_size, num_layers = 1)\n",
    "    model.to(device)\n",
    "    model.double()\n",
    "    loss_fn.to(device)\n",
    "\n",
    "    my_optimizer = optim.AdamW(model.parameters(), lr = learning_rate)\n",
    "\n",
    "    train_losses = {}\n",
    "    val_losses = {}\n",
    "    val_batch_losses = []\n",
    "\n",
    "    t1_val = []\n",
    "    t2_val = []\n",
    "\n",
    "    layer_one_weights = []\n",
    "    layer_one_grads = []\n",
    "\n",
    "    layer_last_weights = []\n",
    "    layer_last_grads = []\n",
    "\n",
    "    start = timeit.default_timer()\n",
    "    train_torch(model, train_dataloader, val_dataloader, epochs, my_optimizer, loss_fn)\n",
    "    stop = timeit.default_timer()\n",
    "    print(stop-start)"
   ]
  },
  {
   "cell_type": "code",
   "execution_count": 104,
   "id": "lT5SirXzMkwk",
   "metadata": {
    "id": "lT5SirXzMkwk"
   },
   "outputs": [],
   "source": [
    "train_dataset = CustomTweetDataset(train_x, train_df['target'])\n",
    "train_dataloader = DataLoader(train_dataset, batch_size, shuffle = True)"
   ]
  },
  {
   "cell_type": "code",
   "execution_count": 90,
   "id": "d-jURmCQGllu",
   "metadata": {
    "colab": {
     "base_uri": "https://localhost:8080/"
    },
    "id": "d-jURmCQGllu",
    "outputId": "cd77e981-3584-4b70-d39c-6ce8e2e25471"
   },
   "outputs": [
    {
     "data": {
      "text/plain": [
       "34176"
      ]
     },
     "execution_count": 90,
     "metadata": {},
     "output_type": "execute_result"
    }
   ],
   "source": [
    "count_parameters(model)"
   ]
  },
  {
   "cell_type": "code",
   "execution_count": 129,
   "id": "E4SH93yRO_qn",
   "metadata": {
    "colab": {
     "base_uri": "https://localhost:8080/",
     "height": 447
    },
    "id": "E4SH93yRO_qn",
    "outputId": "03936a59-854e-4350-de53-f5e27da15731"
   },
   "outputs": [
    {
     "data": {
      "text/plain": [
       "[<matplotlib.lines.Line2D at 0x788a1efe04f0>]"
      ]
     },
     "execution_count": 129,
     "metadata": {},
     "output_type": "execute_result"
    },
    {
     "data": {
      "image/png": "[encoded data removed]",
      "text/plain": [
       "<Figure size 640x480 with 1 Axes>"
      ]
     },
     "metadata": {},
     "output_type": "display_data"
    }
   ],
   "source": [
    "plt.plot(list(map(torch.Tensor.item,train_losses.values())), '.')"
   ]
  },
  {
   "cell_type": "code",
   "execution_count": 133,
   "id": "i8EPmTM7XLm5",
   "metadata": {
    "colab": {
     "base_uri": "https://localhost:8080/",
     "height": 447
    },
    "id": "i8EPmTM7XLm5",
    "outputId": "6f9dc7c3-005b-413a-9cd5-08f43a000112"
   },
   "outputs": [
    {
     "name": "stdout",
     "output_type": "stream",
     "text": [
      "0.7176075630322977\n"
     ]
    },
    {
     "data": {
      "image/png": "[encoded data removed]",
      "text/plain": [
       "<Figure size 640x480 with 1 Axes>"
      ]
     },
     "metadata": {},
     "output_type": "display_data"
    }
   ],
   "source": [
    "l2 = []\n",
    "for i in range(len(val_losses.values())-32):\n",
    "    l2.append(sum(list(val_losses.values())[i:i+32])/32)\n",
    "plt.plot(l2)\n",
    "print(max(val_losses.values()))"
   ]
  },
  {
   "cell_type": "code",
   "execution_count": 131,
   "id": "4JQrNtXLXUkS",
   "metadata": {
    "colab": {
     "base_uri": "https://localhost:8080/",
     "height": 447
    },
    "id": "4JQrNtXLXUkS",
    "outputId": "8984bf37-a76d-44f7-c71b-2d9e5d2a7523"
   },
   "outputs": [
    {
     "data": {
      "text/plain": [
       "[<matplotlib.lines.Line2D at 0x788a1ef9dfc0>]"
      ]
     },
     "execution_count": 131,
     "metadata": {},
     "output_type": "execute_result"
    },
    {
     "data": {
      "image/png": "[encoded data removed]",
      "text/plain": [
       "<Figure size 640x480 with 1 Axes>"
      ]
     },
     "metadata": {},
     "output_type": "display_data"
    }
   ],
   "source": [
    "plt.plot([sum(x)/len(x) for x in t1_val], '.') #Plotting what portion of predictions were 1's every validation batch"
   ]
  },
  {
   "cell_type": "code",
   "execution_count": 132,
   "id": "SpCxV1WTXrnN",
   "metadata": {
    "colab": {
     "base_uri": "https://localhost:8080/",
     "height": 447
    },
    "id": "SpCxV1WTXrnN",
    "outputId": "9bbb8562-626f-4c1e-8438-5504a3e62a05"
   },
   "outputs": [
    {
     "data": {
      "text/plain": [
       "[<matplotlib.lines.Line2D at 0x788a1edeec20>]"
      ]
     },
     "execution_count": 132,
     "metadata": {},
     "output_type": "execute_result"
    },
    {
     "data": {
      "image/png": "[encoded data removed]",
      "text/plain": [
       "<Figure size 640x480 with 1 Axes>"
      ]
     },
     "metadata": {},
     "output_type": "display_data"
    }
   ],
   "source": [
    "plt.plot(val_batch_losses) #Same as above but no moving mean"
   ]
  },
  {
   "cell_type": "code",
   "execution_count": null,
   "id": "i7oevqGkXsd4",
   "metadata": {
    "id": "i7oevqGkXsd4"
   },
   "outputs": [],
   "source": []
  }
 ],
 "metadata": {
  "accelerator": "GPU",
  "colab": {
   "gpuType": "T4",
   "provenance": []
  },
  "kernelspec": {
   "display_name": "Python 3 (ipykernel)",
   "language": "python",
   "name": "python3"
  },
  "language_info": {
   "codemirror_mode": {
    "name": "ipython",
    "version": 3
   },
   "file_extension": ".py",
   "mimetype": "text/x-python",
   "name": "python",
   "nbconvert_exporter": "python",
   "pygments_lexer": "ipython3",
   "version": "3.11.3"
  },
  "widgets": {
   "application/vnd.jupyter.widget-state+json": {
    "1443390b0aa54470a55735f186f3c66f": {
     "model_module": "@jupyter-widgets/controls",
     "model_module_version": "1.5.0",
     "model_name": "DescriptionStyleModel",
     "state": {
      "_model_module": "@jupyter-widgets/controls",
      "_model_module_version": "1.5.0",
      "_model_name": "DescriptionStyleModel",
      "_view_count": null,
      "_view_module": "@jupyter-widgets/base",
      "_view_module_version": "1.2.0",
      "_view_name": "StyleView",
      "description_width": ""
     }
    },
    "4397f7a22d104a0e97039623a3923ced": {
     "model_module": "@jupyter-widgets/base",
     "model_module_version": "1.2.0",
     "model_name": "LayoutModel",
     "state": {
      "_model_module": "@jupyter-widgets/base",
      "_model_module_version": "1.2.0",
      "_model_name": "LayoutModel",
      "_view_count": null,
      "_view_module": "@jupyter-widgets/base",
      "_view_module_version": "1.2.0",
      "_view_name": "LayoutView",
      "align_content": null,
      "align_items": null,
      "align_self": null,
      "border": null,
      "bottom": null,
      "display": null,
      "flex": null,
      "flex_flow": null,
      "grid_area": null,
      "grid_auto_columns": null,
      "grid_auto_flow": null,
      "grid_auto_rows": null,
      "grid_column": null,
      "grid_gap": null,
      "grid_row": null,
      "grid_template_areas": null,
      "grid_template_columns": null,
      "grid_template_rows": null,
      "height": null,
      "justify_content": null,
      "justify_items": null,
      "left": null,
      "margin": null,
      "max_height": null,
      "max_width": null,
      "min_height": null,
      "min_width": null,
      "object_fit": null,
      "object_position": null,
      "order": null,
      "overflow": null,
      "overflow_x": null,
      "overflow_y": null,
      "padding": null,
      "right": null,
      "top": null,
      "visibility": null,
      "width": null
     }
    },
    "45f86713f1824c3588f3059a8b87090c": {
     "model_module": "@jupyter-widgets/base",
     "model_module_version": "1.2.0",
     "model_name": "LayoutModel",
     "state": {
      "_model_module": "@jupyter-widgets/base",
      "_model_module_version": "1.2.0",
      "_model_name": "LayoutModel",
      "_view_count": null,
      "_view_module": "@jupyter-widgets/base",
      "_view_module_version": "1.2.0",
      "_view_name": "LayoutView",
      "align_content": null,
      "align_items": null,
      "align_self": null,
      "border": null,
      "bottom": null,
      "display": null,
      "flex": null,
      "flex_flow": null,
      "grid_area": null,
      "grid_auto_columns": null,
      "grid_auto_flow": null,
      "grid_auto_rows": null,
      "grid_column": null,
      "grid_gap": null,
      "grid_row": null,
      "grid_template_areas": null,
      "grid_template_columns": null,
      "grid_template_rows": null,
      "height": null,
      "justify_content": null,
      "justify_items": null,
      "left": null,
      "margin": null,
      "max_height": null,
      "max_width": null,
      "min_height": null,
      "min_width": null,
      "object_fit": null,
      "object_position": null,
      "order": null,
      "overflow": null,
      "overflow_x": null,
      "overflow_y": null,
      "padding": null,
      "right": null,
      "top": null,
      "visibility": null,
      "width": null
     }
    },
    "6902611963b54e579fc7c403c946dc3f": {
     "model_module": "@jupyter-widgets/base",
     "model_module_version": "1.2.0",
     "model_name": "LayoutModel",
     "state": {
      "_model_module": "@jupyter-widgets/base",
      "_model_module_version": "1.2.0",
      "_model_name": "LayoutModel",
      "_view_count": null,
      "_view_module": "@jupyter-widgets/base",
      "_view_module_version": "1.2.0",
      "_view_name": "LayoutView",
      "align_content": null,
      "align_items": null,
      "align_self": null,
      "border": null,
      "bottom": null,
      "display": null,
      "flex": null,
      "flex_flow": null,
      "grid_area": null,
      "grid_auto_columns": null,
      "grid_auto_flow": null,
      "grid_auto_rows": null,
      "grid_column": null,
      "grid_gap": null,
      "grid_row": null,
      "grid_template_areas": null,
      "grid_template_columns": null,
      "grid_template_rows": null,
      "height": null,
      "justify_content": null,
      "justify_items": null,
      "left": null,
      "margin": null,
      "max_height": null,
      "max_width": null,
      "min_height": null,
      "min_width": null,
      "object_fit": null,
      "object_position": null,
      "order": null,
      "overflow": null,
      "overflow_x": null,
      "overflow_y": null,
      "padding": null,
      "right": null,
      "top": null,
      "visibility": null,
      "width": null
     }
    },
    "bc1b7ed7c54347fd8f2ad621c624c35e": {
     "model_module": "@jupyter-widgets/controls",
     "model_module_version": "1.5.0",
     "model_name": "FloatProgressModel",
     "state": {
      "_dom_classes": [],
      "_model_module": "@jupyter-widgets/controls",
      "_model_module_version": "1.5.0",
      "_model_name": "FloatProgressModel",
      "_view_count": null,
      "_view_module": "@jupyter-widgets/controls",
      "_view_module_version": "1.5.0",
      "_view_name": "ProgressView",
      "bar_style": "",
      "description": "",
      "description_tooltip": null,
      "layout": "IPY_MODEL_4397f7a22d104a0e97039623a3923ced",
      "max": 1,
      "min": 0,
      "orientation": "horizontal",
      "style": "IPY_MODEL_e51123f014254616ba679713c9d82ba6",
      "value": 0.0809395880691603
     }
    },
    "d49d6c5f8ef043249ee05ca844d52282": {
     "model_module": "@jupyter-widgets/controls",
     "model_module_version": "1.5.0",
     "model_name": "LabelModel",
     "state": {
      "_dom_classes": [],
      "_model_module": "@jupyter-widgets/controls",
      "_model_module_version": "1.5.0",
      "_model_name": "LabelModel",
      "_view_count": null,
      "_view_module": "@jupyter-widgets/controls",
      "_view_module_version": "1.5.0",
      "_view_name": "LabelView",
      "description": "",
      "description_tooltip": null,
      "layout": "IPY_MODEL_6902611963b54e579fc7c403c946dc3f",
      "placeholder": "​",
      "style": "IPY_MODEL_1443390b0aa54470a55735f186f3c66f",
      "value": "0.001 MB of 0.014 MB uploaded (0.000 MB deduped)\r"
     }
    },
    "daf19b4133994b72bf19db9eda17cb57": {
     "model_module": "@jupyter-widgets/controls",
     "model_module_version": "1.5.0",
     "model_name": "VBoxModel",
     "state": {
      "_dom_classes": [],
      "_model_module": "@jupyter-widgets/controls",
      "_model_module_version": "1.5.0",
      "_model_name": "VBoxModel",
      "_view_count": null,
      "_view_module": "@jupyter-widgets/controls",
      "_view_module_version": "1.5.0",
      "_view_name": "VBoxView",
      "box_style": "",
      "children": [
       "IPY_MODEL_d49d6c5f8ef043249ee05ca844d52282",
       "IPY_MODEL_bc1b7ed7c54347fd8f2ad621c624c35e"
      ],
      "layout": "IPY_MODEL_45f86713f1824c3588f3059a8b87090c"
     }
    },
    "e51123f014254616ba679713c9d82ba6": {
     "model_module": "@jupyter-widgets/controls",
     "model_module_version": "1.5.0",
     "model_name": "ProgressStyleModel",
     "state": {
      "_model_module": "@jupyter-widgets/controls",
      "_model_module_version": "1.5.0",
      "_model_name": "ProgressStyleModel",
      "_view_count": null,
      "_view_module": "@jupyter-widgets/base",
      "_view_module_version": "1.2.0",
      "_view_name": "StyleView",
      "bar_color": null,
      "description_width": ""
     }
    }
   }
  }
 },
 "nbformat": 4,
 "nbformat_minor": 5
}
