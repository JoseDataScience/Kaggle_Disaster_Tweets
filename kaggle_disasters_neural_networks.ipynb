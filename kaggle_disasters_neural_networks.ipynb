{
 "cells": [
  {
   "cell_type": "code",
   "execution_count": 1,
   "id": "f1df1b97-5c58-40e3-a751-290ba8da03be",
   "metadata": {
    "tags": []
   },
   "outputs": [],
   "source": [
    "import numpy as np # linear algebra\n",
    "import pandas as pd # data processing, CSV file I/O (e.g. pd.read_csv)\n",
    "from sklearn import feature_extraction, linear_model, model_selection, preprocessing, metrics\n",
    "from sklearn.model_selection import train_test_split\n",
    "\n",
    "import torch\n",
    "import torch.nn as nn"
   ]
  },
  {
   "cell_type": "markdown",
   "id": "180a51e3-e74c-4796-8562-8b32fd479b84",
   "metadata": {},
   "source": [
    "### Importing the training set and saving it as train_df"
   ]
  },
  {
   "cell_type": "code",
   "execution_count": 2,
   "id": "70be1d81-f2eb-416d-af30-65529b8dff24",
   "metadata": {},
   "outputs": [
    {
     "data": {
      "text/html": [
       "<div>\n",
       "<style scoped>\n",
       "    .dataframe tbody tr th:only-of-type {\n",
       "        vertical-align: middle;\n",
       "    }\n",
       "\n",
       "    .dataframe tbody tr th {\n",
       "        vertical-align: top;\n",
       "    }\n",
       "\n",
       "    .dataframe thead th {\n",
       "        text-align: right;\n",
       "    }\n",
       "</style>\n",
       "<table border=\"1\" class=\"dataframe\">\n",
       "  <thead>\n",
       "    <tr style=\"text-align: right;\">\n",
       "      <th></th>\n",
       "      <th>location</th>\n",
       "      <th>text</th>\n",
       "      <th>target</th>\n",
       "    </tr>\n",
       "    <tr>\n",
       "      <th>id</th>\n",
       "      <th></th>\n",
       "      <th></th>\n",
       "      <th></th>\n",
       "    </tr>\n",
       "  </thead>\n",
       "  <tbody>\n",
       "    <tr>\n",
       "      <th>1</th>\n",
       "      <td>NaN</td>\n",
       "      <td>Our Deeds are the Reason of this #earthquake M...</td>\n",
       "      <td>1</td>\n",
       "    </tr>\n",
       "    <tr>\n",
       "      <th>4</th>\n",
       "      <td>NaN</td>\n",
       "      <td>Forest fire near La Ronge Sask. Canada</td>\n",
       "      <td>1</td>\n",
       "    </tr>\n",
       "    <tr>\n",
       "      <th>5</th>\n",
       "      <td>NaN</td>\n",
       "      <td>All residents asked to 'shelter in place' are ...</td>\n",
       "      <td>1</td>\n",
       "    </tr>\n",
       "    <tr>\n",
       "      <th>6</th>\n",
       "      <td>NaN</td>\n",
       "      <td>13,000 people receive #wildfires evacuation or...</td>\n",
       "      <td>1</td>\n",
       "    </tr>\n",
       "    <tr>\n",
       "      <th>7</th>\n",
       "      <td>NaN</td>\n",
       "      <td>Just got sent this photo from Ruby #Alaska as ...</td>\n",
       "      <td>1</td>\n",
       "    </tr>\n",
       "    <tr>\n",
       "      <th>...</th>\n",
       "      <td>...</td>\n",
       "      <td>...</td>\n",
       "      <td>...</td>\n",
       "    </tr>\n",
       "    <tr>\n",
       "      <th>10869</th>\n",
       "      <td>NaN</td>\n",
       "      <td>Two giant cranes holding a bridge collapse int...</td>\n",
       "      <td>1</td>\n",
       "    </tr>\n",
       "    <tr>\n",
       "      <th>10870</th>\n",
       "      <td>NaN</td>\n",
       "      <td>@aria_ahrary @TheTawniest The out of control w...</td>\n",
       "      <td>1</td>\n",
       "    </tr>\n",
       "    <tr>\n",
       "      <th>10871</th>\n",
       "      <td>NaN</td>\n",
       "      <td>M1.94 [01:04 UTC]?5km S of Volcano Hawaii. htt...</td>\n",
       "      <td>1</td>\n",
       "    </tr>\n",
       "    <tr>\n",
       "      <th>10872</th>\n",
       "      <td>NaN</td>\n",
       "      <td>Police investigating after an e-bike collided ...</td>\n",
       "      <td>1</td>\n",
       "    </tr>\n",
       "    <tr>\n",
       "      <th>10873</th>\n",
       "      <td>NaN</td>\n",
       "      <td>The Latest: More Homes Razed by Northern Calif...</td>\n",
       "      <td>1</td>\n",
       "    </tr>\n",
       "  </tbody>\n",
       "</table>\n",
       "<p>7613 rows × 3 columns</p>\n",
       "</div>"
      ],
      "text/plain": [
       "      location                                               text  target\n",
       "id                                                                       \n",
       "1          NaN  Our Deeds are the Reason of this #earthquake M...       1\n",
       "4          NaN             Forest fire near La Ronge Sask. Canada       1\n",
       "5          NaN  All residents asked to 'shelter in place' are ...       1\n",
       "6          NaN  13,000 people receive #wildfires evacuation or...       1\n",
       "7          NaN  Just got sent this photo from Ruby #Alaska as ...       1\n",
       "...        ...                                                ...     ...\n",
       "10869      NaN  Two giant cranes holding a bridge collapse int...       1\n",
       "10870      NaN  @aria_ahrary @TheTawniest The out of control w...       1\n",
       "10871      NaN  M1.94 [01:04 UTC]?5km S of Volcano Hawaii. htt...       1\n",
       "10872      NaN  Police investigating after an e-bike collided ...       1\n",
       "10873      NaN  The Latest: More Homes Razed by Northern Calif...       1\n",
       "\n",
       "[7613 rows x 3 columns]"
      ]
     },
     "execution_count": 2,
     "metadata": {},
     "output_type": "execute_result"
    }
   ],
   "source": [
    "train_df = pd.read_csv('train.csv', index_col= 0)\n",
    "train_df.drop(\"keyword\", axis= 1, inplace = True) #Dropping keyword because I want to the model to pick up on keywords\n",
    "train_df"
   ]
  },
  {
   "cell_type": "markdown",
   "id": "96b774d4-aacd-41f6-b383-3762e31154b9",
   "metadata": {},
   "source": [
    "### Importing test set just like the training set"
   ]
  },
  {
   "cell_type": "code",
   "execution_count": 3,
   "id": "830d851d-a022-4c0d-b84a-3721f02b9a0e",
   "metadata": {
    "tags": []
   },
   "outputs": [
    {
     "data": {
      "text/html": [
       "<div>\n",
       "<style scoped>\n",
       "    .dataframe tbody tr th:only-of-type {\n",
       "        vertical-align: middle;\n",
       "    }\n",
       "\n",
       "    .dataframe tbody tr th {\n",
       "        vertical-align: top;\n",
       "    }\n",
       "\n",
       "    .dataframe thead th {\n",
       "        text-align: right;\n",
       "    }\n",
       "</style>\n",
       "<table border=\"1\" class=\"dataframe\">\n",
       "  <thead>\n",
       "    <tr style=\"text-align: right;\">\n",
       "      <th></th>\n",
       "      <th>location</th>\n",
       "      <th>text</th>\n",
       "    </tr>\n",
       "    <tr>\n",
       "      <th>id</th>\n",
       "      <th></th>\n",
       "      <th></th>\n",
       "    </tr>\n",
       "  </thead>\n",
       "  <tbody>\n",
       "    <tr>\n",
       "      <th>0</th>\n",
       "      <td>NaN</td>\n",
       "      <td>Just happened a terrible car crash</td>\n",
       "    </tr>\n",
       "    <tr>\n",
       "      <th>2</th>\n",
       "      <td>NaN</td>\n",
       "      <td>Heard about #earthquake is different cities, s...</td>\n",
       "    </tr>\n",
       "    <tr>\n",
       "      <th>3</th>\n",
       "      <td>NaN</td>\n",
       "      <td>there is a forest fire at spot pond, geese are...</td>\n",
       "    </tr>\n",
       "    <tr>\n",
       "      <th>9</th>\n",
       "      <td>NaN</td>\n",
       "      <td>Apocalypse lighting. #Spokane #wildfires</td>\n",
       "    </tr>\n",
       "    <tr>\n",
       "      <th>11</th>\n",
       "      <td>NaN</td>\n",
       "      <td>Typhoon Soudelor kills 28 in China and Taiwan</td>\n",
       "    </tr>\n",
       "    <tr>\n",
       "      <th>...</th>\n",
       "      <td>...</td>\n",
       "      <td>...</td>\n",
       "    </tr>\n",
       "    <tr>\n",
       "      <th>10861</th>\n",
       "      <td>NaN</td>\n",
       "      <td>EARTHQUAKE SAFETY LOS ANGELES ÛÒ SAFETY FASTE...</td>\n",
       "    </tr>\n",
       "    <tr>\n",
       "      <th>10865</th>\n",
       "      <td>NaN</td>\n",
       "      <td>Storm in RI worse than last hurricane. My city...</td>\n",
       "    </tr>\n",
       "    <tr>\n",
       "      <th>10868</th>\n",
       "      <td>NaN</td>\n",
       "      <td>Green Line derailment in Chicago http://t.co/U...</td>\n",
       "    </tr>\n",
       "    <tr>\n",
       "      <th>10874</th>\n",
       "      <td>NaN</td>\n",
       "      <td>MEG issues Hazardous Weather Outlook (HWO) htt...</td>\n",
       "    </tr>\n",
       "    <tr>\n",
       "      <th>10875</th>\n",
       "      <td>NaN</td>\n",
       "      <td>#CityofCalgary has activated its Municipal Eme...</td>\n",
       "    </tr>\n",
       "  </tbody>\n",
       "</table>\n",
       "<p>3263 rows × 2 columns</p>\n",
       "</div>"
      ],
      "text/plain": [
       "      location                                               text\n",
       "id                                                               \n",
       "0          NaN                 Just happened a terrible car crash\n",
       "2          NaN  Heard about #earthquake is different cities, s...\n",
       "3          NaN  there is a forest fire at spot pond, geese are...\n",
       "9          NaN           Apocalypse lighting. #Spokane #wildfires\n",
       "11         NaN      Typhoon Soudelor kills 28 in China and Taiwan\n",
       "...        ...                                                ...\n",
       "10861      NaN  EARTHQUAKE SAFETY LOS ANGELES ÛÒ SAFETY FASTE...\n",
       "10865      NaN  Storm in RI worse than last hurricane. My city...\n",
       "10868      NaN  Green Line derailment in Chicago http://t.co/U...\n",
       "10874      NaN  MEG issues Hazardous Weather Outlook (HWO) htt...\n",
       "10875      NaN  #CityofCalgary has activated its Municipal Eme...\n",
       "\n",
       "[3263 rows x 2 columns]"
      ]
     },
     "execution_count": 3,
     "metadata": {},
     "output_type": "execute_result"
    }
   ],
   "source": [
    "test_df = pd.read_csv('test.csv', index_col= 0)\n",
    "test_df.drop(\"keyword\", axis= 1, inplace = True) #Dropping keyword because I want to the model to pick up on keywords\n",
    "test_df"
   ]
  },
  {
   "cell_type": "markdown",
   "id": "029c143a-1e6a-4572-998e-245694a8d9b9",
   "metadata": {},
   "source": [
    "# Doing my own independent analysis"
   ]
  },
  {
   "cell_type": "markdown",
   "id": "974e0515-5fbb-488f-b27d-fa722d85cba8",
   "metadata": {},
   "source": [
    "### Creating another matrix for the words instead of CountVectorizer"
   ]
  },
  {
   "cell_type": "code",
   "execution_count": 4,
   "id": "dcf96018-6a2d-412c-a26d-ae683cd7d668",
   "metadata": {
    "tags": []
   },
   "outputs": [
    {
     "data": {
      "text/plain": [
       "<7613x6594 sparse matrix of type '<class 'numpy.float64'>'\n",
       "\twith 96454 stored elements in Compressed Sparse Row format>"
      ]
     },
     "execution_count": 4,
     "metadata": {},
     "output_type": "execute_result"
    }
   ],
   "source": [
    "from sklearn.feature_extraction.text import TfidfVectorizer\n",
    "\n",
    "#Previously we were using countvectorizer which weights all words the same. Instead we'll use TF-IDF to determine how relevant certain terms are. \n",
    "#This should make common words like \"a\" and \"the\" less important and improve our model. We'll also use min_df = 2.\n",
    "#This is so we only consider words that show up more than once. This should help reduce the \"noise\"\n",
    "\n",
    "tfidf_vectorizer = TfidfVectorizer(min_df = 2)\n",
    "\n",
    "# Using fit_transform to \"train\" the tokenizer on our training set\n",
    "train_vectors = tfidf_vectorizer.fit_transform(train_df[\"text\"])\n",
    "\n",
    "# Same as before\n",
    "test_vectors = tfidf_vectorizer.transform(test_df[\"text\"])\n",
    "\n",
    "\n",
    "#We go from over 20,000 tokens being considered down to only 6,500.\n",
    "#There's still 7613 rows of data (each row corresponds to a tweet)\n",
    "train_vectors"
   ]
  },
  {
   "cell_type": "markdown",
   "id": "ddc43adf-2768-449d-bffb-eadad85b575a",
   "metadata": {},
   "source": [
    "### Applying LSA to our new matrix\n",
    "Now that we have a matrix with fewer words we'll apply a second trick: LSA (Latent Semantic Analysis)\n",
    "Essentially we're applying SVD (Singular Value Decomposition) to extract the most important information in the form of uncorrelated vectors.\n",
    "\n",
    "We do this because the dimensionality is still high and we might get better results by essentially ignoring noisy components of the word-matrix."
   ]
  },
  {
   "cell_type": "code",
   "execution_count": 5,
   "id": "aadec520-804c-4f43-955b-6ad1b2dba67e",
   "metadata": {
    "tags": []
   },
   "outputs": [],
   "source": [
    "def Cumulative(lists):\n",
    "    cu_list = []\n",
    "    length = len(lists)\n",
    "    cu_list = [sum(lists[0:x:1]) for x in range(0, length+1)]\n",
    "    return cu_list[1:]"
   ]
  },
  {
   "cell_type": "code",
   "execution_count": 6,
   "id": "bd769408-96a1-4791-a29c-84193f76d191",
   "metadata": {
    "tags": []
   },
   "outputs": [
    {
     "data": {
      "text/plain": [
       "[<matplotlib.lines.Line2D at 0x1fa00b70310>]"
      ]
     },
     "execution_count": 6,
     "metadata": {},
     "output_type": "execute_result"
    },
    {
     "data": {
      "image/png": "[encoded data removed]",
      "text/plain": [
       "<Figure size 640x480 with 1 Axes>"
      ]
     },
     "metadata": {},
     "output_type": "display_data"
    }
   ],
   "source": [
    "from sklearn.decomposition import TruncatedSVD\n",
    "\n",
    "comp_used = 1500 #With just 1500 out of 6500+ possible components used we can explain 78% of the variance.\n",
    "#With 1000 components we can explain 68% of the variance\n",
    "\n",
    "svd = TruncatedSVD(n_components = comp_used, random_state = 1) #Initializing the SVD settings. We intend to keep comp_used components\n",
    "\n",
    "svd.fit(train_vectors) #Using the SVD settings from before to fit our matrix into the SVD model. We can then use transform to \"apply\" it to other matrices\n",
    "#Not 100% sure how it works but I believe when using transform it calculates the new U times singular value matrix BUT uses the same V. \n",
    "\n",
    "import matplotlib.pyplot as plt\n",
    "%matplotlib inline\n",
    "\n",
    "c = Cumulative(svd.explained_variance_)\n",
    "plt.plot(range(len(svd.explained_variance_)), c, '.') #A plot of variance explained vs number of components used\n"
   ]
  },
  {
   "cell_type": "markdown",
   "id": "ee90d54d-22a2-4763-b52a-39861fbbc95a",
   "metadata": {},
   "source": [
    "### Using a simple neural network to predict classification with LSA"
   ]
  },
  {
   "cell_type": "code",
   "execution_count": 8,
   "id": "ffccc77f-9d6a-48d5-9a20-81d10147600a",
   "metadata": {
    "tags": []
   },
   "outputs": [],
   "source": [
    "import torch\n",
    "from torch import nn\n",
    "from torcheval.metrics.functional import multiclass_f1_score\n",
    "\n",
    "dtype = torch.float\n",
    "device = torch.device(\"cuda:0\")\n",
    "\n",
    "learning_rate = 1e-6"
   ]
  },
  {
   "cell_type": "code",
   "execution_count": 206,
   "id": "5f284394-dba9-4c0a-9008-ad14a20a80f8",
   "metadata": {
    "tags": []
   },
   "outputs": [],
   "source": [
    "X_train, X_test, y_train, y_test = train_test_split(train_vectors, train_df[\"target\"].values, test_size= 0.2, random_state=42)\n",
    "\n",
    "X_train = torch.tensor(svd.transform(X_train), device = device, dtype = dtype, requires_grad = True)\n",
    "y_train = torch.tensor(y_train, device = device, dtype = dtype, requires_grad = True)\n",
    "\n",
    "\n",
    "X_test = torch.tensor(svd.transform(X_test), device = device, dtype = dtype, requires_grad = False)\n",
    "y_test = torch.tensor(y_test, device = device, dtype = dtype, requires_grad = False)"
   ]
  },
  {
   "cell_type": "code",
   "execution_count": 228,
   "id": "5341e869-7d0e-495e-b399-f5603a8da346",
   "metadata": {
    "tags": []
   },
   "outputs": [
    {
     "name": "stdout",
     "output_type": "stream",
     "text": [
      "0 0.24622556567192078\n",
      "25 0.24556560814380646\n",
      "50 0.2452436089515686\n",
      "75 0.24470344185829163\n",
      "100 0.24475699663162231\n",
      "125 0.2451639026403427\n",
      "150 0.24486196041107178\n",
      "175 0.24417416751384735\n",
      "200 0.24399836361408234\n",
      "225 0.244033083319664\n",
      "250 0.24311916530132294\n",
      "275 0.2413799911737442\n",
      "300 0.23925815522670746\n",
      "325 0.2353847175836563\n",
      "350 0.22660531103610992\n",
      "375 0.21010425686836243\n",
      "400 0.18629693984985352\n",
      "425 0.1622619330883026\n",
      "450 0.14261122047901154\n",
      "475 0.1283063143491745\n"
     ]
    }
   ],
   "source": [
    "model = nn.Sequential(\n",
    "    nn.Linear(1500, 50),\n",
    "    nn.ReLU(),\n",
    "    nn.Linear(50, 50),\n",
    "    nn.ReLU(),\n",
    "    nn.Linear(50,1),\n",
    "    nn.Sigmoid()\n",
    ")\n",
    "model.to(device)\n",
    "\n",
    "optimizer = torch.optim.SGD(model.parameters(), lr=1e-1, momentum=0.9)\n",
    "loss_fn = torch.nn.MSELoss()\n",
    "\n",
    "rs = model_selection.ShuffleSplit(n_splits=100,test_size= 0.1, random_state = 3)\n",
    "\n",
    "iter_list = [0]*100\n",
    "\n",
    "for i,(train_index,test_index) in enumerate(rs.split(X_train)):\n",
    "    iter_list[i] = train_index\n",
    "\n",
    "ep = 500\n",
    "l = [0]*ep\n",
    "f = [0]*ep\n",
    "\n",
    "\n",
    "for i in range(ep):\n",
    "    t = i%100\n",
    "    # Forward pass: Compute predicted y by passing x to the model\n",
    "    y_pred = model(X_train[iter_list[t]]).squeeze()\n",
    "\n",
    "    # Compute and print loss\n",
    "    loss = loss_fn(y_pred,y_train[iter_list[t]])#multiclass_f1_score(y_pred, y)\n",
    "    if i % 25 == 0:\n",
    "        print(i, loss.item())\n",
    " \n",
    "    x_temp = model(X_test).squeeze().cpu().detach().numpy().round()\n",
    "    y_temp = y_test.cpu().detach().numpy().round()\n",
    "    f[i] = metrics.f1_score(x_temp, y_temp)\n",
    "        \n",
    "    # Zero gradients, perform a backward pass, and update the weights.\n",
    "    l[i] = loss.cpu().detach().numpy()\n",
    "    optimizer.zero_grad()\n",
    "    loss.backward()\n",
    "    optimizer.step()"
   ]
  },
  {
   "cell_type": "code",
   "execution_count": 229,
   "id": "bd3c1a3e-6f20-4ac2-89d2-99933bf340e0",
   "metadata": {
    "tags": []
   },
   "outputs": [
    {
     "data": {
      "text/plain": [
       "[<matplotlib.lines.Line2D at 0x1f088d98050>]"
      ]
     },
     "execution_count": 229,
     "metadata": {},
     "output_type": "execute_result"
    },
    {
     "data": {
      "image/png": "[encoded data removed]",
      "text/plain": [
       "<Figure size 640x480 with 1 Axes>"
      ]
     },
     "metadata": {},
     "output_type": "display_data"
    }
   ],
   "source": [
    "plt.plot(f) #Inverse F1 score where 1 is bad and 0 is good."
   ]
  },
  {
   "cell_type": "code",
   "execution_count": 230,
   "id": "f6859e19-b2c7-41d3-948e-8a6015d02428",
   "metadata": {
    "tags": []
   },
   "outputs": [
    {
     "data": {
      "text/plain": [
       "[<matplotlib.lines.Line2D at 0x1f088e188d0>]"
      ]
     },
     "execution_count": 230,
     "metadata": {},
     "output_type": "execute_result"
    },
    {
     "data": {
      "image/png": "[encoded data removed]",
      "text/plain": [
       "<Figure size 640x480 with 1 Axes>"
      ]
     },
     "metadata": {},
     "output_type": "display_data"
    }
   ],
   "source": [
    "plt.plot(l)"
   ]
  },
  {
   "cell_type": "markdown",
   "id": "442148df-e2c9-4de0-bb65-ed46f208bc8f",
   "metadata": {},
   "source": [
    "### Training the model but with all the data now"
   ]
  },
  {
   "cell_type": "code",
   "execution_count": 10,
   "id": "417ef6f1-b12f-488f-83b6-aa1e6dd38fe5",
   "metadata": {
    "tags": []
   },
   "outputs": [
    {
     "name": "stdout",
     "output_type": "stream",
     "text": [
      "0 0.25042223930358887\n",
      "25 0.24561807513237\n",
      "50 0.24476613104343414\n",
      "75 0.24470598995685577\n",
      "100 0.24451573193073273\n",
      "125 0.24475935101509094\n",
      "150 0.24412518739700317\n",
      "175 0.2437926083803177\n",
      "200 0.24310654401779175\n",
      "225 0.24249407649040222\n",
      "250 0.2403690069913864\n",
      "275 0.23718301951885223\n",
      "300 0.23101116716861725\n",
      "325 0.21945205330848694\n",
      "350 0.19913937151432037\n",
      "375 0.17512258887290955\n",
      "400 0.1544673889875412\n",
      "425 0.13760900497436523\n",
      "450 0.1264604926109314\n",
      "475 0.11794887483119965\n"
     ]
    }
   ],
   "source": [
    "model = nn.Sequential(\n",
    "    nn.Linear(1500, 50),\n",
    "    nn.ReLU(),\n",
    "    nn.Linear(50, 50),\n",
    "    nn.ReLU(),\n",
    "    nn.Linear(50,1),\n",
    "    nn.Sigmoid()\n",
    ")\n",
    "model.to(device)\n",
    "\n",
    "optimizer = torch.optim.SGD(model.parameters(), lr=1e-1, momentum=0.9)\n",
    "loss_fn = torch.nn.MSELoss()\n",
    "\n",
    "rs = model_selection.ShuffleSplit(n_splits=100,test_size= 0.1, random_state = 3)\n",
    "\n",
    "iter_list = [0]*100\n",
    "\n",
    "for i,(train_index,test_index) in enumerate(rs.split(train_vectors)):\n",
    "    iter_list[i] = train_index\n",
    "\n",
    "ep = 500\n",
    "l = [0]*ep\n",
    "\n",
    "X_train = torch.tensor(svd.transform(train_vectors), device = device, dtype = dtype, requires_grad = False)\n",
    "y_train = torch.tensor(train_df[\"target\"].values, device = device, dtype = dtype, requires_grad = False)\n",
    "\n",
    "for i in range(ep):\n",
    "    t = i%100\n",
    "    # Forward pass: Compute predicted y by passing x to the model\n",
    "    y_pred = model(X_train[iter_list[t]]).squeeze()\n",
    "\n",
    "    # Compute and print loss\n",
    "    loss = loss_fn(y_pred,y_train[iter_list[t]])#multiclass_f1_score(y_pred, y)\n",
    "    if i % 25 == 0:\n",
    "        print(i, loss.item()) \n",
    "        \n",
    "    # Zero gradients, perform a backward pass, and update the weights.\n",
    "    l[i] = loss.cpu().detach().numpy()\n",
    "    optimizer.zero_grad()\n",
    "    loss.backward()\n",
    "    optimizer.step()"
   ]
  },
  {
   "cell_type": "code",
   "execution_count": 11,
   "id": "4cbe7514-df8c-4564-be8d-184bbd467324",
   "metadata": {
    "tags": []
   },
   "outputs": [
    {
     "data": {
      "text/plain": [
       "[<matplotlib.lines.Line2D at 0x1fa0dcf2010>]"
      ]
     },
     "execution_count": 11,
     "metadata": {},
     "output_type": "execute_result"
    },
    {
     "data": {
      "image/png": "[encoded data removed]",
      "text/plain": [
       "<Figure size 640x480 with 1 Axes>"
      ]
     },
     "metadata": {},
     "output_type": "display_data"
    }
   ],
   "source": [
    "plt.plot(l)"
   ]
  },
  {
   "cell_type": "code",
   "execution_count": 38,
   "id": "e73aa5aa-a5c5-4fb3-a596-3ad4a555d0e8",
   "metadata": {},
   "outputs": [],
   "source": [
    "X_test = torch.tensor(svd.transform(test_vectors), device = device, dtype = dtype, requires_grad = False)\n",
    "Y_test = model(X_test).squeeze()"
   ]
  },
  {
   "cell_type": "code",
   "execution_count": 45,
   "id": "0a9abd65-15cb-435f-8f52-8fa986daa83e",
   "metadata": {
    "tags": []
   },
   "outputs": [],
   "source": [
    "import numpy"
   ]
  },
  {
   "cell_type": "code",
   "execution_count": 46,
   "id": "36767422-de13-4b44-b9ad-6b9cd6ccc690",
   "metadata": {
    "tags": []
   },
   "outputs": [],
   "source": [
    "y_df = pd.DataFrame(numpy.rint(Y_test.cpu().detach().numpy()), columns = [\"target\"]).set_index(test_df.index)"
   ]
  },
  {
   "cell_type": "code",
   "execution_count": 49,
   "id": "a75b9a5d-0d17-4a0a-acac-0642c7c96750",
   "metadata": {
    "tags": []
   },
   "outputs": [],
   "source": [
    "y_df = y_df.astype({'target':'int'})"
   ]
  },
  {
   "cell_type": "code",
   "execution_count": 51,
   "id": "2e3d9f44-eef5-4042-ba5e-a366a8225c42",
   "metadata": {
    "tags": []
   },
   "outputs": [],
   "source": [
    "y_df.to_csv(\"submission_nn.csv\")"
   ]
  }
 ],
 "metadata": {
  "kernelspec": {
   "display_name": "Python 3 (ipykernel)",
   "language": "python",
   "name": "python3"
  },
  "language_info": {
   "codemirror_mode": {
    "name": "ipython",
    "version": 3
   },
   "file_extension": ".py",
   "mimetype": "text/x-python",
   "name": "python",
   "nbconvert_exporter": "python",
   "pygments_lexer": "ipython3",
   "version": "3.11.3"
  }
 },
 "nbformat": 4,
 "nbformat_minor": 5
}
